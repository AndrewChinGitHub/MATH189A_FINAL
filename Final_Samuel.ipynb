{
 "cells": [
  {
   "cell_type": "code",
   "execution_count": 116,
   "metadata": {},
   "outputs": [],
   "source": [
    "%matplotlib inline \n",
    "import numpy as np\n",
    "import pandas as pd\n",
    "import seaborn as sns\n",
    "import matplotlib.pyplot as plt\n",
    "import math\n",
    "import math as m\n",
    "\n",
    "import statsmodels.api as sm\n",
    "\n",
    "import statsmodels.formula.api as smf\n",
    "\n",
    "from scipy import stats\n",
    "\n",
    "from scipy.stats import kurtosis \n",
    "from scipy.stats import skew"
   ]
  },
  {
   "cell_type": "markdown",
   "metadata": {},
   "source": [
    "### Clean the data"
   ]
  },
  {
   "cell_type": "code",
   "execution_count": 50,
   "metadata": {},
   "outputs": [],
   "source": [
    "Lake_Bilancino = pd.read_csv('Lake_Bilancino.csv')"
   ]
  },
  {
   "cell_type": "code",
   "execution_count": 51,
   "metadata": {},
   "outputs": [
    {
     "name": "stdout",
     "output_type": "stream",
     "text": [
      "Date                    0.000000\n",
      "Rainfall_S_Piero        1.000000\n",
      "Rainfall_Mangona        1.000000\n",
      "Rainfall_S_Agata        1.000000\n",
      "Rainfall_Cavallina      1.000000\n",
      "Rainfall_Le_Croci       1.000000\n",
      "Temperature_Le_Croci    1.000000\n",
      "Lake_Level              0.000000\n",
      "Flow_Rate               0.036395\n",
      "dtype: float64\n"
     ]
    }
   ],
   "source": [
    "# There aren't any valid values until Jan 01 2004\n",
    "print(Lake_Bilancino[:577].isna().mean())"
   ]
  },
  {
   "cell_type": "code",
   "execution_count": 52,
   "metadata": {},
   "outputs": [],
   "source": [
    "# Cut the data from then Jan 01 2004\n",
    "Lake_Bilancino_Cut = Lake_Bilancino[577:].reset_index(drop = True)\n",
    "\n",
    "# Imputation \n",
    "Lake_Bilancino_Cut.loc[Lake_Bilancino_Cut.Date == '01/01/2004', 'Temperature_Le_Croci'] = Lake_Bilancino_Cut.Temperature_Le_Croci.mean()"
   ]
  },
  {
   "cell_type": "code",
   "execution_count": 53,
   "metadata": {},
   "outputs": [],
   "source": [
    "# Create month column \n",
    "Lake_Bilancino_Cut['Month'] = Lake_Bilancino_Cut.Date.apply(lambda x: x[3:5])\n",
    "\n",
    "# Create year column \n",
    "Lake_Bilancino_Cut['Year'] = Lake_Bilancino_Cut.Date.apply(lambda x: x[6:10])"
   ]
  },
  {
   "cell_type": "code",
   "execution_count": 55,
   "metadata": {},
   "outputs": [],
   "source": [
    "# Spring- March April May \n",
    "# Summer-June July august \n",
    "# Autumn- September, October, November \n",
    "# Winter- December January February\n",
    "\n",
    "# Apply Season Funtion\n",
    "def make_season(season):\n",
    "    if season in ['03','04','05']:\n",
    "        return 'Spring'\n",
    "    elif season in ['06','07','08']:\n",
    "        return 'Summer'\n",
    "    elif season in ['09','10','11']:\n",
    "        return 'Autumn'\n",
    "    else:\n",
    "        return 'Winter'"
   ]
  },
  {
   "cell_type": "code",
   "execution_count": 185,
   "metadata": {},
   "outputs": [],
   "source": [
    "Lake_Bilancino_Cut['Season'] = Lake_Bilancino_Cut.Month.apply(make_season)"
   ]
  },
  {
   "cell_type": "markdown",
   "metadata": {},
   "source": [
    "### Questions and Methods\n",
    "1. Analyze flow rate and water level between seasons\n",
    "    - Kurtosis Simulation Test\n",
    "    - Kruskal - Wallis Test"
   ]
  },
  {
   "cell_type": "markdown",
   "metadata": {},
   "source": [
    "#### Lake Level "
   ]
  },
  {
   "cell_type": "code",
   "execution_count": 91,
   "metadata": {},
   "outputs": [
    {
     "data": {
      "text/plain": [
       "Spring    1564\n",
       "Winter    1504\n",
       "Summer    1502\n",
       "Autumn    1456\n",
       "Name: Season, dtype: int64"
      ]
     },
     "execution_count": 91,
     "metadata": {},
     "output_type": "execute_result"
    }
   ],
   "source": [
    "Lake_Bilancino_Cut.Season.value_counts()"
   ]
  },
  {
   "cell_type": "code",
   "execution_count": 203,
   "metadata": {},
   "outputs": [
    {
     "name": "stdout",
     "output_type": "stream",
     "text": [
      "\n",
      "Kurtosis for normal distribution (should be 0): -0.5033583017134986\n",
      "Skewness of normal distribution (should be 0): -0.7522411671581641\n"
     ]
    },
    {
     "data": {
      "image/png": "[encoded data removed]",
      "text/plain": [
       "<Figure size 432x288 with 1 Axes>"
      ]
     },
     "metadata": {
      "needs_background": "light"
     },
     "output_type": "display_data"
    }
   ],
   "source": [
    "Lake_Bilancino_Cut.Lake_Level.hist()\n",
    "#Lake_Bilancino_Cut.Lake_Level.describe()\n",
    "#sns.histplot(data=Lake_Bilancino_Cut, x=\"Lake_Level\")\n",
    "\n",
    "print( '\\nKurtosis for normal distribution (should be 0):', kurtosis(Lake_Bilancino_Cut.Lake_Level)) \n",
    "print( 'Skewness of normal distribution (should be 0): {}'.format(skew(Lake_Bilancino_Cut.Lake_Level)))"
   ]
  },
  {
   "cell_type": "code",
   "execution_count": 201,
   "metadata": {},
   "outputs": [
    {
     "name": "stdout",
     "output_type": "stream",
     "text": [
      "\n",
      "Kurtosis for normal distribution (should be 0): 7.908177509668862\n",
      "Skewness of normal distribution (should be 0): -2.746259672934576\n"
     ]
    },
    {
     "data": {
      "image/png": "[encoded data removed]",
      "text/plain": [
       "<Figure size 432x288 with 1 Axes>"
      ]
     },
     "metadata": {
      "needs_background": "light"
     },
     "output_type": "display_data"
    }
   ],
   "source": [
    "Lake_Bilancino_Cut[Lake_Bilancino_Cut.Season == 'Spring'].Lake_Level.hist()\n",
    "Spring_Lake_Level = Lake_Bilancino_Cut[Lake_Bilancino_Cut.Season == 'Spring'].Lake_Level\n",
    "print( '\\nKurtosis for normal distribution (should be 0):', kurtosis(Spring_Lake_Level)) \n",
    "print( 'Skewness of normal distribution (should be 0): {}'.format(skew(Spring_Lake_Level)))"
   ]
  },
  {
   "cell_type": "code",
   "execution_count": 121,
   "metadata": {},
   "outputs": [
    {
     "name": "stdout",
     "output_type": "stream",
     "text": [
      "\n",
      "Kurtosis for normal distribution (should be 0): -0.49416624536716514\n",
      "Skewness of normal distribution (should be 0): -0.7522149298567467\n"
     ]
    },
    {
     "data": {
      "image/png": "[encoded data removed]",
      "text/plain": [
       "<Figure size 432x288 with 1 Axes>"
      ]
     },
     "metadata": {
      "needs_background": "light"
     },
     "output_type": "display_data"
    }
   ],
   "source": [
    "Lake_Bilancino_Cut[Lake_Bilancino_Cut.Season == 'Winter'].Lake_Level.hist()\n",
    "Winter_Lake_Level = Lake_Bilancino_Cut[Lake_Bilancino_Cut.Season == 'Winter'].Lake_Level\n",
    "print( '\\nKurtosis for normal distribution (should be 0):', kurtosis(Lake_Bilancino_Cut[Lake_Bilancino_Cut.Season == 'Winter'].Lake_Level)) \n",
    "print( 'Skewness of normal distribution (should be 0): {}'.format(skew(Winter_Lake_Level)))"
   ]
  },
  {
   "cell_type": "code",
   "execution_count": 123,
   "metadata": {},
   "outputs": [
    {
     "name": "stdout",
     "output_type": "stream",
     "text": [
      "\n",
      "Kurtosis for normal distribution (should be 0): 1.3479750284887322\n",
      "Skewness of normal distribution (should be 0): -1.162173606084193\n"
     ]
    },
    {
     "data": {
      "image/png": "[encoded data removed]",
      "text/plain": [
       "<Figure size 432x288 with 1 Axes>"
      ]
     },
     "metadata": {
      "needs_background": "light"
     },
     "output_type": "display_data"
    }
   ],
   "source": [
    "Lake_Bilancino_Cut[Lake_Bilancino_Cut.Season == 'Summer'].Lake_Level.hist()\n",
    "Summer_Lake_Level = Lake_Bilancino_Cut[Lake_Bilancino_Cut.Season == 'Summer'].Lake_Level\n",
    "print( '\\nKurtosis for normal distribution (should be 0):', kurtosis(Summer_Lake_Level)) \n",
    "print( 'Skewness of normal distribution (should be 0): {}'.format(skew(Summer_Lake_Level)))"
   ]
  },
  {
   "cell_type": "code",
   "execution_count": 124,
   "metadata": {},
   "outputs": [
    {
     "name": "stdout",
     "output_type": "stream",
     "text": [
      "\n",
      "Kurtosis for normal distribution (should be 0): -0.1288667126969134\n",
      "Skewness of normal distribution (should be 0): -0.23664741215027785\n"
     ]
    },
    {
     "data": {
      "image/png": "[encoded data removed]",
      "text/plain": [
       "<Figure size 432x288 with 1 Axes>"
      ]
     },
     "metadata": {
      "needs_background": "light"
     },
     "output_type": "display_data"
    }
   ],
   "source": [
    "Lake_Bilancino_Cut[Lake_Bilancino_Cut.Season == 'Autumn'].Lake_Level.hist()\n",
    "Autumn_Lake_Level = Lake_Bilancino_Cut[Lake_Bilancino_Cut.Season == 'Autumn'].Lake_Level\n",
    "print( '\\nKurtosis for normal distribution (should be 0):', kurtosis(Lake_Bilancino_Cut[Lake_Bilancino_Cut.Season == 'Autumn'].Lake_Level)) \n",
    "print( 'Skewness of normal distribution (should be 0): {}'.format(skew(Autumn_Lake_Level)))"
   ]
  },
  {
   "cell_type": "markdown",
   "metadata": {},
   "source": [
    "#### Flow Rate"
   ]
  },
  {
   "cell_type": "code",
   "execution_count": 63,
   "metadata": {},
   "outputs": [
    {
     "name": "stdout",
     "output_type": "stream",
     "text": [
      "\n",
      "Kurtosis for normal distribution : 60.39221118451545\n"
     ]
    },
    {
     "data": {
      "image/png": "[encoded data removed]",
      "text/plain": [
       "<Figure size 432x288 with 1 Axes>"
      ]
     },
     "metadata": {
      "needs_background": "light"
     },
     "output_type": "display_data"
    }
   ],
   "source": [
    "Lake_Bilancino_Cut.Flow_Rate.hist()\n",
    "Lake_Bilancino_Cut.Flow_Rate.describe()\n",
    "\n",
    "# An extreme positive kurtosis indicates a distribution where more of the values are located\n",
    "# in the tails of the distribution rather than around the mean.\n",
    "print( '\\nKurtosis for normal distribution :', kurtosis(Lake_Bilancino_Cut.Flow_Rate)) "
   ]
  },
  {
   "cell_type": "code",
   "execution_count": 125,
   "metadata": {},
   "outputs": [
    {
     "data": {
      "text/plain": [
       "<matplotlib.axes._subplots.AxesSubplot at 0x11b1c0908>"
      ]
     },
     "execution_count": 125,
     "metadata": {},
     "output_type": "execute_result"
    },
    {
     "data": {
      "image/png": "[encoded data removed]",
      "text/plain": [
       "<Figure size 432x288 with 1 Axes>"
      ]
     },
     "metadata": {
      "needs_background": "light"
     },
     "output_type": "display_data"
    }
   ],
   "source": [
    "# Logistically Transform the Flow Rate\n",
    "Lake_Bilancino_Cut.Flow_Rate.hist()"
   ]
  },
  {
   "cell_type": "code",
   "execution_count": 126,
   "metadata": {},
   "outputs": [
    {
     "data": {
      "text/plain": [
       "<matplotlib.axes._subplots.AxesSubplot at 0x11b2d28d0>"
      ]
     },
     "execution_count": 126,
     "metadata": {},
     "output_type": "execute_result"
    },
    {
     "data": {
      "image/png": "[encoded data removed]",
      "text/plain": [
       "<Figure size 432x288 with 1 Axes>"
      ]
     },
     "metadata": {
      "needs_background": "light"
     },
     "output_type": "display_data"
    }
   ],
   "source": [
    "# Square Root Transform the Flow Rate\n",
    "Lake_Bilancino_Cut.Flow_Rate.hist()"
   ]
  },
  {
   "cell_type": "code",
   "execution_count": 127,
   "metadata": {},
   "outputs": [
    {
     "name": "stdout",
     "output_type": "stream",
     "text": [
      "\n",
      "Kurtosis for normal distribution (should be 0): 27.558922256853283\n",
      "Skewness of normal distribution (should be 0): 3.9065287852494053\n"
     ]
    },
    {
     "data": {
      "image/png": "[encoded data removed]",
      "text/plain": [
       "<Figure size 432x288 with 1 Axes>"
      ]
     },
     "metadata": {
      "needs_background": "light"
     },
     "output_type": "display_data"
    }
   ],
   "source": [
    "Lake_Bilancino_Cut[Lake_Bilancino_Cut.Season == 'Spring'].Flow_Rate.hist()\n",
    "Spring_Flow_Rate = Lake_Bilancino_Cut[Lake_Bilancino_Cut.Season == 'Spring'].Flow_Rate\n",
    "\n",
    "print( '\\nKurtosis for normal distribution (should be 0):', kurtosis(Spring_Flow_Rate)) \n",
    "print( 'Skewness of normal distribution (should be 0): {}'.format(skew(Spring_Flow_Rate)))"
   ]
  },
  {
   "cell_type": "code",
   "execution_count": 128,
   "metadata": {},
   "outputs": [
    {
     "name": "stdout",
     "output_type": "stream",
     "text": [
      "\n",
      "Kurtosis for normal distribution (should be 0): 36.52927105368438\n",
      "Skewness of normal distribution (should be 0): 4.767458306303771\n"
     ]
    },
    {
     "data": {
      "image/png": "[encoded data removed]",
      "text/plain": [
       "<Figure size 432x288 with 1 Axes>"
      ]
     },
     "metadata": {
      "needs_background": "light"
     },
     "output_type": "display_data"
    }
   ],
   "source": [
    "Lake_Bilancino_Cut[Lake_Bilancino_Cut.Season == 'Winter'].Flow_Rate.hist()\n",
    "Winter_Flow_Rate = Lake_Bilancino_Cut[Lake_Bilancino_Cut.Season == 'Winter'].Flow_Rate\n",
    "\n",
    "print( '\\nKurtosis for normal distribution (should be 0):', kurtosis(Winter_Flow_Rate)) \n",
    "print( 'Skewness of normal distribution (should be 0): {}'.format(skew(Winter_Flow_Rate)))"
   ]
  },
  {
   "cell_type": "code",
   "execution_count": 131,
   "metadata": {},
   "outputs": [
    {
     "name": "stdout",
     "output_type": "stream",
     "text": [
      "\n",
      "Kurtosis for normal distribution (should be 0): 0.4743729364028657\n",
      "Skewness of normal distribution (should be 0): 0.6754771720981214\n"
     ]
    },
    {
     "data": {
      "image/png": "[encoded data removed]",
      "text/plain": [
       "<Figure size 432x288 with 1 Axes>"
      ]
     },
     "metadata": {
      "needs_background": "light"
     },
     "output_type": "display_data"
    }
   ],
   "source": [
    "Lake_Bilancino_Cut[Lake_Bilancino_Cut.Season == 'Summer'].Flow_Rate.hist()\n",
    "Summer_Flow_Rate = Lake_Bilancino_Cut[Lake_Bilancino_Cut.Season == 'Summer'].Flow_Rate\n",
    "\n",
    "print( '\\nKurtosis for normal distribution (should be 0):', kurtosis(Summer_Flow_Rate)) \n",
    "print( 'Skewness of normal distribution (should be 0): {}'.format(skew(Summer_Flow_Rate)))"
   ]
  },
  {
   "cell_type": "code",
   "execution_count": 132,
   "metadata": {},
   "outputs": [
    {
     "name": "stdout",
     "output_type": "stream",
     "text": [
      "\n",
      "Kurtosis for normal distribution (should be 0): 63.928586332556335\n",
      "Skewness of normal distribution (should be 0): 6.053635014272246\n"
     ]
    },
    {
     "data": {
      "image/png": "[encoded data removed]",
      "text/plain": [
       "<Figure size 432x288 with 1 Axes>"
      ]
     },
     "metadata": {
      "needs_background": "light"
     },
     "output_type": "display_data"
    }
   ],
   "source": [
    "Lake_Bilancino_Cut[Lake_Bilancino_Cut.Season == 'Autumn'].Flow_Rate.hist()\n",
    "Autumn_Flow_Rate = Lake_Bilancino_Cut[Lake_Bilancino_Cut.Season == 'Autumn'].Flow_Rate\n",
    "\n",
    "print( '\\nKurtosis for normal distribution (should be 0):', kurtosis(Autumn_Flow_Rate)) \n",
    "print( 'Skewness of normal distribution (should be 0): {}'.format(skew(Autumn_Flow_Rate)))"
   ]
  },
  {
   "cell_type": "markdown",
   "metadata": {},
   "source": [
    "### Kruskal Wallis Test for Lake Level"
   ]
  },
  {
   "cell_type": "code",
   "execution_count": 167,
   "metadata": {},
   "outputs": [
    {
     "data": {
      "text/plain": [
       "KruskalResult(statistic=81.75675879509366, pvalue=1.539093487057443e-19)"
      ]
     },
     "execution_count": 167,
     "metadata": {},
     "output_type": "execute_result"
    }
   ],
   "source": [
    "stats.kruskal(Spring_Lake_Level, Autumn_Lake_Level)\n",
    "stats.kruskal(Spring_Lake_Level, Winter_Lake_Level)\n",
    "stats.kruskal(Spring_Lake_Level, Summer_Lake_Level)\n",
    "\n",
    "stats.kruskal(Autumn_Lake_Level, Winter_Lake_Level)\n",
    "stats.kruskal(Autumn_Lake_Level, Summer_Lake_Level)\n",
    "stats.kruskal(Winter_Lake_Level, Summer_Lake_Level)"
   ]
  },
  {
   "cell_type": "markdown",
   "metadata": {},
   "source": [
    "### Kruskal Wallis Test for Flow Rate"
   ]
  },
  {
   "cell_type": "code",
   "execution_count": 180,
   "metadata": {},
   "outputs": [
    {
     "data": {
      "text/plain": [
       "KruskalResult(statistic=42.291331169973994, pvalue=7.864036504484014e-11)"
      ]
     },
     "execution_count": 180,
     "metadata": {},
     "output_type": "execute_result"
    }
   ],
   "source": [
    "stats.kruskal(Spring_Flow_Rate, Autumn_Flow_Rate)\n",
    "stats.kruskal(Spring_Flow_Rate, Winter_Flow_Rate)\n",
    "stats.kruskal(Spring_Flow_Rate, Summer_Flow_Rate)\n",
    "\n",
    "stats.kruskal(Autumn_Flow_Rate, Winter_Flow_Rate)\n",
    "stats.kruskal(Autumn_Flow_Rate, Summer_Flow_Rate)\n",
    "stats.kruskal(Winter_Flow_Rate, Summer_Flow_Rate)"
   ]
  }
 ],
 "metadata": {
  "kernelspec": {
   "display_name": "Python 3",
   "language": "python",
   "name": "python3"
  },
  "language_info": {
   "codemirror_mode": {
    "name": "ipython",
    "version": 3
   },
   "file_extension": ".py",
   "mimetype": "text/x-python",
   "name": "python",
   "nbconvert_exporter": "python",
   "pygments_lexer": "ipython3",
   "version": "3.8.5"
  }
 },
 "nbformat": 4,
 "nbformat_minor": 2
}
