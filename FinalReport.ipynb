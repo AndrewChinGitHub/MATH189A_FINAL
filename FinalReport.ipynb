{
 "cells": [
  {
   "cell_type": "code",
   "execution_count": 1,
   "metadata": {},
   "outputs": [],
   "source": [
    "%matplotlib inline \n",
    "import math as m\n",
    "import pandas as pd\n",
    "import numpy as np\n",
    "import matplotlib.pyplot as plt\n",
    "import seaborn as sns\n",
    "import statsmodels.api as sm\n",
    "import statsmodels.formula.api as smf\n",
    "from statsmodels.tools.sm_exceptions import ConvergenceWarning\n",
    "from scipy import stats\n",
    "from scipy.stats import kurtosis \n",
    "from scipy.stats import skew\n",
    "import math\n",
    "from statsmodels.tools.sm_exceptions import ConvergenceWarning\n",
    "from pandas.plotting import scatter_matrix\n",
    "from random import sample"
   ]
  },
  {
   "cell_type": "markdown",
   "metadata": {},
   "source": [
    "## Clean the data"
   ]
  },
  {
   "cell_type": "code",
   "execution_count": 2,
   "metadata": {},
   "outputs": [],
   "source": [
    "Lake_Bilancino = pd.read_csv('Lake_Bilancino.csv')"
   ]
  },
  {
   "cell_type": "code",
   "execution_count": 3,
   "metadata": {},
   "outputs": [
    {
     "name": "stdout",
     "output_type": "stream",
     "text": [
      "Date                    0.000000\n",
      "Rainfall_S_Piero        1.000000\n",
      "Rainfall_Mangona        1.000000\n",
      "Rainfall_S_Agata        1.000000\n",
      "Rainfall_Cavallina      1.000000\n",
      "Rainfall_Le_Croci       1.000000\n",
      "Temperature_Le_Croci    1.000000\n",
      "Lake_Level              0.000000\n",
      "Flow_Rate               0.036395\n",
      "dtype: float64\n"
     ]
    }
   ],
   "source": [
    "# There aren't any valid values until Jan 01 2004\n",
    "print(Lake_Bilancino[:577].isna().mean())"
   ]
  },
  {
   "cell_type": "code",
   "execution_count": 4,
   "metadata": {},
   "outputs": [],
   "source": [
    "# Cut the data from then Jan 01 2004\n",
    "Lake_Bilancino_Cut = Lake_Bilancino[577:].reset_index(drop = True)\n",
    "\n",
    "# Imputation \n",
    "Lake_Bilancino_Cut.loc[Lake_Bilancino_Cut.Date == '01/01/2004', 'Temperature_Le_Croci'] = Lake_Bilancino_Cut.Temperature_Le_Croci.mean()"
   ]
  },
  {
   "cell_type": "code",
   "execution_count": 5,
   "metadata": {},
   "outputs": [],
   "source": [
    "# Create month column \n",
    "Lake_Bilancino_Cut['Month'] = Lake_Bilancino_Cut.Date.apply(lambda x: x[3:5])\n",
    "\n",
    "# Create year column \n",
    "Lake_Bilancino_Cut['Year'] = Lake_Bilancino_Cut.Date.apply(lambda x: x[6:10])"
   ]
  },
  {
   "cell_type": "markdown",
   "metadata": {},
   "source": [
    "## 4.1 What areas and weather conditions are most affecting water quality in lakes?\n"
   ]
  },
  {
   "cell_type": "code",
   "execution_count": 6,
   "metadata": {},
   "outputs": [
    {
     "data": {
      "text/html": [
       "<div>\n",
       "<style scoped>\n",
       "    .dataframe tbody tr th:only-of-type {\n",
       "        vertical-align: middle;\n",
       "    }\n",
       "\n",
       "    .dataframe tbody tr th {\n",
       "        vertical-align: top;\n",
       "    }\n",
       "\n",
       "    .dataframe thead th {\n",
       "        text-align: right;\n",
       "    }\n",
       "</style>\n",
       "<table border=\"1\" class=\"dataframe\">\n",
       "  <thead>\n",
       "    <tr style=\"text-align: right;\">\n",
       "      <th></th>\n",
       "      <th>Date</th>\n",
       "      <th>Rainfall_S_Piero</th>\n",
       "      <th>Rainfall_Mangona</th>\n",
       "      <th>Rainfall_S_Agata</th>\n",
       "      <th>Rainfall_Cavallina</th>\n",
       "      <th>Rainfall_Le_Croci</th>\n",
       "      <th>Temperature_Le_Croci</th>\n",
       "      <th>Lake_Level</th>\n",
       "      <th>Flow_Rate</th>\n",
       "    </tr>\n",
       "  </thead>\n",
       "  <tbody>\n",
       "    <tr>\n",
       "      <th>0</th>\n",
       "      <td>03/06/2002</td>\n",
       "      <td>NaN</td>\n",
       "      <td>NaN</td>\n",
       "      <td>NaN</td>\n",
       "      <td>NaN</td>\n",
       "      <td>NaN</td>\n",
       "      <td>NaN</td>\n",
       "      <td>249.43</td>\n",
       "      <td>0.31</td>\n",
       "    </tr>\n",
       "    <tr>\n",
       "      <th>1</th>\n",
       "      <td>04/06/2002</td>\n",
       "      <td>NaN</td>\n",
       "      <td>NaN</td>\n",
       "      <td>NaN</td>\n",
       "      <td>NaN</td>\n",
       "      <td>NaN</td>\n",
       "      <td>NaN</td>\n",
       "      <td>249.43</td>\n",
       "      <td>0.31</td>\n",
       "    </tr>\n",
       "    <tr>\n",
       "      <th>2</th>\n",
       "      <td>05/06/2002</td>\n",
       "      <td>NaN</td>\n",
       "      <td>NaN</td>\n",
       "      <td>NaN</td>\n",
       "      <td>NaN</td>\n",
       "      <td>NaN</td>\n",
       "      <td>NaN</td>\n",
       "      <td>249.43</td>\n",
       "      <td>0.31</td>\n",
       "    </tr>\n",
       "    <tr>\n",
       "      <th>3</th>\n",
       "      <td>06/06/2002</td>\n",
       "      <td>NaN</td>\n",
       "      <td>NaN</td>\n",
       "      <td>NaN</td>\n",
       "      <td>NaN</td>\n",
       "      <td>NaN</td>\n",
       "      <td>NaN</td>\n",
       "      <td>249.43</td>\n",
       "      <td>0.31</td>\n",
       "    </tr>\n",
       "    <tr>\n",
       "      <th>4</th>\n",
       "      <td>07/06/2002</td>\n",
       "      <td>NaN</td>\n",
       "      <td>NaN</td>\n",
       "      <td>NaN</td>\n",
       "      <td>NaN</td>\n",
       "      <td>NaN</td>\n",
       "      <td>NaN</td>\n",
       "      <td>249.44</td>\n",
       "      <td>0.31</td>\n",
       "    </tr>\n",
       "    <tr>\n",
       "      <th>...</th>\n",
       "      <td>...</td>\n",
       "      <td>...</td>\n",
       "      <td>...</td>\n",
       "      <td>...</td>\n",
       "      <td>...</td>\n",
       "      <td>...</td>\n",
       "      <td>...</td>\n",
       "      <td>...</td>\n",
       "      <td>...</td>\n",
       "    </tr>\n",
       "    <tr>\n",
       "      <th>6598</th>\n",
       "      <td>26/06/2020</td>\n",
       "      <td>0.0</td>\n",
       "      <td>0.0</td>\n",
       "      <td>0.0</td>\n",
       "      <td>0.0</td>\n",
       "      <td>0.0</td>\n",
       "      <td>22.50</td>\n",
       "      <td>250.85</td>\n",
       "      <td>0.60</td>\n",
       "    </tr>\n",
       "    <tr>\n",
       "      <th>6599</th>\n",
       "      <td>27/06/2020</td>\n",
       "      <td>0.0</td>\n",
       "      <td>0.0</td>\n",
       "      <td>0.0</td>\n",
       "      <td>0.0</td>\n",
       "      <td>0.0</td>\n",
       "      <td>23.40</td>\n",
       "      <td>250.84</td>\n",
       "      <td>0.60</td>\n",
       "    </tr>\n",
       "    <tr>\n",
       "      <th>6600</th>\n",
       "      <td>28/06/2020</td>\n",
       "      <td>0.0</td>\n",
       "      <td>0.0</td>\n",
       "      <td>0.0</td>\n",
       "      <td>0.0</td>\n",
       "      <td>0.0</td>\n",
       "      <td>21.50</td>\n",
       "      <td>250.83</td>\n",
       "      <td>0.60</td>\n",
       "    </tr>\n",
       "    <tr>\n",
       "      <th>6601</th>\n",
       "      <td>29/06/2020</td>\n",
       "      <td>0.0</td>\n",
       "      <td>0.0</td>\n",
       "      <td>0.0</td>\n",
       "      <td>0.0</td>\n",
       "      <td>0.0</td>\n",
       "      <td>23.20</td>\n",
       "      <td>250.82</td>\n",
       "      <td>0.60</td>\n",
       "    </tr>\n",
       "    <tr>\n",
       "      <th>6602</th>\n",
       "      <td>30/06/2020</td>\n",
       "      <td>0.0</td>\n",
       "      <td>0.0</td>\n",
       "      <td>0.0</td>\n",
       "      <td>0.0</td>\n",
       "      <td>0.0</td>\n",
       "      <td>22.75</td>\n",
       "      <td>250.80</td>\n",
       "      <td>0.60</td>\n",
       "    </tr>\n",
       "  </tbody>\n",
       "</table>\n",
       "<p>6603 rows × 9 columns</p>\n",
       "</div>"
      ],
      "text/plain": [
       "            Date  Rainfall_S_Piero  Rainfall_Mangona  Rainfall_S_Agata  \\\n",
       "0     03/06/2002               NaN               NaN               NaN   \n",
       "1     04/06/2002               NaN               NaN               NaN   \n",
       "2     05/06/2002               NaN               NaN               NaN   \n",
       "3     06/06/2002               NaN               NaN               NaN   \n",
       "4     07/06/2002               NaN               NaN               NaN   \n",
       "...          ...               ...               ...               ...   \n",
       "6598  26/06/2020               0.0               0.0               0.0   \n",
       "6599  27/06/2020               0.0               0.0               0.0   \n",
       "6600  28/06/2020               0.0               0.0               0.0   \n",
       "6601  29/06/2020               0.0               0.0               0.0   \n",
       "6602  30/06/2020               0.0               0.0               0.0   \n",
       "\n",
       "      Rainfall_Cavallina  Rainfall_Le_Croci  Temperature_Le_Croci  Lake_Level  \\\n",
       "0                    NaN                NaN                   NaN      249.43   \n",
       "1                    NaN                NaN                   NaN      249.43   \n",
       "2                    NaN                NaN                   NaN      249.43   \n",
       "3                    NaN                NaN                   NaN      249.43   \n",
       "4                    NaN                NaN                   NaN      249.44   \n",
       "...                  ...                ...                   ...         ...   \n",
       "6598                 0.0                0.0                 22.50      250.85   \n",
       "6599                 0.0                0.0                 23.40      250.84   \n",
       "6600                 0.0                0.0                 21.50      250.83   \n",
       "6601                 0.0                0.0                 23.20      250.82   \n",
       "6602                 0.0                0.0                 22.75      250.80   \n",
       "\n",
       "      Flow_Rate  \n",
       "0          0.31  \n",
       "1          0.31  \n",
       "2          0.31  \n",
       "3          0.31  \n",
       "4          0.31  \n",
       "...         ...  \n",
       "6598       0.60  \n",
       "6599       0.60  \n",
       "6600       0.60  \n",
       "6601       0.60  \n",
       "6602       0.60  \n",
       "\n",
       "[6603 rows x 9 columns]"
      ]
     },
     "execution_count": 6,
     "metadata": {},
     "output_type": "execute_result"
    }
   ],
   "source": [
    "bilancino = pd.read_csv('Lake_Bilancino.csv')\n",
    "bilancino"
   ]
  },
  {
   "cell_type": "code",
   "execution_count": 7,
   "metadata": {},
   "outputs": [],
   "source": [
    "bilancino['Date'] = bilancino['Date'].astype(str)\n",
    "\n",
    "bilancino['Month'] = bilancino['Date'].apply(lambda x: x[3:5])\n"
   ]
  },
  {
   "cell_type": "code",
   "execution_count": 8,
   "metadata": {},
   "outputs": [
    {
     "data": {
      "text/plain": [
       "array([[<AxesSubplot:xlabel='Rainfall_S_Piero', ylabel='Rainfall_S_Piero'>,\n",
       "        <AxesSubplot:xlabel='Rainfall_Mangona', ylabel='Rainfall_S_Piero'>,\n",
       "        <AxesSubplot:xlabel='Rainfall_S_Agata', ylabel='Rainfall_S_Piero'>,\n",
       "        <AxesSubplot:xlabel='Rainfall_Cavallina', ylabel='Rainfall_S_Piero'>,\n",
       "        <AxesSubplot:xlabel='Rainfall_Le_Croci', ylabel='Rainfall_S_Piero'>],\n",
       "       [<AxesSubplot:xlabel='Rainfall_S_Piero', ylabel='Rainfall_Mangona'>,\n",
       "        <AxesSubplot:xlabel='Rainfall_Mangona', ylabel='Rainfall_Mangona'>,\n",
       "        <AxesSubplot:xlabel='Rainfall_S_Agata', ylabel='Rainfall_Mangona'>,\n",
       "        <AxesSubplot:xlabel='Rainfall_Cavallina', ylabel='Rainfall_Mangona'>,\n",
       "        <AxesSubplot:xlabel='Rainfall_Le_Croci', ylabel='Rainfall_Mangona'>],\n",
       "       [<AxesSubplot:xlabel='Rainfall_S_Piero', ylabel='Rainfall_S_Agata'>,\n",
       "        <AxesSubplot:xlabel='Rainfall_Mangona', ylabel='Rainfall_S_Agata'>,\n",
       "        <AxesSubplot:xlabel='Rainfall_S_Agata', ylabel='Rainfall_S_Agata'>,\n",
       "        <AxesSubplot:xlabel='Rainfall_Cavallina', ylabel='Rainfall_S_Agata'>,\n",
       "        <AxesSubplot:xlabel='Rainfall_Le_Croci', ylabel='Rainfall_S_Agata'>],\n",
       "       [<AxesSubplot:xlabel='Rainfall_S_Piero', ylabel='Rainfall_Cavallina'>,\n",
       "        <AxesSubplot:xlabel='Rainfall_Mangona', ylabel='Rainfall_Cavallina'>,\n",
       "        <AxesSubplot:xlabel='Rainfall_S_Agata', ylabel='Rainfall_Cavallina'>,\n",
       "        <AxesSubplot:xlabel='Rainfall_Cavallina', ylabel='Rainfall_Cavallina'>,\n",
       "        <AxesSubplot:xlabel='Rainfall_Le_Croci', ylabel='Rainfall_Cavallina'>],\n",
       "       [<AxesSubplot:xlabel='Rainfall_S_Piero', ylabel='Rainfall_Le_Croci'>,\n",
       "        <AxesSubplot:xlabel='Rainfall_Mangona', ylabel='Rainfall_Le_Croci'>,\n",
       "        <AxesSubplot:xlabel='Rainfall_S_Agata', ylabel='Rainfall_Le_Croci'>,\n",
       "        <AxesSubplot:xlabel='Rainfall_Cavallina', ylabel='Rainfall_Le_Croci'>,\n",
       "        <AxesSubplot:xlabel='Rainfall_Le_Croci', ylabel='Rainfall_Le_Croci'>]],\n",
       "      dtype=object)"
      ]
     },
     "execution_count": 8,
     "metadata": {},
     "output_type": "execute_result"
    },
    {
     "data": {
      "image/png": "[encoded data removed]",
      "text/plain": [
       "<Figure size 1440x1152 with 25 Axes>"
      ]
     },
     "metadata": {
      "needs_background": "light"
     },
     "output_type": "display_data"
    }
   ],
   "source": [
    "\n",
    "scatter_matrix(bilancino[['Rainfall_S_Piero', 'Rainfall_Mangona', 'Rainfall_S_Agata', 'Rainfall_Cavallina', 'Rainfall_Le_Croci']], figsize=(20,16))\n"
   ]
  },
  {
   "cell_type": "code",
   "execution_count": 9,
   "metadata": {},
   "outputs": [
    {
     "data": {
      "text/html": [
       "<div>\n",
       "<style scoped>\n",
       "    .dataframe tbody tr th:only-of-type {\n",
       "        vertical-align: middle;\n",
       "    }\n",
       "\n",
       "    .dataframe tbody tr th {\n",
       "        vertical-align: top;\n",
       "    }\n",
       "\n",
       "    .dataframe thead th {\n",
       "        text-align: right;\n",
       "    }\n",
       "</style>\n",
       "<table border=\"1\" class=\"dataframe\">\n",
       "  <thead>\n",
       "    <tr style=\"text-align: right;\">\n",
       "      <th></th>\n",
       "      <th>Rainfall_S_Piero</th>\n",
       "      <th>Rainfall_Mangona</th>\n",
       "      <th>Rainfall_S_Agata</th>\n",
       "      <th>Rainfall_Cavallina</th>\n",
       "      <th>Rainfall_Le_Croci</th>\n",
       "    </tr>\n",
       "  </thead>\n",
       "  <tbody>\n",
       "    <tr>\n",
       "      <th>Rainfall_S_Piero</th>\n",
       "      <td>1.000000</td>\n",
       "      <td>0.867117</td>\n",
       "      <td>0.897863</td>\n",
       "      <td>0.908543</td>\n",
       "      <td>0.910068</td>\n",
       "    </tr>\n",
       "    <tr>\n",
       "      <th>Rainfall_Mangona</th>\n",
       "      <td>0.867117</td>\n",
       "      <td>1.000000</td>\n",
       "      <td>0.865833</td>\n",
       "      <td>0.873150</td>\n",
       "      <td>0.863780</td>\n",
       "    </tr>\n",
       "    <tr>\n",
       "      <th>Rainfall_S_Agata</th>\n",
       "      <td>0.897863</td>\n",
       "      <td>0.865833</td>\n",
       "      <td>1.000000</td>\n",
       "      <td>0.887618</td>\n",
       "      <td>0.880652</td>\n",
       "    </tr>\n",
       "    <tr>\n",
       "      <th>Rainfall_Cavallina</th>\n",
       "      <td>0.908543</td>\n",
       "      <td>0.873150</td>\n",
       "      <td>0.887618</td>\n",
       "      <td>1.000000</td>\n",
       "      <td>0.922999</td>\n",
       "    </tr>\n",
       "    <tr>\n",
       "      <th>Rainfall_Le_Croci</th>\n",
       "      <td>0.910068</td>\n",
       "      <td>0.863780</td>\n",
       "      <td>0.880652</td>\n",
       "      <td>0.922999</td>\n",
       "      <td>1.000000</td>\n",
       "    </tr>\n",
       "  </tbody>\n",
       "</table>\n",
       "</div>"
      ],
      "text/plain": [
       "                    Rainfall_S_Piero  Rainfall_Mangona  Rainfall_S_Agata  \\\n",
       "Rainfall_S_Piero            1.000000          0.867117          0.897863   \n",
       "Rainfall_Mangona            0.867117          1.000000          0.865833   \n",
       "Rainfall_S_Agata            0.897863          0.865833          1.000000   \n",
       "Rainfall_Cavallina          0.908543          0.873150          0.887618   \n",
       "Rainfall_Le_Croci           0.910068          0.863780          0.880652   \n",
       "\n",
       "                    Rainfall_Cavallina  Rainfall_Le_Croci  \n",
       "Rainfall_S_Piero              0.908543           0.910068  \n",
       "Rainfall_Mangona              0.873150           0.863780  \n",
       "Rainfall_S_Agata              0.887618           0.880652  \n",
       "Rainfall_Cavallina            1.000000           0.922999  \n",
       "Rainfall_Le_Croci             0.922999           1.000000  "
      ]
     },
     "execution_count": 9,
     "metadata": {},
     "output_type": "execute_result"
    }
   ],
   "source": [
    "bilancino[['Rainfall_S_Piero', 'Rainfall_Mangona', 'Rainfall_S_Agata', 'Rainfall_Cavallina', 'Rainfall_Le_Croci']].corr()"
   ]
  },
  {
   "cell_type": "code",
   "execution_count": 10,
   "metadata": {},
   "outputs": [
    {
     "data": {
      "text/html": [
       "<div>\n",
       "<style scoped>\n",
       "    .dataframe tbody tr th:only-of-type {\n",
       "        vertical-align: middle;\n",
       "    }\n",
       "\n",
       "    .dataframe tbody tr th {\n",
       "        vertical-align: top;\n",
       "    }\n",
       "\n",
       "    .dataframe thead th {\n",
       "        text-align: right;\n",
       "    }\n",
       "</style>\n",
       "<table border=\"1\" class=\"dataframe\">\n",
       "  <thead>\n",
       "    <tr style=\"text-align: right;\">\n",
       "      <th></th>\n",
       "      <th>Rainfall_S_Piero</th>\n",
       "      <th>Rainfall_Mangona</th>\n",
       "      <th>Rainfall_S_Agata</th>\n",
       "      <th>Rainfall_Cavallina</th>\n",
       "      <th>Rainfall_Le_Croci</th>\n",
       "      <th>Temperature_Le_Croci</th>\n",
       "      <th>Lake_Level</th>\n",
       "      <th>Flow_Rate</th>\n",
       "    </tr>\n",
       "  </thead>\n",
       "  <tbody>\n",
       "    <tr>\n",
       "      <th>Rainfall_S_Piero</th>\n",
       "      <td>1.000000</td>\n",
       "      <td>0.867117</td>\n",
       "      <td>0.897863</td>\n",
       "      <td>0.908543</td>\n",
       "      <td>0.910068</td>\n",
       "      <td>-0.133295</td>\n",
       "      <td>-0.034152</td>\n",
       "      <td>0.142241</td>\n",
       "    </tr>\n",
       "    <tr>\n",
       "      <th>Rainfall_Mangona</th>\n",
       "      <td>0.867117</td>\n",
       "      <td>1.000000</td>\n",
       "      <td>0.865833</td>\n",
       "      <td>0.873150</td>\n",
       "      <td>0.863780</td>\n",
       "      <td>-0.134986</td>\n",
       "      <td>-0.032264</td>\n",
       "      <td>0.166216</td>\n",
       "    </tr>\n",
       "    <tr>\n",
       "      <th>Rainfall_S_Agata</th>\n",
       "      <td>0.897863</td>\n",
       "      <td>0.865833</td>\n",
       "      <td>1.000000</td>\n",
       "      <td>0.887618</td>\n",
       "      <td>0.880652</td>\n",
       "      <td>-0.124250</td>\n",
       "      <td>-0.032259</td>\n",
       "      <td>0.158884</td>\n",
       "    </tr>\n",
       "    <tr>\n",
       "      <th>Rainfall_Cavallina</th>\n",
       "      <td>0.908543</td>\n",
       "      <td>0.873150</td>\n",
       "      <td>0.887618</td>\n",
       "      <td>1.000000</td>\n",
       "      <td>0.922999</td>\n",
       "      <td>-0.128926</td>\n",
       "      <td>-0.033957</td>\n",
       "      <td>0.172795</td>\n",
       "    </tr>\n",
       "    <tr>\n",
       "      <th>Rainfall_Le_Croci</th>\n",
       "      <td>0.910068</td>\n",
       "      <td>0.863780</td>\n",
       "      <td>0.880652</td>\n",
       "      <td>0.922999</td>\n",
       "      <td>1.000000</td>\n",
       "      <td>-0.139045</td>\n",
       "      <td>-0.024512</td>\n",
       "      <td>0.187022</td>\n",
       "    </tr>\n",
       "    <tr>\n",
       "      <th>Temperature_Le_Croci</th>\n",
       "      <td>-0.133295</td>\n",
       "      <td>-0.134986</td>\n",
       "      <td>-0.124250</td>\n",
       "      <td>-0.128926</td>\n",
       "      <td>-0.139045</td>\n",
       "      <td>1.000000</td>\n",
       "      <td>0.063569</td>\n",
       "      <td>-0.195136</td>\n",
       "    </tr>\n",
       "    <tr>\n",
       "      <th>Lake_Level</th>\n",
       "      <td>-0.034152</td>\n",
       "      <td>-0.032264</td>\n",
       "      <td>-0.032259</td>\n",
       "      <td>-0.033957</td>\n",
       "      <td>-0.024512</td>\n",
       "      <td>0.063569</td>\n",
       "      <td>1.000000</td>\n",
       "      <td>0.300370</td>\n",
       "    </tr>\n",
       "    <tr>\n",
       "      <th>Flow_Rate</th>\n",
       "      <td>0.142241</td>\n",
       "      <td>0.166216</td>\n",
       "      <td>0.158884</td>\n",
       "      <td>0.172795</td>\n",
       "      <td>0.187022</td>\n",
       "      <td>-0.195136</td>\n",
       "      <td>0.300370</td>\n",
       "      <td>1.000000</td>\n",
       "    </tr>\n",
       "  </tbody>\n",
       "</table>\n",
       "</div>"
      ],
      "text/plain": [
       "                      Rainfall_S_Piero  Rainfall_Mangona  Rainfall_S_Agata  \\\n",
       "Rainfall_S_Piero              1.000000          0.867117          0.897863   \n",
       "Rainfall_Mangona              0.867117          1.000000          0.865833   \n",
       "Rainfall_S_Agata              0.897863          0.865833          1.000000   \n",
       "Rainfall_Cavallina            0.908543          0.873150          0.887618   \n",
       "Rainfall_Le_Croci             0.910068          0.863780          0.880652   \n",
       "Temperature_Le_Croci         -0.133295         -0.134986         -0.124250   \n",
       "Lake_Level                   -0.034152         -0.032264         -0.032259   \n",
       "Flow_Rate                     0.142241          0.166216          0.158884   \n",
       "\n",
       "                      Rainfall_Cavallina  Rainfall_Le_Croci  \\\n",
       "Rainfall_S_Piero                0.908543           0.910068   \n",
       "Rainfall_Mangona                0.873150           0.863780   \n",
       "Rainfall_S_Agata                0.887618           0.880652   \n",
       "Rainfall_Cavallina              1.000000           0.922999   \n",
       "Rainfall_Le_Croci               0.922999           1.000000   \n",
       "Temperature_Le_Croci           -0.128926          -0.139045   \n",
       "Lake_Level                     -0.033957          -0.024512   \n",
       "Flow_Rate                       0.172795           0.187022   \n",
       "\n",
       "                      Temperature_Le_Croci  Lake_Level  Flow_Rate  \n",
       "Rainfall_S_Piero                 -0.133295   -0.034152   0.142241  \n",
       "Rainfall_Mangona                 -0.134986   -0.032264   0.166216  \n",
       "Rainfall_S_Agata                 -0.124250   -0.032259   0.158884  \n",
       "Rainfall_Cavallina               -0.128926   -0.033957   0.172795  \n",
       "Rainfall_Le_Croci                -0.139045   -0.024512   0.187022  \n",
       "Temperature_Le_Croci              1.000000    0.063569  -0.195136  \n",
       "Lake_Level                        0.063569    1.000000   0.300370  \n",
       "Flow_Rate                        -0.195136    0.300370   1.000000  "
      ]
     },
     "execution_count": 10,
     "metadata": {},
     "output_type": "execute_result"
    }
   ],
   "source": [
    "bilancino.corr()"
   ]
  },
  {
   "cell_type": "markdown",
   "metadata": {},
   "source": [
    "### Piero"
   ]
  },
  {
   "cell_type": "code",
   "execution_count": 11,
   "metadata": {},
   "outputs": [
    {
     "name": "stdout",
     "output_type": "stream",
     "text": [
      "          Mixed Linear Model Regression Results\n",
      "==========================================================\n",
      "Model:             MixedLM Dependent Variable: Flow_Rate  \n",
      "No. Observations:  6026    Method:             REML       \n",
      "No. Groups:        12      Scale:              15.0823    \n",
      "Min. group size:   480     Log-Likelihood:     -16753.8784\n",
      "Max. group size:   527     Converged:          Yes        \n",
      "Mean group size:   502.2                                  \n",
      "----------------------------------------------------------\n",
      "                 Coef. Std.Err.   z    P>|z| [0.025 0.975]\n",
      "----------------------------------------------------------\n",
      "Intercept        2.573    0.387  6.650 0.000  1.815  3.332\n",
      "Rainfall_S_Piero 0.079    0.008 10.388 0.000  0.064  0.094\n",
      "Group Var        1.762    0.197                           \n",
      "==========================================================\n",
      "\n"
     ]
    }
   ],
   "source": [
    "md = smf.mixedlm(\"Flow_Rate ~ Rainfall_S_Piero\", bilancino, groups=bilancino[\"Month\"], missing='drop')\n",
    "mdf = md.fit()\n",
    "print(mdf.summary())"
   ]
  },
  {
   "cell_type": "code",
   "execution_count": 12,
   "metadata": {},
   "outputs": [
    {
     "name": "stdout",
     "output_type": "stream",
     "text": [
      "             Mixed Linear Model Regression Results\n",
      "===============================================================\n",
      "Model:              MixedLM   Dependent Variable:   Lake_Level \n",
      "No. Observations:   6026      Method:               REML       \n",
      "No. Groups:         12        Scale:                2.4237     \n",
      "Min. group size:    480       Log-Likelihood:       -11259.3178\n",
      "Max. group size:    527       Converged:            Yes        \n",
      "Mean group size:    502.2                                      \n",
      "---------------------------------------------------------------\n",
      "                  Coef.  Std.Err.    z    P>|z|  [0.025  0.975]\n",
      "---------------------------------------------------------------\n",
      "Intercept        249.498    0.465 536.865 0.000 248.587 250.409\n",
      "Rainfall_S_Piero   0.010    0.003   3.329 0.001   0.004   0.016\n",
      "Group Var          2.586    0.708                              \n",
      "===============================================================\n",
      "\n"
     ]
    }
   ],
   "source": [
    "md = smf.mixedlm(\"Lake_Level ~ Rainfall_S_Piero\", bilancino, groups=bilancino[\"Month\"], missing='drop')\n",
    "mdf = md.fit()\n",
    "print(mdf.summary())"
   ]
  },
  {
   "cell_type": "markdown",
   "metadata": {},
   "source": [
    "### Mangona\n"
   ]
  },
  {
   "cell_type": "code",
   "execution_count": 13,
   "metadata": {},
   "outputs": [
    {
     "name": "stdout",
     "output_type": "stream",
     "text": [
      "          Mixed Linear Model Regression Results\n",
      "==========================================================\n",
      "Model:             MixedLM Dependent Variable: Flow_Rate  \n",
      "No. Observations:  6026    Method:             REML       \n",
      "No. Groups:        12      Scale:              14.9748    \n",
      "Min. group size:   480     Log-Likelihood:     -16732.6056\n",
      "Max. group size:   527     Converged:          Yes        \n",
      "Mean group size:   502.2                                  \n",
      "----------------------------------------------------------\n",
      "                 Coef. Std.Err.   z    P>|z| [0.025 0.975]\n",
      "----------------------------------------------------------\n",
      "Intercept        2.535    0.385  6.589 0.000  1.781  3.289\n",
      "Rainfall_Mangona 0.070    0.006 12.327 0.000  0.059  0.081\n",
      "Group Var        1.742    0.195                           \n",
      "==========================================================\n",
      "\n"
     ]
    }
   ],
   "source": [
    "md = smf.mixedlm(\"Flow_Rate ~ Rainfall_Mangona\", bilancino, groups=bilancino[\"Month\"], missing='drop')\n",
    "mdf = md.fit()\n",
    "print(mdf.summary())"
   ]
  },
  {
   "cell_type": "code",
   "execution_count": 14,
   "metadata": {},
   "outputs": [
    {
     "name": "stdout",
     "output_type": "stream",
     "text": [
      "             Mixed Linear Model Regression Results\n",
      "===============================================================\n",
      "Model:              MixedLM   Dependent Variable:   Lake_Level \n",
      "No. Observations:   6026      Method:               REML       \n",
      "No. Groups:         12        Scale:                2.4230     \n",
      "Min. group size:    480       Log-Likelihood:       -11258.8141\n",
      "Max. group size:    527       Converged:            Yes        \n",
      "Mean group size:    502.2                                      \n",
      "---------------------------------------------------------------\n",
      "                  Coef.  Std.Err.    z    P>|z|  [0.025  0.975]\n",
      "---------------------------------------------------------------\n",
      "Intercept        249.496    0.465 536.723 0.000 248.585 250.407\n",
      "Rainfall_Mangona   0.008    0.002   3.560 0.000   0.004   0.013\n",
      "Group Var          2.587    0.708                              \n",
      "===============================================================\n",
      "\n"
     ]
    }
   ],
   "source": [
    "md = smf.mixedlm(\"Lake_Level ~ Rainfall_Mangona\", bilancino, groups=bilancino[\"Month\"], missing='drop')\n",
    "mdf = md.fit()\n",
    "print(mdf.summary())"
   ]
  },
  {
   "cell_type": "markdown",
   "metadata": {},
   "source": [
    "### S Agata"
   ]
  },
  {
   "cell_type": "code",
   "execution_count": 15,
   "metadata": {},
   "outputs": [
    {
     "name": "stdout",
     "output_type": "stream",
     "text": [
      "          Mixed Linear Model Regression Results\n",
      "==========================================================\n",
      "Model:             MixedLM Dependent Variable: Flow_Rate  \n",
      "No. Observations:  6026    Method:             REML       \n",
      "No. Groups:        12      Scale:              14.9867    \n",
      "Min. group size:   480     Log-Likelihood:     -16734.8696\n",
      "Max. group size:   527     Converged:          Yes        \n",
      "Mean group size:   502.2                                  \n",
      "----------------------------------------------------------\n",
      "                 Coef. Std.Err.   z    P>|z| [0.025 0.975]\n",
      "----------------------------------------------------------\n",
      "Intercept        2.541    0.388  6.551 0.000  1.781  3.301\n",
      "Rainfall_S_Agata 0.085    0.007 12.120 0.000  0.071  0.099\n",
      "Group Var        1.772    0.198                           \n",
      "==========================================================\n",
      "\n"
     ]
    }
   ],
   "source": [
    "md = smf.mixedlm(\"Flow_Rate ~ Rainfall_S_Agata\", bilancino, groups=bilancino[\"Month\"], missing='drop')\n",
    "mdf = md.fit()\n",
    "print(mdf.summary())"
   ]
  },
  {
   "cell_type": "code",
   "execution_count": 16,
   "metadata": {},
   "outputs": [
    {
     "name": "stdout",
     "output_type": "stream",
     "text": [
      "             Mixed Linear Model Regression Results\n",
      "===============================================================\n",
      "Model:              MixedLM   Dependent Variable:   Lake_Level \n",
      "No. Observations:   6026      Method:               REML       \n",
      "No. Groups:         12        Scale:                2.4236     \n",
      "Min. group size:    480       Log-Likelihood:       -11259.2906\n",
      "Max. group size:    527       Converged:            Yes        \n",
      "Mean group size:    502.2                                      \n",
      "---------------------------------------------------------------\n",
      "                  Coef.  Std.Err.    z    P>|z|  [0.025  0.975]\n",
      "---------------------------------------------------------------\n",
      "Intercept        249.498    0.465 536.894 0.000 248.587 250.409\n",
      "Rainfall_S_Agata   0.010    0.003   3.360 0.001   0.004   0.015\n",
      "Group Var          2.586    0.708                              \n",
      "===============================================================\n",
      "\n"
     ]
    }
   ],
   "source": [
    "md = smf.mixedlm(\"Lake_Level ~ Rainfall_S_Agata\", bilancino, groups=bilancino[\"Month\"], missing='drop')\n",
    "mdf = md.fit()\n",
    "print(mdf.summary())"
   ]
  },
  {
   "cell_type": "markdown",
   "metadata": {},
   "source": [
    "### Cavallina"
   ]
  },
  {
   "cell_type": "code",
   "execution_count": 17,
   "metadata": {},
   "outputs": [
    {
     "name": "stdout",
     "output_type": "stream",
     "text": [
      "           Mixed Linear Model Regression Results\n",
      "============================================================\n",
      "Model:             MixedLM  Dependent Variable:  Flow_Rate  \n",
      "No. Observations:  6026     Method:              REML       \n",
      "No. Groups:        12       Scale:               14.9455    \n",
      "Min. group size:   480      Log-Likelihood:      -16726.5424\n",
      "Max. group size:   527      Converged:           Yes        \n",
      "Mean group size:   502.2                                    \n",
      "------------------------------------------------------------\n",
      "                   Coef. Std.Err.   z    P>|z| [0.025 0.975]\n",
      "------------------------------------------------------------\n",
      "Intercept          2.543    0.384  6.627 0.000  1.791  3.295\n",
      "Rainfall_Cavallina 0.084    0.007 12.810 0.000  0.071  0.097\n",
      "Group Var          1.734    0.194                           \n",
      "============================================================\n",
      "\n"
     ]
    }
   ],
   "source": [
    "md = smf.mixedlm(\"Flow_Rate ~ Rainfall_Cavallina\", bilancino, groups=bilancino[\"Month\"], missing='drop')\n",
    "mdf = md.fit()\n",
    "print(mdf.summary())"
   ]
  },
  {
   "cell_type": "code",
   "execution_count": 18,
   "metadata": {},
   "outputs": [
    {
     "name": "stdout",
     "output_type": "stream",
     "text": [
      "              Mixed Linear Model Regression Results\n",
      "=================================================================\n",
      "Model:                MixedLM   Dependent Variable:   Lake_Level \n",
      "No. Observations:     6026      Method:               REML       \n",
      "No. Groups:           12        Scale:                2.4240     \n",
      "Min. group size:      480       Log-Likelihood:       -11259.8327\n",
      "Max. group size:      527       Converged:            Yes        \n",
      "Mean group size:      502.2                                      \n",
      "-----------------------------------------------------------------\n",
      "                    Coef.  Std.Err.    z    P>|z|  [0.025  0.975]\n",
      "-----------------------------------------------------------------\n",
      "Intercept          249.500    0.465 536.982 0.000 248.590 250.411\n",
      "Rainfall_Cavallina   0.009    0.003   3.215 0.001   0.003   0.014\n",
      "Group Var            2.585    0.707                              \n",
      "=================================================================\n",
      "\n"
     ]
    }
   ],
   "source": [
    "md = smf.mixedlm(\"Lake_Level ~ Rainfall_Cavallina\", bilancino, groups=bilancino[\"Month\"], missing='drop')\n",
    "mdf = md.fit()\n",
    "print(mdf.summary())"
   ]
  },
  {
   "cell_type": "markdown",
   "metadata": {},
   "source": [
    "### Le Croci"
   ]
  },
  {
   "cell_type": "code",
   "execution_count": 19,
   "metadata": {},
   "outputs": [
    {
     "name": "stdout",
     "output_type": "stream",
     "text": [
      "           Mixed Linear Model Regression Results\n",
      "===========================================================\n",
      "Model:              MixedLM Dependent Variable: Flow_Rate  \n",
      "No. Observations:   6026    Method:             REML       \n",
      "No. Groups:         12      Scale:              14.8742    \n",
      "Min. group size:    480     Log-Likelihood:     -16712.1523\n",
      "Max. group size:    527     Converged:          Yes        \n",
      "Mean group size:    502.2                                  \n",
      "-----------------------------------------------------------\n",
      "                  Coef. Std.Err.   z    P>|z| [0.025 0.975]\n",
      "-----------------------------------------------------------\n",
      "Intercept         2.496    0.382  6.533 0.000  1.747  3.245\n",
      "Rainfall_Le_Croci 0.087    0.006 13.922 0.000  0.075  0.099\n",
      "Group Var         1.717    0.193                           \n",
      "===========================================================\n",
      "\n"
     ]
    }
   ],
   "source": [
    "md = smf.mixedlm(\"Flow_Rate ~ Rainfall_Le_Croci\", bilancino, groups=bilancino[\"Month\"], missing='drop')\n",
    "mdf = md.fit()\n",
    "print(mdf.summary())"
   ]
  },
  {
   "cell_type": "code",
   "execution_count": 20,
   "metadata": {},
   "outputs": [
    {
     "name": "stdout",
     "output_type": "stream",
     "text": [
      "             Mixed Linear Model Regression Results\n",
      "================================================================\n",
      "Model:               MixedLM   Dependent Variable:   Lake_Level \n",
      "No. Observations:    6026      Method:               REML       \n",
      "No. Groups:          12        Scale:                2.4234     \n",
      "Min. group size:     480       Log-Likelihood:       -11259.1884\n",
      "Max. group size:     527       Converged:            Yes        \n",
      "Mean group size:     502.2                                      \n",
      "----------------------------------------------------------------\n",
      "                   Coef.  Std.Err.    z    P>|z|  [0.025  0.975]\n",
      "----------------------------------------------------------------\n",
      "Intercept         249.496    0.465 537.075 0.000 248.586 250.407\n",
      "Rainfall_Le_Croci   0.009    0.003   3.424 0.001   0.004   0.014\n",
      "Group Var           2.584    0.707                              \n",
      "================================================================\n",
      "\n"
     ]
    }
   ],
   "source": [
    "md = smf.mixedlm(\"Lake_Level ~ Rainfall_Le_Croci\", bilancino, groups=bilancino[\"Month\"], missing='drop')\n",
    "mdf = md.fit()\n",
    "print(mdf.summary())"
   ]
  },
  {
   "cell_type": "code",
   "execution_count": 21,
   "metadata": {},
   "outputs": [
    {
     "data": {
      "text/html": [
       "<div>\n",
       "<style scoped>\n",
       "    .dataframe tbody tr th:only-of-type {\n",
       "        vertical-align: middle;\n",
       "    }\n",
       "\n",
       "    .dataframe tbody tr th {\n",
       "        vertical-align: top;\n",
       "    }\n",
       "\n",
       "    .dataframe thead th {\n",
       "        text-align: right;\n",
       "    }\n",
       "</style>\n",
       "<table border=\"1\" class=\"dataframe\">\n",
       "  <thead>\n",
       "    <tr style=\"text-align: right;\">\n",
       "      <th></th>\n",
       "      <th>Area</th>\n",
       "      <th>Flow Rate Corr</th>\n",
       "      <th>Lake Level Corr</th>\n",
       "    </tr>\n",
       "  </thead>\n",
       "  <tbody>\n",
       "    <tr>\n",
       "      <th>0</th>\n",
       "      <td>Piero</td>\n",
       "      <td>0.079</td>\n",
       "      <td>0.010</td>\n",
       "    </tr>\n",
       "    <tr>\n",
       "      <th>1</th>\n",
       "      <td>Mangona</td>\n",
       "      <td>0.070</td>\n",
       "      <td>0.008</td>\n",
       "    </tr>\n",
       "    <tr>\n",
       "      <th>2</th>\n",
       "      <td>S Agata</td>\n",
       "      <td>0.085</td>\n",
       "      <td>0.010</td>\n",
       "    </tr>\n",
       "    <tr>\n",
       "      <th>3</th>\n",
       "      <td>Cavallina</td>\n",
       "      <td>0.084</td>\n",
       "      <td>0.009</td>\n",
       "    </tr>\n",
       "    <tr>\n",
       "      <th>4</th>\n",
       "      <td>Le Croci</td>\n",
       "      <td>0.087</td>\n",
       "      <td>0.009</td>\n",
       "    </tr>\n",
       "  </tbody>\n",
       "</table>\n",
       "</div>"
      ],
      "text/plain": [
       "        Area  Flow Rate Corr  Lake Level Corr\n",
       "0      Piero           0.079            0.010\n",
       "1    Mangona           0.070            0.008\n",
       "2    S Agata           0.085            0.010\n",
       "3  Cavallina           0.084            0.009\n",
       "4   Le Croci           0.087            0.009"
      ]
     },
     "execution_count": 21,
     "metadata": {},
     "output_type": "execute_result"
    }
   ],
   "source": [
    "pd.DataFrame({'Area': ['Piero', 'Mangona', 'S Agata', 'Cavallina', 'Le Croci'], \n",
    "              'Flow Rate Corr': [0.079, 0.070, 0.085, 0.084, 0.087], 'Lake Level Corr': [0.010, 0.008, 0.010, 0.009, 0.009]})"
   ]
  },
  {
   "cell_type": "code",
   "execution_count": 22,
   "metadata": {},
   "outputs": [
    {
     "data": {
      "image/png": "[encoded data removed]",
      "text/plain": [
       "<Figure size 432x288 with 1 Axes>"
      ]
     },
     "metadata": {
      "needs_background": "light"
     },
     "output_type": "display_data"
    }
   ],
   "source": [
    "plt.scatter(bilancino['Rainfall_Mangona'].dropna() - mdf.resid, mdf.resid, alpha = 0.5)\n",
    "plt.title(\"Residual vs. Fitted\")\n",
    "plt.xlabel(\"Fitted Values\")\n",
    "plt.ylabel(\"Residuals\")\n",
    "plt.show()"
   ]
  },
  {
   "cell_type": "markdown",
   "metadata": {},
   "source": [
    "## 4.2 Interval all the flow rates and categorize 0-25%,25%-50%,50%-75%,75%-100%, and group all the data annually to see if there is shortage or surplus in certain years."
   ]
  },
  {
   "cell_type": "code",
   "execution_count": 23,
   "metadata": {},
   "outputs": [
    {
     "data": {
      "text/html": [
       "<div>\n",
       "<style scoped>\n",
       "    .dataframe tbody tr th:only-of-type {\n",
       "        vertical-align: middle;\n",
       "    }\n",
       "\n",
       "    .dataframe tbody tr th {\n",
       "        vertical-align: top;\n",
       "    }\n",
       "\n",
       "    .dataframe thead th {\n",
       "        text-align: right;\n",
       "    }\n",
       "</style>\n",
       "<table border=\"1\" class=\"dataframe\">\n",
       "  <thead>\n",
       "    <tr style=\"text-align: right;\">\n",
       "      <th></th>\n",
       "      <th>Date</th>\n",
       "      <th>Rainfall_S_Piero</th>\n",
       "      <th>Rainfall_Mangona</th>\n",
       "      <th>Rainfall_S_Agata</th>\n",
       "      <th>Rainfall_Cavallina</th>\n",
       "      <th>Rainfall_Le_Croci</th>\n",
       "      <th>Temperature_Le_Croci</th>\n",
       "      <th>Lake_Level</th>\n",
       "      <th>Flow_Rate</th>\n",
       "    </tr>\n",
       "  </thead>\n",
       "  <tbody>\n",
       "    <tr>\n",
       "      <th>0</th>\n",
       "      <td>03/06/2002</td>\n",
       "      <td>NaN</td>\n",
       "      <td>NaN</td>\n",
       "      <td>NaN</td>\n",
       "      <td>NaN</td>\n",
       "      <td>NaN</td>\n",
       "      <td>NaN</td>\n",
       "      <td>249.43</td>\n",
       "      <td>0.31</td>\n",
       "    </tr>\n",
       "    <tr>\n",
       "      <th>1</th>\n",
       "      <td>04/06/2002</td>\n",
       "      <td>NaN</td>\n",
       "      <td>NaN</td>\n",
       "      <td>NaN</td>\n",
       "      <td>NaN</td>\n",
       "      <td>NaN</td>\n",
       "      <td>NaN</td>\n",
       "      <td>249.43</td>\n",
       "      <td>0.31</td>\n",
       "    </tr>\n",
       "    <tr>\n",
       "      <th>2</th>\n",
       "      <td>05/06/2002</td>\n",
       "      <td>NaN</td>\n",
       "      <td>NaN</td>\n",
       "      <td>NaN</td>\n",
       "      <td>NaN</td>\n",
       "      <td>NaN</td>\n",
       "      <td>NaN</td>\n",
       "      <td>249.43</td>\n",
       "      <td>0.31</td>\n",
       "    </tr>\n",
       "    <tr>\n",
       "      <th>3</th>\n",
       "      <td>06/06/2002</td>\n",
       "      <td>NaN</td>\n",
       "      <td>NaN</td>\n",
       "      <td>NaN</td>\n",
       "      <td>NaN</td>\n",
       "      <td>NaN</td>\n",
       "      <td>NaN</td>\n",
       "      <td>249.43</td>\n",
       "      <td>0.31</td>\n",
       "    </tr>\n",
       "    <tr>\n",
       "      <th>4</th>\n",
       "      <td>07/06/2002</td>\n",
       "      <td>NaN</td>\n",
       "      <td>NaN</td>\n",
       "      <td>NaN</td>\n",
       "      <td>NaN</td>\n",
       "      <td>NaN</td>\n",
       "      <td>NaN</td>\n",
       "      <td>249.44</td>\n",
       "      <td>0.31</td>\n",
       "    </tr>\n",
       "    <tr>\n",
       "      <th>...</th>\n",
       "      <td>...</td>\n",
       "      <td>...</td>\n",
       "      <td>...</td>\n",
       "      <td>...</td>\n",
       "      <td>...</td>\n",
       "      <td>...</td>\n",
       "      <td>...</td>\n",
       "      <td>...</td>\n",
       "      <td>...</td>\n",
       "    </tr>\n",
       "    <tr>\n",
       "      <th>6598</th>\n",
       "      <td>26/06/2020</td>\n",
       "      <td>0.0</td>\n",
       "      <td>0.0</td>\n",
       "      <td>0.0</td>\n",
       "      <td>0.0</td>\n",
       "      <td>0.0</td>\n",
       "      <td>22.50</td>\n",
       "      <td>250.85</td>\n",
       "      <td>0.60</td>\n",
       "    </tr>\n",
       "    <tr>\n",
       "      <th>6599</th>\n",
       "      <td>27/06/2020</td>\n",
       "      <td>0.0</td>\n",
       "      <td>0.0</td>\n",
       "      <td>0.0</td>\n",
       "      <td>0.0</td>\n",
       "      <td>0.0</td>\n",
       "      <td>23.40</td>\n",
       "      <td>250.84</td>\n",
       "      <td>0.60</td>\n",
       "    </tr>\n",
       "    <tr>\n",
       "      <th>6600</th>\n",
       "      <td>28/06/2020</td>\n",
       "      <td>0.0</td>\n",
       "      <td>0.0</td>\n",
       "      <td>0.0</td>\n",
       "      <td>0.0</td>\n",
       "      <td>0.0</td>\n",
       "      <td>21.50</td>\n",
       "      <td>250.83</td>\n",
       "      <td>0.60</td>\n",
       "    </tr>\n",
       "    <tr>\n",
       "      <th>6601</th>\n",
       "      <td>29/06/2020</td>\n",
       "      <td>0.0</td>\n",
       "      <td>0.0</td>\n",
       "      <td>0.0</td>\n",
       "      <td>0.0</td>\n",
       "      <td>0.0</td>\n",
       "      <td>23.20</td>\n",
       "      <td>250.82</td>\n",
       "      <td>0.60</td>\n",
       "    </tr>\n",
       "    <tr>\n",
       "      <th>6602</th>\n",
       "      <td>30/06/2020</td>\n",
       "      <td>0.0</td>\n",
       "      <td>0.0</td>\n",
       "      <td>0.0</td>\n",
       "      <td>0.0</td>\n",
       "      <td>0.0</td>\n",
       "      <td>22.75</td>\n",
       "      <td>250.80</td>\n",
       "      <td>0.60</td>\n",
       "    </tr>\n",
       "  </tbody>\n",
       "</table>\n",
       "<p>6603 rows × 9 columns</p>\n",
       "</div>"
      ],
      "text/plain": [
       "            Date  Rainfall_S_Piero  Rainfall_Mangona  Rainfall_S_Agata  \\\n",
       "0     03/06/2002               NaN               NaN               NaN   \n",
       "1     04/06/2002               NaN               NaN               NaN   \n",
       "2     05/06/2002               NaN               NaN               NaN   \n",
       "3     06/06/2002               NaN               NaN               NaN   \n",
       "4     07/06/2002               NaN               NaN               NaN   \n",
       "...          ...               ...               ...               ...   \n",
       "6598  26/06/2020               0.0               0.0               0.0   \n",
       "6599  27/06/2020               0.0               0.0               0.0   \n",
       "6600  28/06/2020               0.0               0.0               0.0   \n",
       "6601  29/06/2020               0.0               0.0               0.0   \n",
       "6602  30/06/2020               0.0               0.0               0.0   \n",
       "\n",
       "      Rainfall_Cavallina  Rainfall_Le_Croci  Temperature_Le_Croci  Lake_Level  \\\n",
       "0                    NaN                NaN                   NaN      249.43   \n",
       "1                    NaN                NaN                   NaN      249.43   \n",
       "2                    NaN                NaN                   NaN      249.43   \n",
       "3                    NaN                NaN                   NaN      249.43   \n",
       "4                    NaN                NaN                   NaN      249.44   \n",
       "...                  ...                ...                   ...         ...   \n",
       "6598                 0.0                0.0                 22.50      250.85   \n",
       "6599                 0.0                0.0                 23.40      250.84   \n",
       "6600                 0.0                0.0                 21.50      250.83   \n",
       "6601                 0.0                0.0                 23.20      250.82   \n",
       "6602                 0.0                0.0                 22.75      250.80   \n",
       "\n",
       "      Flow_Rate  \n",
       "0          0.31  \n",
       "1          0.31  \n",
       "2          0.31  \n",
       "3          0.31  \n",
       "4          0.31  \n",
       "...         ...  \n",
       "6598       0.60  \n",
       "6599       0.60  \n",
       "6600       0.60  \n",
       "6601       0.60  \n",
       "6602       0.60  \n",
       "\n",
       "[6603 rows x 9 columns]"
      ]
     },
     "execution_count": 23,
     "metadata": {},
     "output_type": "execute_result"
    }
   ],
   "source": [
    "LakeData=pd.read_csv('Lake_Bilancino.csv')\n",
    "LakeData"
   ]
  },
  {
   "cell_type": "code",
   "execution_count": 24,
   "metadata": {
    "scrolled": true
   },
   "outputs": [
    {
     "name": "stderr",
     "output_type": "stream",
     "text": [
      "<ipython-input-24-022f43b6541c>:2: SettingWithCopyWarning: \n",
      "A value is trying to be set on a copy of a slice from a DataFrame.\n",
      "Try using .loc[row_indexer,col_indexer] = value instead\n",
      "\n",
      "See the caveats in the documentation: https://pandas.pydata.org/pandas-docs/stable/user_guide/indexing.html#returning-a-view-versus-a-copy\n",
      "  LakeData['totalRainfall']=LakeData.Rainfall_S_Piero+LakeData.Rainfall_Mangona+LakeData.Rainfall_S_Agata+LakeData.Rainfall_Cavallina+LakeData.Rainfall_Le_Croci\n"
     ]
    },
    {
     "data": {
      "text/html": [
       "<div>\n",
       "<style scoped>\n",
       "    .dataframe tbody tr th:only-of-type {\n",
       "        vertical-align: middle;\n",
       "    }\n",
       "\n",
       "    .dataframe tbody tr th {\n",
       "        vertical-align: top;\n",
       "    }\n",
       "\n",
       "    .dataframe thead th {\n",
       "        text-align: right;\n",
       "    }\n",
       "</style>\n",
       "<table border=\"1\" class=\"dataframe\">\n",
       "  <thead>\n",
       "    <tr style=\"text-align: right;\">\n",
       "      <th></th>\n",
       "      <th>Date</th>\n",
       "      <th>Rainfall_S_Piero</th>\n",
       "      <th>Rainfall_Mangona</th>\n",
       "      <th>Rainfall_S_Agata</th>\n",
       "      <th>Rainfall_Cavallina</th>\n",
       "      <th>Rainfall_Le_Croci</th>\n",
       "      <th>Temperature_Le_Croci</th>\n",
       "      <th>Lake_Level</th>\n",
       "      <th>Flow_Rate</th>\n",
       "      <th>totalRainfall</th>\n",
       "    </tr>\n",
       "  </thead>\n",
       "  <tbody>\n",
       "    <tr>\n",
       "      <th>578</th>\n",
       "      <td>02/01/2004</td>\n",
       "      <td>0.0</td>\n",
       "      <td>0.0</td>\n",
       "      <td>0.0</td>\n",
       "      <td>0.0</td>\n",
       "      <td>0.0</td>\n",
       "      <td>6.50</td>\n",
       "      <td>251.21</td>\n",
       "      <td>0.5</td>\n",
       "      <td>0.0</td>\n",
       "    </tr>\n",
       "    <tr>\n",
       "      <th>579</th>\n",
       "      <td>03/01/2004</td>\n",
       "      <td>0.0</td>\n",
       "      <td>0.0</td>\n",
       "      <td>0.0</td>\n",
       "      <td>0.0</td>\n",
       "      <td>0.0</td>\n",
       "      <td>4.45</td>\n",
       "      <td>251.28</td>\n",
       "      <td>0.5</td>\n",
       "      <td>0.0</td>\n",
       "    </tr>\n",
       "    <tr>\n",
       "      <th>580</th>\n",
       "      <td>04/01/2004</td>\n",
       "      <td>0.0</td>\n",
       "      <td>0.0</td>\n",
       "      <td>0.0</td>\n",
       "      <td>0.0</td>\n",
       "      <td>0.0</td>\n",
       "      <td>2.00</td>\n",
       "      <td>251.35</td>\n",
       "      <td>0.5</td>\n",
       "      <td>0.0</td>\n",
       "    </tr>\n",
       "    <tr>\n",
       "      <th>581</th>\n",
       "      <td>05/01/2004</td>\n",
       "      <td>0.2</td>\n",
       "      <td>0.0</td>\n",
       "      <td>0.0</td>\n",
       "      <td>0.0</td>\n",
       "      <td>0.0</td>\n",
       "      <td>0.90</td>\n",
       "      <td>251.37</td>\n",
       "      <td>0.5</td>\n",
       "      <td>0.2</td>\n",
       "    </tr>\n",
       "    <tr>\n",
       "      <th>582</th>\n",
       "      <td>06/01/2004</td>\n",
       "      <td>0.0</td>\n",
       "      <td>0.0</td>\n",
       "      <td>0.0</td>\n",
       "      <td>0.0</td>\n",
       "      <td>0.0</td>\n",
       "      <td>2.25</td>\n",
       "      <td>251.42</td>\n",
       "      <td>0.5</td>\n",
       "      <td>0.0</td>\n",
       "    </tr>\n",
       "    <tr>\n",
       "      <th>...</th>\n",
       "      <td>...</td>\n",
       "      <td>...</td>\n",
       "      <td>...</td>\n",
       "      <td>...</td>\n",
       "      <td>...</td>\n",
       "      <td>...</td>\n",
       "      <td>...</td>\n",
       "      <td>...</td>\n",
       "      <td>...</td>\n",
       "      <td>...</td>\n",
       "    </tr>\n",
       "    <tr>\n",
       "      <th>6598</th>\n",
       "      <td>26/06/2020</td>\n",
       "      <td>0.0</td>\n",
       "      <td>0.0</td>\n",
       "      <td>0.0</td>\n",
       "      <td>0.0</td>\n",
       "      <td>0.0</td>\n",
       "      <td>22.50</td>\n",
       "      <td>250.85</td>\n",
       "      <td>0.6</td>\n",
       "      <td>0.0</td>\n",
       "    </tr>\n",
       "    <tr>\n",
       "      <th>6599</th>\n",
       "      <td>27/06/2020</td>\n",
       "      <td>0.0</td>\n",
       "      <td>0.0</td>\n",
       "      <td>0.0</td>\n",
       "      <td>0.0</td>\n",
       "      <td>0.0</td>\n",
       "      <td>23.40</td>\n",
       "      <td>250.84</td>\n",
       "      <td>0.6</td>\n",
       "      <td>0.0</td>\n",
       "    </tr>\n",
       "    <tr>\n",
       "      <th>6600</th>\n",
       "      <td>28/06/2020</td>\n",
       "      <td>0.0</td>\n",
       "      <td>0.0</td>\n",
       "      <td>0.0</td>\n",
       "      <td>0.0</td>\n",
       "      <td>0.0</td>\n",
       "      <td>21.50</td>\n",
       "      <td>250.83</td>\n",
       "      <td>0.6</td>\n",
       "      <td>0.0</td>\n",
       "    </tr>\n",
       "    <tr>\n",
       "      <th>6601</th>\n",
       "      <td>29/06/2020</td>\n",
       "      <td>0.0</td>\n",
       "      <td>0.0</td>\n",
       "      <td>0.0</td>\n",
       "      <td>0.0</td>\n",
       "      <td>0.0</td>\n",
       "      <td>23.20</td>\n",
       "      <td>250.82</td>\n",
       "      <td>0.6</td>\n",
       "      <td>0.0</td>\n",
       "    </tr>\n",
       "    <tr>\n",
       "      <th>6602</th>\n",
       "      <td>30/06/2020</td>\n",
       "      <td>0.0</td>\n",
       "      <td>0.0</td>\n",
       "      <td>0.0</td>\n",
       "      <td>0.0</td>\n",
       "      <td>0.0</td>\n",
       "      <td>22.75</td>\n",
       "      <td>250.80</td>\n",
       "      <td>0.6</td>\n",
       "      <td>0.0</td>\n",
       "    </tr>\n",
       "  </tbody>\n",
       "</table>\n",
       "<p>6025 rows × 10 columns</p>\n",
       "</div>"
      ],
      "text/plain": [
       "            Date  Rainfall_S_Piero  Rainfall_Mangona  Rainfall_S_Agata  \\\n",
       "578   02/01/2004               0.0               0.0               0.0   \n",
       "579   03/01/2004               0.0               0.0               0.0   \n",
       "580   04/01/2004               0.0               0.0               0.0   \n",
       "581   05/01/2004               0.2               0.0               0.0   \n",
       "582   06/01/2004               0.0               0.0               0.0   \n",
       "...          ...               ...               ...               ...   \n",
       "6598  26/06/2020               0.0               0.0               0.0   \n",
       "6599  27/06/2020               0.0               0.0               0.0   \n",
       "6600  28/06/2020               0.0               0.0               0.0   \n",
       "6601  29/06/2020               0.0               0.0               0.0   \n",
       "6602  30/06/2020               0.0               0.0               0.0   \n",
       "\n",
       "      Rainfall_Cavallina  Rainfall_Le_Croci  Temperature_Le_Croci  Lake_Level  \\\n",
       "578                  0.0                0.0                  6.50      251.21   \n",
       "579                  0.0                0.0                  4.45      251.28   \n",
       "580                  0.0                0.0                  2.00      251.35   \n",
       "581                  0.0                0.0                  0.90      251.37   \n",
       "582                  0.0                0.0                  2.25      251.42   \n",
       "...                  ...                ...                   ...         ...   \n",
       "6598                 0.0                0.0                 22.50      250.85   \n",
       "6599                 0.0                0.0                 23.40      250.84   \n",
       "6600                 0.0                0.0                 21.50      250.83   \n",
       "6601                 0.0                0.0                 23.20      250.82   \n",
       "6602                 0.0                0.0                 22.75      250.80   \n",
       "\n",
       "      Flow_Rate  totalRainfall  \n",
       "578         0.5            0.0  \n",
       "579         0.5            0.0  \n",
       "580         0.5            0.0  \n",
       "581         0.5            0.2  \n",
       "582         0.5            0.0  \n",
       "...         ...            ...  \n",
       "6598        0.6            0.0  \n",
       "6599        0.6            0.0  \n",
       "6600        0.6            0.0  \n",
       "6601        0.6            0.0  \n",
       "6602        0.6            0.0  \n",
       "\n",
       "[6025 rows x 10 columns]"
      ]
     },
     "execution_count": 24,
     "metadata": {},
     "output_type": "execute_result"
    }
   ],
   "source": [
    "LakeData=LakeData.dropna()\n",
    "LakeData['totalRainfall']=LakeData.Rainfall_S_Piero+LakeData.Rainfall_Mangona+LakeData.Rainfall_S_Agata+LakeData.Rainfall_Cavallina+LakeData.Rainfall_Le_Croci\n",
    "LakeData"
   ]
  },
  {
   "cell_type": "code",
   "execution_count": 25,
   "metadata": {},
   "outputs": [],
   "source": [
    "# Returns descriptive statistics on any dataset and weight column.\n",
    "def descriptive_stats(dataset, weight_column):\n",
    "    col = dataset[weight_column]\n",
    "    print('Mean:', np.mean(col))\n",
    "    print('Median:', np.median(col))\n",
    "    print('Q1:', np.percentile(col, 25))\n",
    "    print('Q2:', np.percentile(col, 50))\n",
    "    print('Q3:', np.percentile(col, 75))\n",
    "    print('Q4:', np.percentile(col, 100))\n",
    "    print('Inter-Quartile Range:', np.percentile(col, 75) - np.percentile(col, 25))\n",
    "    print('Standard Deviation:', np.std(col))\n",
    "    print('Variance:', np.var(col))\n",
    "    print('Range:', np.max(col) - np.min(col))\n",
    "    print('-----------------------------------------')"
   ]
  },
  {
   "cell_type": "code",
   "execution_count": 26,
   "metadata": {},
   "outputs": [
    {
     "data": {
      "text/plain": [
       "<AxesSubplot:title={'center':'Histogram of All Lake_Level'}, ylabel='Frequency'>"
      ]
     },
     "execution_count": 26,
     "metadata": {},
     "output_type": "execute_result"
    },
    {
     "data": {
      "image/png": "[encoded data removed]",
      "text/plain": [
       "<Figure size 432x288 with 1 Axes>"
      ]
     },
     "metadata": {
      "needs_background": "light"
     },
     "output_type": "display_data"
    }
   ],
   "source": [
    "LakeData['Lake_Level'].plot(kind='hist',bins=50, title='Histogram of All Lake_Level')"
   ]
  },
  {
   "cell_type": "code",
   "execution_count": 27,
   "metadata": {},
   "outputs": [
    {
     "name": "stdout",
     "output_type": "stream",
     "text": [
      "Mean: 249.5534721991694\n",
      "Median: 250.24\n",
      "Q1: 247.93\n",
      "Q2: 250.24\n",
      "Q3: 251.37\n",
      "Q4: 252.76\n",
      "Inter-Quartile Range: 3.4399999999999977\n",
      "Standard Deviation: 2.183152760808995\n",
      "Variance: 4.766155977027938\n",
      "Range: 9.22999999999999\n",
      "-----------------------------------------\n"
     ]
    }
   ],
   "source": [
    "descriptive_stats(LakeData,'Lake_Level')"
   ]
  },
  {
   "cell_type": "code",
   "execution_count": 28,
   "metadata": {},
   "outputs": [
    {
     "data": {
      "text/plain": [
       "<AxesSubplot:title={'center':'Histogram of All Flow_Rate'}, ylabel='Frequency'>"
      ]
     },
     "execution_count": 28,
     "metadata": {},
     "output_type": "execute_result"
    },
    {
     "data": {
      "image/png": "[encoded data removed]",
      "text/plain": [
       "<Figure size 432x288 with 1 Axes>"
      ]
     },
     "metadata": {
      "needs_background": "light"
     },
     "output_type": "display_data"
    }
   ],
   "source": [
    "LakeData['Flow_Rate'].plot(kind='hist',bins=150, title='Histogram of All Flow_Rate',xlabel='flow rate')"
   ]
  },
  {
   "cell_type": "code",
   "execution_count": 29,
   "metadata": {},
   "outputs": [
    {
     "name": "stdout",
     "output_type": "stream",
     "text": [
      "Mean: 2.7782041493776783\n",
      "Median: 1.5\n",
      "Q1: 0.6\n",
      "Q2: 1.5\n",
      "Q3: 3.0\n",
      "Q4: 74.65\n",
      "Inter-Quartile Range: 2.4\n",
      "Standard Deviation: 4.130833602567077\n",
      "Variance: 17.063786252097298\n",
      "Range: 74.2\n",
      "-----------------------------------------\n"
     ]
    }
   ],
   "source": [
    "descriptive_stats(LakeData,'Flow_Rate')"
   ]
  },
  {
   "cell_type": "code",
   "execution_count": 30,
   "metadata": {},
   "outputs": [
    {
     "data": {
      "text/plain": [
       "249.5534721991694"
      ]
     },
     "execution_count": 30,
     "metadata": {},
     "output_type": "execute_result"
    }
   ],
   "source": [
    "avg_Lake_Level=np.mean(LakeData['Lake_Level'])\n",
    "avg_Lake_Level"
   ]
  },
  {
   "cell_type": "code",
   "execution_count": 31,
   "metadata": {
    "scrolled": true
   },
   "outputs": [
    {
     "data": {
      "text/plain": [
       "2.7782041493776783"
      ]
     },
     "execution_count": 31,
     "metadata": {},
     "output_type": "execute_result"
    }
   ],
   "source": [
    "avg_Flow_Rate=np.mean(LakeData['Flow_Rate'])\n",
    "avg_Flow_Rate"
   ]
  },
  {
   "cell_type": "code",
   "execution_count": 32,
   "metadata": {},
   "outputs": [
    {
     "data": {
      "text/plain": [
       "60.385903015041045"
      ]
     },
     "execution_count": 32,
     "metadata": {},
     "output_type": "execute_result"
    }
   ],
   "source": [
    "kurtosis(LakeData['Flow_Rate'],fisher=True)"
   ]
  },
  {
   "cell_type": "code",
   "execution_count": 33,
   "metadata": {},
   "outputs": [],
   "source": [
    "num_NRain=0\n",
    "sum_Flow_Rate_NRain=0"
   ]
  },
  {
   "cell_type": "code",
   "execution_count": 34,
   "metadata": {},
   "outputs": [],
   "source": [
    "for x,y in zip(LakeData['totalRainfall'],LakeData['Flow_Rate']):\n",
    "    if(x==0):\n",
    "        num_NRain+=1\n",
    "        sum_Flow_Rate_NRain+=y\n",
    "        "
   ]
  },
  {
   "cell_type": "code",
   "execution_count": 35,
   "metadata": {},
   "outputs": [
    {
     "data": {
      "text/plain": [
       "2.2328916470983247"
      ]
     },
     "execution_count": 35,
     "metadata": {},
     "output_type": "execute_result"
    }
   ],
   "source": [
    "sum_Flow_Rate_NRain\n",
    "num_NRain\n",
    "avg_Flow_Rate_NRain= sum_Flow_Rate_NRain/num_NRain\n",
    "avg_Flow_Rate_NRain"
   ]
  },
  {
   "cell_type": "code",
   "execution_count": 36,
   "metadata": {
    "scrolled": true
   },
   "outputs": [
    {
     "name": "stderr",
     "output_type": "stream",
     "text": [
      "<ipython-input-36-42c075d3b44a>:1: SettingWithCopyWarning: \n",
      "A value is trying to be set on a copy of a slice from a DataFrame.\n",
      "Try using .loc[row_indexer,col_indexer] = value instead\n",
      "\n",
      "See the caveats in the documentation: https://pandas.pydata.org/pandas-docs/stable/user_guide/indexing.html#returning-a-view-versus-a-copy\n",
      "  LakeData['dflowRate']=LakeData['Flow_Rate']-avg_Flow_Rate_NRain\n",
      "<ipython-input-36-42c075d3b44a>:2: SettingWithCopyWarning: \n",
      "A value is trying to be set on a copy of a slice from a DataFrame.\n",
      "Try using .loc[row_indexer,col_indexer] = value instead\n",
      "\n",
      "See the caveats in the documentation: https://pandas.pydata.org/pandas-docs/stable/user_guide/indexing.html#returning-a-view-versus-a-copy\n",
      "  LakeData[\"Date\"] = pd.to_datetime(LakeData[\"Date\"])\n",
      "<ipython-input-36-42c075d3b44a>:3: SettingWithCopyWarning: \n",
      "A value is trying to be set on a copy of a slice from a DataFrame.\n",
      "Try using .loc[row_indexer,col_indexer] = value instead\n",
      "\n",
      "See the caveats in the documentation: https://pandas.pydata.org/pandas-docs/stable/user_guide/indexing.html#returning-a-view-versus-a-copy\n",
      "  LakeData[\"Year\"] = pd.DatetimeIndex(LakeData[\"Date\"]).year\n"
     ]
    },
    {
     "data": {
      "text/html": [
       "<div>\n",
       "<style scoped>\n",
       "    .dataframe tbody tr th:only-of-type {\n",
       "        vertical-align: middle;\n",
       "    }\n",
       "\n",
       "    .dataframe tbody tr th {\n",
       "        vertical-align: top;\n",
       "    }\n",
       "\n",
       "    .dataframe thead th {\n",
       "        text-align: right;\n",
       "    }\n",
       "</style>\n",
       "<table border=\"1\" class=\"dataframe\">\n",
       "  <thead>\n",
       "    <tr style=\"text-align: right;\">\n",
       "      <th></th>\n",
       "      <th>Date</th>\n",
       "      <th>Rainfall_S_Piero</th>\n",
       "      <th>Rainfall_Mangona</th>\n",
       "      <th>Rainfall_S_Agata</th>\n",
       "      <th>Rainfall_Cavallina</th>\n",
       "      <th>Rainfall_Le_Croci</th>\n",
       "      <th>Temperature_Le_Croci</th>\n",
       "      <th>Lake_Level</th>\n",
       "      <th>Flow_Rate</th>\n",
       "      <th>totalRainfall</th>\n",
       "      <th>dflowRate</th>\n",
       "      <th>Year</th>\n",
       "    </tr>\n",
       "  </thead>\n",
       "  <tbody>\n",
       "    <tr>\n",
       "      <th>578</th>\n",
       "      <td>2004-02-01</td>\n",
       "      <td>0.0</td>\n",
       "      <td>0.0</td>\n",
       "      <td>0.0</td>\n",
       "      <td>0.0</td>\n",
       "      <td>0.0</td>\n",
       "      <td>6.50</td>\n",
       "      <td>251.21</td>\n",
       "      <td>0.5</td>\n",
       "      <td>0.0</td>\n",
       "      <td>-1.732892</td>\n",
       "      <td>2004</td>\n",
       "    </tr>\n",
       "    <tr>\n",
       "      <th>579</th>\n",
       "      <td>2004-03-01</td>\n",
       "      <td>0.0</td>\n",
       "      <td>0.0</td>\n",
       "      <td>0.0</td>\n",
       "      <td>0.0</td>\n",
       "      <td>0.0</td>\n",
       "      <td>4.45</td>\n",
       "      <td>251.28</td>\n",
       "      <td>0.5</td>\n",
       "      <td>0.0</td>\n",
       "      <td>-1.732892</td>\n",
       "      <td>2004</td>\n",
       "    </tr>\n",
       "    <tr>\n",
       "      <th>580</th>\n",
       "      <td>2004-04-01</td>\n",
       "      <td>0.0</td>\n",
       "      <td>0.0</td>\n",
       "      <td>0.0</td>\n",
       "      <td>0.0</td>\n",
       "      <td>0.0</td>\n",
       "      <td>2.00</td>\n",
       "      <td>251.35</td>\n",
       "      <td>0.5</td>\n",
       "      <td>0.0</td>\n",
       "      <td>-1.732892</td>\n",
       "      <td>2004</td>\n",
       "    </tr>\n",
       "    <tr>\n",
       "      <th>581</th>\n",
       "      <td>2004-05-01</td>\n",
       "      <td>0.2</td>\n",
       "      <td>0.0</td>\n",
       "      <td>0.0</td>\n",
       "      <td>0.0</td>\n",
       "      <td>0.0</td>\n",
       "      <td>0.90</td>\n",
       "      <td>251.37</td>\n",
       "      <td>0.5</td>\n",
       "      <td>0.2</td>\n",
       "      <td>-1.732892</td>\n",
       "      <td>2004</td>\n",
       "    </tr>\n",
       "    <tr>\n",
       "      <th>582</th>\n",
       "      <td>2004-06-01</td>\n",
       "      <td>0.0</td>\n",
       "      <td>0.0</td>\n",
       "      <td>0.0</td>\n",
       "      <td>0.0</td>\n",
       "      <td>0.0</td>\n",
       "      <td>2.25</td>\n",
       "      <td>251.42</td>\n",
       "      <td>0.5</td>\n",
       "      <td>0.0</td>\n",
       "      <td>-1.732892</td>\n",
       "      <td>2004</td>\n",
       "    </tr>\n",
       "    <tr>\n",
       "      <th>...</th>\n",
       "      <td>...</td>\n",
       "      <td>...</td>\n",
       "      <td>...</td>\n",
       "      <td>...</td>\n",
       "      <td>...</td>\n",
       "      <td>...</td>\n",
       "      <td>...</td>\n",
       "      <td>...</td>\n",
       "      <td>...</td>\n",
       "      <td>...</td>\n",
       "      <td>...</td>\n",
       "      <td>...</td>\n",
       "    </tr>\n",
       "    <tr>\n",
       "      <th>6598</th>\n",
       "      <td>2020-06-26</td>\n",
       "      <td>0.0</td>\n",
       "      <td>0.0</td>\n",
       "      <td>0.0</td>\n",
       "      <td>0.0</td>\n",
       "      <td>0.0</td>\n",
       "      <td>22.50</td>\n",
       "      <td>250.85</td>\n",
       "      <td>0.6</td>\n",
       "      <td>0.0</td>\n",
       "      <td>-1.632892</td>\n",
       "      <td>2020</td>\n",
       "    </tr>\n",
       "    <tr>\n",
       "      <th>6599</th>\n",
       "      <td>2020-06-27</td>\n",
       "      <td>0.0</td>\n",
       "      <td>0.0</td>\n",
       "      <td>0.0</td>\n",
       "      <td>0.0</td>\n",
       "      <td>0.0</td>\n",
       "      <td>23.40</td>\n",
       "      <td>250.84</td>\n",
       "      <td>0.6</td>\n",
       "      <td>0.0</td>\n",
       "      <td>-1.632892</td>\n",
       "      <td>2020</td>\n",
       "    </tr>\n",
       "    <tr>\n",
       "      <th>6600</th>\n",
       "      <td>2020-06-28</td>\n",
       "      <td>0.0</td>\n",
       "      <td>0.0</td>\n",
       "      <td>0.0</td>\n",
       "      <td>0.0</td>\n",
       "      <td>0.0</td>\n",
       "      <td>21.50</td>\n",
       "      <td>250.83</td>\n",
       "      <td>0.6</td>\n",
       "      <td>0.0</td>\n",
       "      <td>-1.632892</td>\n",
       "      <td>2020</td>\n",
       "    </tr>\n",
       "    <tr>\n",
       "      <th>6601</th>\n",
       "      <td>2020-06-29</td>\n",
       "      <td>0.0</td>\n",
       "      <td>0.0</td>\n",
       "      <td>0.0</td>\n",
       "      <td>0.0</td>\n",
       "      <td>0.0</td>\n",
       "      <td>23.20</td>\n",
       "      <td>250.82</td>\n",
       "      <td>0.6</td>\n",
       "      <td>0.0</td>\n",
       "      <td>-1.632892</td>\n",
       "      <td>2020</td>\n",
       "    </tr>\n",
       "    <tr>\n",
       "      <th>6602</th>\n",
       "      <td>2020-06-30</td>\n",
       "      <td>0.0</td>\n",
       "      <td>0.0</td>\n",
       "      <td>0.0</td>\n",
       "      <td>0.0</td>\n",
       "      <td>0.0</td>\n",
       "      <td>22.75</td>\n",
       "      <td>250.80</td>\n",
       "      <td>0.6</td>\n",
       "      <td>0.0</td>\n",
       "      <td>-1.632892</td>\n",
       "      <td>2020</td>\n",
       "    </tr>\n",
       "  </tbody>\n",
       "</table>\n",
       "<p>6025 rows × 12 columns</p>\n",
       "</div>"
      ],
      "text/plain": [
       "           Date  Rainfall_S_Piero  Rainfall_Mangona  Rainfall_S_Agata  \\\n",
       "578  2004-02-01               0.0               0.0               0.0   \n",
       "579  2004-03-01               0.0               0.0               0.0   \n",
       "580  2004-04-01               0.0               0.0               0.0   \n",
       "581  2004-05-01               0.2               0.0               0.0   \n",
       "582  2004-06-01               0.0               0.0               0.0   \n",
       "...         ...               ...               ...               ...   \n",
       "6598 2020-06-26               0.0               0.0               0.0   \n",
       "6599 2020-06-27               0.0               0.0               0.0   \n",
       "6600 2020-06-28               0.0               0.0               0.0   \n",
       "6601 2020-06-29               0.0               0.0               0.0   \n",
       "6602 2020-06-30               0.0               0.0               0.0   \n",
       "\n",
       "      Rainfall_Cavallina  Rainfall_Le_Croci  Temperature_Le_Croci  Lake_Level  \\\n",
       "578                  0.0                0.0                  6.50      251.21   \n",
       "579                  0.0                0.0                  4.45      251.28   \n",
       "580                  0.0                0.0                  2.00      251.35   \n",
       "581                  0.0                0.0                  0.90      251.37   \n",
       "582                  0.0                0.0                  2.25      251.42   \n",
       "...                  ...                ...                   ...         ...   \n",
       "6598                 0.0                0.0                 22.50      250.85   \n",
       "6599                 0.0                0.0                 23.40      250.84   \n",
       "6600                 0.0                0.0                 21.50      250.83   \n",
       "6601                 0.0                0.0                 23.20      250.82   \n",
       "6602                 0.0                0.0                 22.75      250.80   \n",
       "\n",
       "      Flow_Rate  totalRainfall  dflowRate  Year  \n",
       "578         0.5            0.0  -1.732892  2004  \n",
       "579         0.5            0.0  -1.732892  2004  \n",
       "580         0.5            0.0  -1.732892  2004  \n",
       "581         0.5            0.2  -1.732892  2004  \n",
       "582         0.5            0.0  -1.732892  2004  \n",
       "...         ...            ...        ...   ...  \n",
       "6598        0.6            0.0  -1.632892  2020  \n",
       "6599        0.6            0.0  -1.632892  2020  \n",
       "6600        0.6            0.0  -1.632892  2020  \n",
       "6601        0.6            0.0  -1.632892  2020  \n",
       "6602        0.6            0.0  -1.632892  2020  \n",
       "\n",
       "[6025 rows x 12 columns]"
      ]
     },
     "execution_count": 36,
     "metadata": {},
     "output_type": "execute_result"
    }
   ],
   "source": [
    "LakeData['dflowRate']=LakeData['Flow_Rate']-avg_Flow_Rate_NRain\n",
    "LakeData[\"Date\"] = pd.to_datetime(LakeData[\"Date\"])\n",
    "LakeData[\"Year\"] = pd.DatetimeIndex(LakeData[\"Date\"]).year\n",
    "LakeData"
   ]
  },
  {
   "cell_type": "code",
   "execution_count": 37,
   "metadata": {},
   "outputs": [],
   "source": [
    "avg_Flow_Rate_Annually_list=[]\n",
    "davg_Flow_Rate_Annually_list=[]\n",
    "davg_Lake_Level_list=[]\n",
    "sum_RF_Anually_list=[]\n",
    "time=[2004,2005,2006,2007,2008,2009,2010,2011,2012,2013,2014,2015,2016,2017,2018,2019,2020]\n",
    "average_LakeL=[]"
   ]
  },
  {
   "cell_type": "code",
   "execution_count": 38,
   "metadata": {},
   "outputs": [],
   "source": [
    "for x in range(2004,2021):\n",
    "    LakeDataY=LakeData[~(LakeData['Year']!=x)]\n",
    "    avg_Flow_Rate_Annually=np.mean(LakeDataY['Flow_Rate'])\n",
    "    davg_Lake_Level=np.mean(LakeDataY['Lake_Level'])\n",
    "    average_LakeL.append(davg_Lake_Level)\n",
    "    davg_Flow_Rate_Annually=avg_Flow_Rate_Annually-avg_Flow_Rate\n",
    "    sum_RF_Anually=LakeDataY['totalRainfall'].sum()\n",
    "    davg_Lake_Level_list.append(davg_Lake_Level-avg_Lake_Level)\n",
    "    avg_Flow_Rate_Annually_list.append(avg_Flow_Rate_Annually)\n",
    "    davg_Flow_Rate_Annually_list.append(davg_Flow_Rate_Annually)\n",
    "    sum_RF_Anually_list.append(sum_RF_Anually)"
   ]
  },
  {
   "cell_type": "code",
   "execution_count": 39,
   "metadata": {},
   "outputs": [],
   "source": [
    "Q1data=np.transpose([avg_Flow_Rate_Annually_list,davg_Flow_Rate_Annually_list,sum_RF_Anually_list,davg_Lake_Level_list,time,average_LakeL])"
   ]
  },
  {
   "cell_type": "code",
   "execution_count": 40,
   "metadata": {},
   "outputs": [
    {
     "data": {
      "text/html": [
       "<div>\n",
       "<style scoped>\n",
       "    .dataframe tbody tr th:only-of-type {\n",
       "        vertical-align: middle;\n",
       "    }\n",
       "\n",
       "    .dataframe tbody tr th {\n",
       "        vertical-align: top;\n",
       "    }\n",
       "\n",
       "    .dataframe thead th {\n",
       "        text-align: right;\n",
       "    }\n",
       "</style>\n",
       "<table border=\"1\" class=\"dataframe\">\n",
       "  <thead>\n",
       "    <tr style=\"text-align: right;\">\n",
       "      <th></th>\n",
       "      <th>avg_Flow_Rate_Annually</th>\n",
       "      <th>davg_Flow_Rate_Annually</th>\n",
       "      <th>sum_RF_Anually</th>\n",
       "      <th>davg_Lake_Level</th>\n",
       "      <th>time</th>\n",
       "      <th>avg_LakeL</th>\n",
       "    </tr>\n",
       "  </thead>\n",
       "  <tbody>\n",
       "    <tr>\n",
       "      <th>0</th>\n",
       "      <td>3.764932</td>\n",
       "      <td>0.986727</td>\n",
       "      <td>5108.0</td>\n",
       "      <td>0.739158</td>\n",
       "      <td>2004.0</td>\n",
       "      <td>250.292630</td>\n",
       "    </tr>\n",
       "    <tr>\n",
       "      <th>1</th>\n",
       "      <td>2.833151</td>\n",
       "      <td>0.054947</td>\n",
       "      <td>5243.8</td>\n",
       "      <td>1.179158</td>\n",
       "      <td>2005.0</td>\n",
       "      <td>250.732630</td>\n",
       "    </tr>\n",
       "    <tr>\n",
       "      <th>2</th>\n",
       "      <td>3.693973</td>\n",
       "      <td>0.915768</td>\n",
       "      <td>4222.0</td>\n",
       "      <td>0.576528</td>\n",
       "      <td>2006.0</td>\n",
       "      <td>250.130000</td>\n",
       "    </tr>\n",
       "    <tr>\n",
       "      <th>3</th>\n",
       "      <td>1.489205</td>\n",
       "      <td>-1.288999</td>\n",
       "      <td>3939.6</td>\n",
       "      <td>-1.078541</td>\n",
       "      <td>2007.0</td>\n",
       "      <td>248.474932</td>\n",
       "    </tr>\n",
       "    <tr>\n",
       "      <th>4</th>\n",
       "      <td>1.536120</td>\n",
       "      <td>-1.242084</td>\n",
       "      <td>5074.8</td>\n",
       "      <td>-0.561560</td>\n",
       "      <td>2008.0</td>\n",
       "      <td>248.991913</td>\n",
       "    </tr>\n",
       "    <tr>\n",
       "      <th>5</th>\n",
       "      <td>3.073726</td>\n",
       "      <td>0.295522</td>\n",
       "      <td>5119.2</td>\n",
       "      <td>-0.002760</td>\n",
       "      <td>2009.0</td>\n",
       "      <td>249.550712</td>\n",
       "    </tr>\n",
       "    <tr>\n",
       "      <th>6</th>\n",
       "      <td>4.492877</td>\n",
       "      <td>1.714673</td>\n",
       "      <td>7134.0</td>\n",
       "      <td>1.413185</td>\n",
       "      <td>2010.0</td>\n",
       "      <td>250.966658</td>\n",
       "    </tr>\n",
       "    <tr>\n",
       "      <th>7</th>\n",
       "      <td>2.668219</td>\n",
       "      <td>-0.109985</td>\n",
       "      <td>3724.8</td>\n",
       "      <td>-0.401253</td>\n",
       "      <td>2011.0</td>\n",
       "      <td>249.152219</td>\n",
       "    </tr>\n",
       "    <tr>\n",
       "      <th>8</th>\n",
       "      <td>1.036339</td>\n",
       "      <td>-1.741865</td>\n",
       "      <td>4477.8</td>\n",
       "      <td>-3.624510</td>\n",
       "      <td>2012.0</td>\n",
       "      <td>245.928962</td>\n",
       "    </tr>\n",
       "    <tr>\n",
       "      <th>9</th>\n",
       "      <td>4.222658</td>\n",
       "      <td>1.444453</td>\n",
       "      <td>6228.6</td>\n",
       "      <td>0.687925</td>\n",
       "      <td>2013.0</td>\n",
       "      <td>250.241397</td>\n",
       "    </tr>\n",
       "    <tr>\n",
       "      <th>10</th>\n",
       "      <td>4.096932</td>\n",
       "      <td>1.318727</td>\n",
       "      <td>7237.8</td>\n",
       "      <td>0.424665</td>\n",
       "      <td>2014.0</td>\n",
       "      <td>249.978137</td>\n",
       "    </tr>\n",
       "    <tr>\n",
       "      <th>11</th>\n",
       "      <td>2.073288</td>\n",
       "      <td>-0.704916</td>\n",
       "      <td>4444.6</td>\n",
       "      <td>0.053377</td>\n",
       "      <td>2015.0</td>\n",
       "      <td>249.606849</td>\n",
       "    </tr>\n",
       "    <tr>\n",
       "      <th>12</th>\n",
       "      <td>2.485710</td>\n",
       "      <td>-0.292494</td>\n",
       "      <td>5671.8</td>\n",
       "      <td>0.022894</td>\n",
       "      <td>2016.0</td>\n",
       "      <td>249.576366</td>\n",
       "    </tr>\n",
       "    <tr>\n",
       "      <th>13</th>\n",
       "      <td>1.821068</td>\n",
       "      <td>-0.957136</td>\n",
       "      <td>4968.2</td>\n",
       "      <td>-0.432157</td>\n",
       "      <td>2017.0</td>\n",
       "      <td>249.121315</td>\n",
       "    </tr>\n",
       "    <tr>\n",
       "      <th>14</th>\n",
       "      <td>2.885014</td>\n",
       "      <td>0.106810</td>\n",
       "      <td>5041.0</td>\n",
       "      <td>0.261377</td>\n",
       "      <td>2018.0</td>\n",
       "      <td>249.814849</td>\n",
       "    </tr>\n",
       "    <tr>\n",
       "      <th>15</th>\n",
       "      <td>2.548740</td>\n",
       "      <td>-0.229464</td>\n",
       "      <td>6366.8</td>\n",
       "      <td>0.246774</td>\n",
       "      <td>2019.0</td>\n",
       "      <td>249.800247</td>\n",
       "    </tr>\n",
       "    <tr>\n",
       "      <th>16</th>\n",
       "      <td>2.253352</td>\n",
       "      <td>-0.524853</td>\n",
       "      <td>2087.6</td>\n",
       "      <td>1.017077</td>\n",
       "      <td>2020.0</td>\n",
       "      <td>250.570549</td>\n",
       "    </tr>\n",
       "  </tbody>\n",
       "</table>\n",
       "</div>"
      ],
      "text/plain": [
       "    avg_Flow_Rate_Annually  davg_Flow_Rate_Annually  sum_RF_Anually  \\\n",
       "0                 3.764932                 0.986727          5108.0   \n",
       "1                 2.833151                 0.054947          5243.8   \n",
       "2                 3.693973                 0.915768          4222.0   \n",
       "3                 1.489205                -1.288999          3939.6   \n",
       "4                 1.536120                -1.242084          5074.8   \n",
       "5                 3.073726                 0.295522          5119.2   \n",
       "6                 4.492877                 1.714673          7134.0   \n",
       "7                 2.668219                -0.109985          3724.8   \n",
       "8                 1.036339                -1.741865          4477.8   \n",
       "9                 4.222658                 1.444453          6228.6   \n",
       "10                4.096932                 1.318727          7237.8   \n",
       "11                2.073288                -0.704916          4444.6   \n",
       "12                2.485710                -0.292494          5671.8   \n",
       "13                1.821068                -0.957136          4968.2   \n",
       "14                2.885014                 0.106810          5041.0   \n",
       "15                2.548740                -0.229464          6366.8   \n",
       "16                2.253352                -0.524853          2087.6   \n",
       "\n",
       "    davg_Lake_Level    time   avg_LakeL  \n",
       "0          0.739158  2004.0  250.292630  \n",
       "1          1.179158  2005.0  250.732630  \n",
       "2          0.576528  2006.0  250.130000  \n",
       "3         -1.078541  2007.0  248.474932  \n",
       "4         -0.561560  2008.0  248.991913  \n",
       "5         -0.002760  2009.0  249.550712  \n",
       "6          1.413185  2010.0  250.966658  \n",
       "7         -0.401253  2011.0  249.152219  \n",
       "8         -3.624510  2012.0  245.928962  \n",
       "9          0.687925  2013.0  250.241397  \n",
       "10         0.424665  2014.0  249.978137  \n",
       "11         0.053377  2015.0  249.606849  \n",
       "12         0.022894  2016.0  249.576366  \n",
       "13        -0.432157  2017.0  249.121315  \n",
       "14         0.261377  2018.0  249.814849  \n",
       "15         0.246774  2019.0  249.800247  \n",
       "16         1.017077  2020.0  250.570549  "
      ]
     },
     "execution_count": 40,
     "metadata": {},
     "output_type": "execute_result"
    }
   ],
   "source": [
    "Q1data = pd.DataFrame(Q1data, columns=[\"avg_Flow_Rate_Annually\", \"davg_Flow_Rate_Annually\", \"sum_RF_Anually\",\"davg_Lake_Level\",\"time\",\"avg_LakeL\"])\n",
    "Q1data"
   ]
  },
  {
   "cell_type": "code",
   "execution_count": 41,
   "metadata": {},
   "outputs": [
    {
     "data": {
      "text/plain": [
       "<AxesSubplot:title={'center':'Histogram of All davg_Flow_Rate_Annually'}, ylabel='Frequency'>"
      ]
     },
     "execution_count": 41,
     "metadata": {},
     "output_type": "execute_result"
    },
    {
     "data": {
      "image/png": "[encoded data removed]",
      "text/plain": [
       "<Figure size 432x288 with 1 Axes>"
      ]
     },
     "metadata": {
      "needs_background": "light"
     },
     "output_type": "display_data"
    }
   ],
   "source": [
    "Q1data['davg_Flow_Rate_Annually'].plot(kind='hist',bins=5, title='Histogram of All davg_Flow_Rate_Annually',xlabel='flow rate')"
   ]
  },
  {
   "cell_type": "code",
   "execution_count": 42,
   "metadata": {},
   "outputs": [
    {
     "data": {
      "text/plain": [
       "-0.9828149741971735"
      ]
     },
     "execution_count": 42,
     "metadata": {},
     "output_type": "execute_result"
    }
   ],
   "source": [
    "kurtosis(Q1data['davg_Flow_Rate_Annually'])"
   ]
  },
  {
   "cell_type": "markdown",
   "metadata": {},
   "source": [
    "## 4.3 Time series model of each year, to see the general behavior of the lake flow rate, to if if there is any unusual behavior (ex: drought), "
   ]
  },
  {
   "cell_type": "code",
   "execution_count": 43,
   "metadata": {},
   "outputs": [
    {
     "data": {
      "text/plain": [
       "<AxesSubplot:title={'center':'Histogram of davg_Lake_Level'}, ylabel='Frequency'>"
      ]
     },
     "execution_count": 43,
     "metadata": {},
     "output_type": "execute_result"
    },
    {
     "data": {
      "image/png": "[encoded data removed]",
      "text/plain": [
       "<Figure size 432x288 with 1 Axes>"
      ]
     },
     "metadata": {
      "needs_background": "light"
     },
     "output_type": "display_data"
    }
   ],
   "source": [
    "Q1data['davg_Lake_Level'].plot(kind='hist', bins=8, title='Histogram of davg_Lake_Level')"
   ]
  },
  {
   "cell_type": "code",
   "execution_count": 44,
   "metadata": {},
   "outputs": [
    {
     "name": "stdout",
     "output_type": "stream",
     "text": [
      "Mean: 0.030666932017251222\n",
      "Median: 0.2467743761730219\n",
      "Q1: -0.4012530210870864\n",
      "Q2: 0.2467743761730219\n",
      "Q3: 0.6879250611044654\n",
      "Q4: 1.4131853350770314\n",
      "Inter-Quartile Range: 1.0891780821915518\n",
      "Standard Deviation: 1.1123456891517194\n",
      "Variance: 1.2373129321744134\n",
      "Range: 5.037695785612755\n",
      "-----------------------------------------\n"
     ]
    }
   ],
   "source": [
    "descriptive_stats(Q1data,'davg_Lake_Level')"
   ]
  },
  {
   "cell_type": "code",
   "execution_count": 45,
   "metadata": {
    "scrolled": true
   },
   "outputs": [
    {
     "data": {
      "text/plain": [
       "[<matplotlib.lines.Line2D at 0x7feb9ee87e50>]"
      ]
     },
     "execution_count": 45,
     "metadata": {},
     "output_type": "execute_result"
    },
    {
     "data": {
      "image/png": "[encoded data removed]",
      "text/plain": [
       "<Figure size 432x288 with 1 Axes>"
      ]
     },
     "metadata": {
      "needs_background": "light"
     },
     "output_type": "display_data"
    }
   ],
   "source": [
    "plt.plot(Q1data['time'],Q1data['avg_LakeL'])"
   ]
  },
  {
   "cell_type": "markdown",
   "metadata": {},
   "source": [
    "## 4.4 Investigation into the 2012 lake levels"
   ]
  },
  {
   "cell_type": "code",
   "execution_count": 46,
   "metadata": {},
   "outputs": [],
   "source": [
    "Lake_Bilancino = pd.read_csv('Lake_Bilancino.csv')"
   ]
  },
  {
   "cell_type": "code",
   "execution_count": 47,
   "metadata": {},
   "outputs": [
    {
     "name": "stdout",
     "output_type": "stream",
     "text": [
      "Date                    0.000000\n",
      "Rainfall_S_Piero        1.000000\n",
      "Rainfall_Mangona        1.000000\n",
      "Rainfall_S_Agata        1.000000\n",
      "Rainfall_Cavallina      1.000000\n",
      "Rainfall_Le_Croci       1.000000\n",
      "Temperature_Le_Croci    1.000000\n",
      "Lake_Level              0.000000\n",
      "Flow_Rate               0.036395\n",
      "dtype: float64\n"
     ]
    }
   ],
   "source": [
    "# There aren't any valid values until Jan 01 2004\n",
    "print(Lake_Bilancino[:577].isna().mean())"
   ]
  },
  {
   "cell_type": "code",
   "execution_count": 48,
   "metadata": {},
   "outputs": [
    {
     "name": "stdout",
     "output_type": "stream",
     "text": [
      "<class 'pandas.core.frame.DataFrame'>\n",
      "RangeIndex: 6603 entries, 0 to 6602\n",
      "Data columns (total 9 columns):\n",
      " #   Column                Non-Null Count  Dtype  \n",
      "---  ------                --------------  -----  \n",
      " 0   Date                  6603 non-null   object \n",
      " 1   Rainfall_S_Piero      6026 non-null   float64\n",
      " 2   Rainfall_Mangona      6026 non-null   float64\n",
      " 3   Rainfall_S_Agata      6026 non-null   float64\n",
      " 4   Rainfall_Cavallina    6026 non-null   float64\n",
      " 5   Rainfall_Le_Croci     6026 non-null   float64\n",
      " 6   Temperature_Le_Croci  6025 non-null   float64\n",
      " 7   Lake_Level            6603 non-null   float64\n",
      " 8   Flow_Rate             6582 non-null   float64\n",
      "dtypes: float64(8), object(1)\n",
      "memory usage: 464.4+ KB\n"
     ]
    }
   ],
   "source": [
    "Lake_Bilancino.info()"
   ]
  },
  {
   "cell_type": "code",
   "execution_count": 49,
   "metadata": {},
   "outputs": [
    {
     "data": {
      "text/html": [
       "<div>\n",
       "<style scoped>\n",
       "    .dataframe tbody tr th:only-of-type {\n",
       "        vertical-align: middle;\n",
       "    }\n",
       "\n",
       "    .dataframe tbody tr th {\n",
       "        vertical-align: top;\n",
       "    }\n",
       "\n",
       "    .dataframe thead th {\n",
       "        text-align: right;\n",
       "    }\n",
       "</style>\n",
       "<table border=\"1\" class=\"dataframe\">\n",
       "  <thead>\n",
       "    <tr style=\"text-align: right;\">\n",
       "      <th></th>\n",
       "      <th>Date</th>\n",
       "      <th>Rainfall_S_Piero</th>\n",
       "      <th>Rainfall_Mangona</th>\n",
       "      <th>Rainfall_S_Agata</th>\n",
       "      <th>Rainfall_Cavallina</th>\n",
       "      <th>Rainfall_Le_Croci</th>\n",
       "      <th>Temperature_Le_Croci</th>\n",
       "      <th>Lake_Level</th>\n",
       "      <th>Flow_Rate</th>\n",
       "    </tr>\n",
       "  </thead>\n",
       "  <tbody>\n",
       "    <tr>\n",
       "      <th>0</th>\n",
       "      <td>03/06/2002</td>\n",
       "      <td>NaN</td>\n",
       "      <td>NaN</td>\n",
       "      <td>NaN</td>\n",
       "      <td>NaN</td>\n",
       "      <td>NaN</td>\n",
       "      <td>NaN</td>\n",
       "      <td>249.43</td>\n",
       "      <td>0.31</td>\n",
       "    </tr>\n",
       "    <tr>\n",
       "      <th>1</th>\n",
       "      <td>04/06/2002</td>\n",
       "      <td>NaN</td>\n",
       "      <td>NaN</td>\n",
       "      <td>NaN</td>\n",
       "      <td>NaN</td>\n",
       "      <td>NaN</td>\n",
       "      <td>NaN</td>\n",
       "      <td>249.43</td>\n",
       "      <td>0.31</td>\n",
       "    </tr>\n",
       "    <tr>\n",
       "      <th>2</th>\n",
       "      <td>05/06/2002</td>\n",
       "      <td>NaN</td>\n",
       "      <td>NaN</td>\n",
       "      <td>NaN</td>\n",
       "      <td>NaN</td>\n",
       "      <td>NaN</td>\n",
       "      <td>NaN</td>\n",
       "      <td>249.43</td>\n",
       "      <td>0.31</td>\n",
       "    </tr>\n",
       "    <tr>\n",
       "      <th>3</th>\n",
       "      <td>06/06/2002</td>\n",
       "      <td>NaN</td>\n",
       "      <td>NaN</td>\n",
       "      <td>NaN</td>\n",
       "      <td>NaN</td>\n",
       "      <td>NaN</td>\n",
       "      <td>NaN</td>\n",
       "      <td>249.43</td>\n",
       "      <td>0.31</td>\n",
       "    </tr>\n",
       "    <tr>\n",
       "      <th>4</th>\n",
       "      <td>07/06/2002</td>\n",
       "      <td>NaN</td>\n",
       "      <td>NaN</td>\n",
       "      <td>NaN</td>\n",
       "      <td>NaN</td>\n",
       "      <td>NaN</td>\n",
       "      <td>NaN</td>\n",
       "      <td>249.44</td>\n",
       "      <td>0.31</td>\n",
       "    </tr>\n",
       "    <tr>\n",
       "      <th>...</th>\n",
       "      <td>...</td>\n",
       "      <td>...</td>\n",
       "      <td>...</td>\n",
       "      <td>...</td>\n",
       "      <td>...</td>\n",
       "      <td>...</td>\n",
       "      <td>...</td>\n",
       "      <td>...</td>\n",
       "      <td>...</td>\n",
       "    </tr>\n",
       "    <tr>\n",
       "      <th>6598</th>\n",
       "      <td>26/06/2020</td>\n",
       "      <td>0.0</td>\n",
       "      <td>0.0</td>\n",
       "      <td>0.0</td>\n",
       "      <td>0.0</td>\n",
       "      <td>0.0</td>\n",
       "      <td>22.50</td>\n",
       "      <td>250.85</td>\n",
       "      <td>0.60</td>\n",
       "    </tr>\n",
       "    <tr>\n",
       "      <th>6599</th>\n",
       "      <td>27/06/2020</td>\n",
       "      <td>0.0</td>\n",
       "      <td>0.0</td>\n",
       "      <td>0.0</td>\n",
       "      <td>0.0</td>\n",
       "      <td>0.0</td>\n",
       "      <td>23.40</td>\n",
       "      <td>250.84</td>\n",
       "      <td>0.60</td>\n",
       "    </tr>\n",
       "    <tr>\n",
       "      <th>6600</th>\n",
       "      <td>28/06/2020</td>\n",
       "      <td>0.0</td>\n",
       "      <td>0.0</td>\n",
       "      <td>0.0</td>\n",
       "      <td>0.0</td>\n",
       "      <td>0.0</td>\n",
       "      <td>21.50</td>\n",
       "      <td>250.83</td>\n",
       "      <td>0.60</td>\n",
       "    </tr>\n",
       "    <tr>\n",
       "      <th>6601</th>\n",
       "      <td>29/06/2020</td>\n",
       "      <td>0.0</td>\n",
       "      <td>0.0</td>\n",
       "      <td>0.0</td>\n",
       "      <td>0.0</td>\n",
       "      <td>0.0</td>\n",
       "      <td>23.20</td>\n",
       "      <td>250.82</td>\n",
       "      <td>0.60</td>\n",
       "    </tr>\n",
       "    <tr>\n",
       "      <th>6602</th>\n",
       "      <td>30/06/2020</td>\n",
       "      <td>0.0</td>\n",
       "      <td>0.0</td>\n",
       "      <td>0.0</td>\n",
       "      <td>0.0</td>\n",
       "      <td>0.0</td>\n",
       "      <td>22.75</td>\n",
       "      <td>250.80</td>\n",
       "      <td>0.60</td>\n",
       "    </tr>\n",
       "  </tbody>\n",
       "</table>\n",
       "<p>6603 rows × 9 columns</p>\n",
       "</div>"
      ],
      "text/plain": [
       "            Date  Rainfall_S_Piero  Rainfall_Mangona  Rainfall_S_Agata  \\\n",
       "0     03/06/2002               NaN               NaN               NaN   \n",
       "1     04/06/2002               NaN               NaN               NaN   \n",
       "2     05/06/2002               NaN               NaN               NaN   \n",
       "3     06/06/2002               NaN               NaN               NaN   \n",
       "4     07/06/2002               NaN               NaN               NaN   \n",
       "...          ...               ...               ...               ...   \n",
       "6598  26/06/2020               0.0               0.0               0.0   \n",
       "6599  27/06/2020               0.0               0.0               0.0   \n",
       "6600  28/06/2020               0.0               0.0               0.0   \n",
       "6601  29/06/2020               0.0               0.0               0.0   \n",
       "6602  30/06/2020               0.0               0.0               0.0   \n",
       "\n",
       "      Rainfall_Cavallina  Rainfall_Le_Croci  Temperature_Le_Croci  Lake_Level  \\\n",
       "0                    NaN                NaN                   NaN      249.43   \n",
       "1                    NaN                NaN                   NaN      249.43   \n",
       "2                    NaN                NaN                   NaN      249.43   \n",
       "3                    NaN                NaN                   NaN      249.43   \n",
       "4                    NaN                NaN                   NaN      249.44   \n",
       "...                  ...                ...                   ...         ...   \n",
       "6598                 0.0                0.0                 22.50      250.85   \n",
       "6599                 0.0                0.0                 23.40      250.84   \n",
       "6600                 0.0                0.0                 21.50      250.83   \n",
       "6601                 0.0                0.0                 23.20      250.82   \n",
       "6602                 0.0                0.0                 22.75      250.80   \n",
       "\n",
       "      Flow_Rate  \n",
       "0          0.31  \n",
       "1          0.31  \n",
       "2          0.31  \n",
       "3          0.31  \n",
       "4          0.31  \n",
       "...         ...  \n",
       "6598       0.60  \n",
       "6599       0.60  \n",
       "6600       0.60  \n",
       "6601       0.60  \n",
       "6602       0.60  \n",
       "\n",
       "[6603 rows x 9 columns]"
      ]
     },
     "execution_count": 49,
     "metadata": {},
     "output_type": "execute_result"
    }
   ],
   "source": [
    "Lake_Bilancino"
   ]
  },
  {
   "cell_type": "code",
   "execution_count": 50,
   "metadata": {},
   "outputs": [],
   "source": [
    "nulls = pd.DataFrame(Lake_Bilancino.isnull().sum(), columns=['null_count'])\n",
    "nulls['percent'] = round((nulls.null_count / Lake_Bilancino.shape[0] * 100),1)"
   ]
  },
  {
   "cell_type": "code",
   "execution_count": 51,
   "metadata": {},
   "outputs": [
    {
     "data": {
      "text/html": [
       "<div>\n",
       "<style scoped>\n",
       "    .dataframe tbody tr th:only-of-type {\n",
       "        vertical-align: middle;\n",
       "    }\n",
       "\n",
       "    .dataframe tbody tr th {\n",
       "        vertical-align: top;\n",
       "    }\n",
       "\n",
       "    .dataframe thead th {\n",
       "        text-align: right;\n",
       "    }\n",
       "</style>\n",
       "<table border=\"1\" class=\"dataframe\">\n",
       "  <thead>\n",
       "    <tr style=\"text-align: right;\">\n",
       "      <th></th>\n",
       "      <th>null_count</th>\n",
       "      <th>percent</th>\n",
       "    </tr>\n",
       "  </thead>\n",
       "  <tbody>\n",
       "    <tr>\n",
       "      <th>Date</th>\n",
       "      <td>0</td>\n",
       "      <td>0.0</td>\n",
       "    </tr>\n",
       "    <tr>\n",
       "      <th>Rainfall_S_Piero</th>\n",
       "      <td>577</td>\n",
       "      <td>8.7</td>\n",
       "    </tr>\n",
       "    <tr>\n",
       "      <th>Rainfall_Mangona</th>\n",
       "      <td>577</td>\n",
       "      <td>8.7</td>\n",
       "    </tr>\n",
       "    <tr>\n",
       "      <th>Rainfall_S_Agata</th>\n",
       "      <td>577</td>\n",
       "      <td>8.7</td>\n",
       "    </tr>\n",
       "    <tr>\n",
       "      <th>Rainfall_Cavallina</th>\n",
       "      <td>577</td>\n",
       "      <td>8.7</td>\n",
       "    </tr>\n",
       "    <tr>\n",
       "      <th>Rainfall_Le_Croci</th>\n",
       "      <td>577</td>\n",
       "      <td>8.7</td>\n",
       "    </tr>\n",
       "    <tr>\n",
       "      <th>Temperature_Le_Croci</th>\n",
       "      <td>578</td>\n",
       "      <td>8.8</td>\n",
       "    </tr>\n",
       "    <tr>\n",
       "      <th>Lake_Level</th>\n",
       "      <td>0</td>\n",
       "      <td>0.0</td>\n",
       "    </tr>\n",
       "    <tr>\n",
       "      <th>Flow_Rate</th>\n",
       "      <td>21</td>\n",
       "      <td>0.3</td>\n",
       "    </tr>\n",
       "  </tbody>\n",
       "</table>\n",
       "</div>"
      ],
      "text/plain": [
       "                      null_count  percent\n",
       "Date                           0      0.0\n",
       "Rainfall_S_Piero             577      8.7\n",
       "Rainfall_Mangona             577      8.7\n",
       "Rainfall_S_Agata             577      8.7\n",
       "Rainfall_Cavallina           577      8.7\n",
       "Rainfall_Le_Croci            577      8.7\n",
       "Temperature_Le_Croci         578      8.8\n",
       "Lake_Level                     0      0.0\n",
       "Flow_Rate                     21      0.3"
      ]
     },
     "execution_count": 51,
     "metadata": {},
     "output_type": "execute_result"
    }
   ],
   "source": [
    "nulls"
   ]
  },
  {
   "cell_type": "markdown",
   "metadata": {},
   "source": [
    "Since the percent of nulls for each column is less than 9%, we decided to just drop the rows affected with null values."
   ]
  },
  {
   "cell_type": "code",
   "execution_count": 52,
   "metadata": {},
   "outputs": [],
   "source": [
    "# Cut the data from then Jan 01 2004\n",
    "Lake_Bilancino_Cut = Lake_Bilancino[577:].reset_index(drop = True)\n",
    "\n",
    "# Imputation \n",
    "Lake_Bilancino_Cut.loc[Lake_Bilancino_Cut.Date == '01/01/2004', 'Temperature_Le_Croci'] = Lake_Bilancino_Cut.Temperature_Le_Croci.mean()"
   ]
  },
  {
   "cell_type": "code",
   "execution_count": 53,
   "metadata": {},
   "outputs": [],
   "source": [
    "# Create month column \n",
    "Lake_Bilancino_Cut['Month'] = Lake_Bilancino_Cut.Date.apply(lambda x: x[3:5])\n",
    "\n",
    "# Create year column \n",
    "Lake_Bilancino_Cut['Year'] = Lake_Bilancino_Cut.Date.apply(lambda x: x[6:10])"
   ]
  },
  {
   "cell_type": "code",
   "execution_count": 54,
   "metadata": {},
   "outputs": [
    {
     "data": {
      "text/plain": [
       "Date                    0\n",
       "Rainfall_S_Piero        0\n",
       "Rainfall_Mangona        0\n",
       "Rainfall_S_Agata        0\n",
       "Rainfall_Cavallina      0\n",
       "Rainfall_Le_Croci       0\n",
       "Temperature_Le_Croci    0\n",
       "Lake_Level              0\n",
       "Flow_Rate               0\n",
       "Month                   0\n",
       "Year                    0\n",
       "dtype: int64"
      ]
     },
     "execution_count": 54,
     "metadata": {},
     "output_type": "execute_result"
    }
   ],
   "source": [
    "Lake_Bilancino_Cut.isna().sum()"
   ]
  },
  {
   "cell_type": "code",
   "execution_count": 55,
   "metadata": {},
   "outputs": [
    {
     "data": {
      "text/html": [
       "<div>\n",
       "<style scoped>\n",
       "    .dataframe tbody tr th:only-of-type {\n",
       "        vertical-align: middle;\n",
       "    }\n",
       "\n",
       "    .dataframe tbody tr th {\n",
       "        vertical-align: top;\n",
       "    }\n",
       "\n",
       "    .dataframe thead th {\n",
       "        text-align: right;\n",
       "    }\n",
       "</style>\n",
       "<table border=\"1\" class=\"dataframe\">\n",
       "  <thead>\n",
       "    <tr style=\"text-align: right;\">\n",
       "      <th></th>\n",
       "      <th>Date</th>\n",
       "      <th>Rainfall_S_Piero</th>\n",
       "      <th>Rainfall_Mangona</th>\n",
       "      <th>Rainfall_S_Agata</th>\n",
       "      <th>Rainfall_Cavallina</th>\n",
       "      <th>Rainfall_Le_Croci</th>\n",
       "      <th>Temperature_Le_Croci</th>\n",
       "      <th>Lake_Level</th>\n",
       "      <th>Flow_Rate</th>\n",
       "      <th>Month</th>\n",
       "      <th>Year</th>\n",
       "    </tr>\n",
       "  </thead>\n",
       "  <tbody>\n",
       "    <tr>\n",
       "      <th>0</th>\n",
       "      <td>01/01/2004</td>\n",
       "      <td>0.0</td>\n",
       "      <td>0.0</td>\n",
       "      <td>0.4</td>\n",
       "      <td>0.0</td>\n",
       "      <td>0.0</td>\n",
       "      <td>14.530141</td>\n",
       "      <td>251.14</td>\n",
       "      <td>0.5</td>\n",
       "      <td>01</td>\n",
       "      <td>2004</td>\n",
       "    </tr>\n",
       "    <tr>\n",
       "      <th>1</th>\n",
       "      <td>02/01/2004</td>\n",
       "      <td>0.0</td>\n",
       "      <td>0.0</td>\n",
       "      <td>0.0</td>\n",
       "      <td>0.0</td>\n",
       "      <td>0.0</td>\n",
       "      <td>6.500000</td>\n",
       "      <td>251.21</td>\n",
       "      <td>0.5</td>\n",
       "      <td>01</td>\n",
       "      <td>2004</td>\n",
       "    </tr>\n",
       "    <tr>\n",
       "      <th>2</th>\n",
       "      <td>03/01/2004</td>\n",
       "      <td>0.0</td>\n",
       "      <td>0.0</td>\n",
       "      <td>0.0</td>\n",
       "      <td>0.0</td>\n",
       "      <td>0.0</td>\n",
       "      <td>4.450000</td>\n",
       "      <td>251.28</td>\n",
       "      <td>0.5</td>\n",
       "      <td>01</td>\n",
       "      <td>2004</td>\n",
       "    </tr>\n",
       "    <tr>\n",
       "      <th>3</th>\n",
       "      <td>04/01/2004</td>\n",
       "      <td>0.0</td>\n",
       "      <td>0.0</td>\n",
       "      <td>0.0</td>\n",
       "      <td>0.0</td>\n",
       "      <td>0.0</td>\n",
       "      <td>2.000000</td>\n",
       "      <td>251.35</td>\n",
       "      <td>0.5</td>\n",
       "      <td>01</td>\n",
       "      <td>2004</td>\n",
       "    </tr>\n",
       "    <tr>\n",
       "      <th>4</th>\n",
       "      <td>05/01/2004</td>\n",
       "      <td>0.2</td>\n",
       "      <td>0.0</td>\n",
       "      <td>0.0</td>\n",
       "      <td>0.0</td>\n",
       "      <td>0.0</td>\n",
       "      <td>0.900000</td>\n",
       "      <td>251.37</td>\n",
       "      <td>0.5</td>\n",
       "      <td>01</td>\n",
       "      <td>2004</td>\n",
       "    </tr>\n",
       "    <tr>\n",
       "      <th>...</th>\n",
       "      <td>...</td>\n",
       "      <td>...</td>\n",
       "      <td>...</td>\n",
       "      <td>...</td>\n",
       "      <td>...</td>\n",
       "      <td>...</td>\n",
       "      <td>...</td>\n",
       "      <td>...</td>\n",
       "      <td>...</td>\n",
       "      <td>...</td>\n",
       "      <td>...</td>\n",
       "    </tr>\n",
       "    <tr>\n",
       "      <th>6021</th>\n",
       "      <td>26/06/2020</td>\n",
       "      <td>0.0</td>\n",
       "      <td>0.0</td>\n",
       "      <td>0.0</td>\n",
       "      <td>0.0</td>\n",
       "      <td>0.0</td>\n",
       "      <td>22.500000</td>\n",
       "      <td>250.85</td>\n",
       "      <td>0.6</td>\n",
       "      <td>06</td>\n",
       "      <td>2020</td>\n",
       "    </tr>\n",
       "    <tr>\n",
       "      <th>6022</th>\n",
       "      <td>27/06/2020</td>\n",
       "      <td>0.0</td>\n",
       "      <td>0.0</td>\n",
       "      <td>0.0</td>\n",
       "      <td>0.0</td>\n",
       "      <td>0.0</td>\n",
       "      <td>23.400000</td>\n",
       "      <td>250.84</td>\n",
       "      <td>0.6</td>\n",
       "      <td>06</td>\n",
       "      <td>2020</td>\n",
       "    </tr>\n",
       "    <tr>\n",
       "      <th>6023</th>\n",
       "      <td>28/06/2020</td>\n",
       "      <td>0.0</td>\n",
       "      <td>0.0</td>\n",
       "      <td>0.0</td>\n",
       "      <td>0.0</td>\n",
       "      <td>0.0</td>\n",
       "      <td>21.500000</td>\n",
       "      <td>250.83</td>\n",
       "      <td>0.6</td>\n",
       "      <td>06</td>\n",
       "      <td>2020</td>\n",
       "    </tr>\n",
       "    <tr>\n",
       "      <th>6024</th>\n",
       "      <td>29/06/2020</td>\n",
       "      <td>0.0</td>\n",
       "      <td>0.0</td>\n",
       "      <td>0.0</td>\n",
       "      <td>0.0</td>\n",
       "      <td>0.0</td>\n",
       "      <td>23.200000</td>\n",
       "      <td>250.82</td>\n",
       "      <td>0.6</td>\n",
       "      <td>06</td>\n",
       "      <td>2020</td>\n",
       "    </tr>\n",
       "    <tr>\n",
       "      <th>6025</th>\n",
       "      <td>30/06/2020</td>\n",
       "      <td>0.0</td>\n",
       "      <td>0.0</td>\n",
       "      <td>0.0</td>\n",
       "      <td>0.0</td>\n",
       "      <td>0.0</td>\n",
       "      <td>22.750000</td>\n",
       "      <td>250.80</td>\n",
       "      <td>0.6</td>\n",
       "      <td>06</td>\n",
       "      <td>2020</td>\n",
       "    </tr>\n",
       "  </tbody>\n",
       "</table>\n",
       "<p>6026 rows × 11 columns</p>\n",
       "</div>"
      ],
      "text/plain": [
       "            Date  Rainfall_S_Piero  Rainfall_Mangona  Rainfall_S_Agata  \\\n",
       "0     01/01/2004               0.0               0.0               0.4   \n",
       "1     02/01/2004               0.0               0.0               0.0   \n",
       "2     03/01/2004               0.0               0.0               0.0   \n",
       "3     04/01/2004               0.0               0.0               0.0   \n",
       "4     05/01/2004               0.2               0.0               0.0   \n",
       "...          ...               ...               ...               ...   \n",
       "6021  26/06/2020               0.0               0.0               0.0   \n",
       "6022  27/06/2020               0.0               0.0               0.0   \n",
       "6023  28/06/2020               0.0               0.0               0.0   \n",
       "6024  29/06/2020               0.0               0.0               0.0   \n",
       "6025  30/06/2020               0.0               0.0               0.0   \n",
       "\n",
       "      Rainfall_Cavallina  Rainfall_Le_Croci  Temperature_Le_Croci  Lake_Level  \\\n",
       "0                    0.0                0.0             14.530141      251.14   \n",
       "1                    0.0                0.0              6.500000      251.21   \n",
       "2                    0.0                0.0              4.450000      251.28   \n",
       "3                    0.0                0.0              2.000000      251.35   \n",
       "4                    0.0                0.0              0.900000      251.37   \n",
       "...                  ...                ...                   ...         ...   \n",
       "6021                 0.0                0.0             22.500000      250.85   \n",
       "6022                 0.0                0.0             23.400000      250.84   \n",
       "6023                 0.0                0.0             21.500000      250.83   \n",
       "6024                 0.0                0.0             23.200000      250.82   \n",
       "6025                 0.0                0.0             22.750000      250.80   \n",
       "\n",
       "      Flow_Rate Month  Year  \n",
       "0           0.5    01  2004  \n",
       "1           0.5    01  2004  \n",
       "2           0.5    01  2004  \n",
       "3           0.5    01  2004  \n",
       "4           0.5    01  2004  \n",
       "...         ...   ...   ...  \n",
       "6021        0.6    06  2020  \n",
       "6022        0.6    06  2020  \n",
       "6023        0.6    06  2020  \n",
       "6024        0.6    06  2020  \n",
       "6025        0.6    06  2020  \n",
       "\n",
       "[6026 rows x 11 columns]"
      ]
     },
     "execution_count": 55,
     "metadata": {},
     "output_type": "execute_result"
    }
   ],
   "source": [
    "Lake_Bilancino_Cut"
   ]
  },
  {
   "cell_type": "code",
   "execution_count": 56,
   "metadata": {},
   "outputs": [],
   "source": [
    "zeros = pd.DataFrame(Lake_Bilancino.isnull().sum(), columns=['null_count'])\n",
    "zeros['percent'] = round((nulls.null_count / Lake_Bilancino.shape[0] * 100),1)"
   ]
  },
  {
   "cell_type": "code",
   "execution_count": 57,
   "metadata": {},
   "outputs": [
    {
     "data": {
      "text/plain": [
       "Date                    False\n",
       "Rainfall_S_Piero         True\n",
       "Rainfall_Mangona         True\n",
       "Rainfall_S_Agata         True\n",
       "Rainfall_Cavallina       True\n",
       "Rainfall_Le_Croci        True\n",
       "Temperature_Le_Croci     True\n",
       "Lake_Level              False\n",
       "Flow_Rate               False\n",
       "Month                   False\n",
       "Year                    False\n",
       "dtype: bool"
      ]
     },
     "execution_count": 57,
     "metadata": {},
     "output_type": "execute_result"
    }
   ],
   "source": [
    "Lake_Bilancino_Cut.eq(0).any()"
   ]
  },
  {
   "cell_type": "code",
   "execution_count": 58,
   "metadata": {},
   "outputs": [],
   "source": [
    "lakeLevelByYear = pd.DataFrame(Lake_Bilancino_Cut.groupby('Year')['Lake_Level'].mean())\n",
    "lakeLevelByYear['Year'] = lakeLevelByYear.index\n",
    "lakeLevelByYear = lakeLevelByYear.reset_index(drop = True)"
   ]
  },
  {
   "cell_type": "code",
   "execution_count": 59,
   "metadata": {},
   "outputs": [
    {
     "data": {
      "text/plain": [
       "3.6553135718591534"
      ]
     },
     "execution_count": 59,
     "metadata": {},
     "output_type": "execute_result"
    }
   ],
   "source": [
    "lakeLevelByYear.Lake_Level.mean() - lakeLevelByYear.Lake_Level.min()"
   ]
  },
  {
   "cell_type": "code",
   "execution_count": 60,
   "metadata": {},
   "outputs": [],
   "source": [
    "def water_conversion(water_gain): #water gain/loss in meters\n",
    "    return ((5 * water_gain)/1000)*1000*1000"
   ]
  },
  {
   "cell_type": "markdown",
   "metadata": {},
   "source": [
    "While the rise and fall of the water levels may seem insignificant on paper, it has an actual impact on the amount of water lost or gain. One meter of water in the lake level lost is equivelent to around 5000L of water. To take this into perspective, we will take a look at an 'outlier' in the data. As mentioned earlier, 2012 was the year that the lake level took a noticeble dip. It decreased from the average of 249.58 meters (between all the years) to a 245.93 meters on average (within 2012). That is a decrease in 3.66 meters of water depth, equal to around an 18276.57 L water decrease."
   ]
  },
  {
   "cell_type": "code",
   "execution_count": 61,
   "metadata": {},
   "outputs": [
    {
     "data": {
      "text/plain": [
       "18276.567859295767"
      ]
     },
     "execution_count": 61,
     "metadata": {},
     "output_type": "execute_result"
    }
   ],
   "source": [
    "water_conversion(3.6553135718591534)"
   ]
  },
  {
   "cell_type": "code",
   "execution_count": 62,
   "metadata": {},
   "outputs": [
    {
     "data": {
      "text/plain": [
       "[Text(0.5, 0, 'Depth of Lake (Meters)')]"
      ]
     },
     "execution_count": 62,
     "metadata": {},
     "output_type": "execute_result"
    },
    {
     "data": {
      "image/png": "[encoded data removed]",
      "text/plain": [
       "<Figure size 432x288 with 1 Axes>"
      ]
     },
     "metadata": {
      "needs_background": "light"
     },
     "output_type": "display_data"
    }
   ],
   "source": [
    "Lake_Bilancino_Cut.Lake_Level.plot(kind = 'hist', title = 'Histogram of LakeLevels Over All Months of All Years').set(xlabel = 'Depth of Lake (Meters)')"
   ]
  },
  {
   "cell_type": "markdown",
   "metadata": {},
   "source": [
    "When plotting a preliminary histogram of the distribution of lake levels, we see a left skewed graph with a somewhat unimodal distribution shape. As stated earlier, we see a clear indication that one of the years had a drop in lake levels. We found out that it was during 2012 that this outlier occurred. "
   ]
  },
  {
   "cell_type": "code",
   "execution_count": 63,
   "metadata": {},
   "outputs": [],
   "source": [
    "lake_2012 = Lake_Bilancino_Cut[Lake_Bilancino_Cut['Year'] == '2012']\n",
    "month_list = ['Jan','Feb','Mar','Apr','May','Jun','Jul', 'Aug', 'Sep' ,'Oct' ,'Nov', 'Dec']"
   ]
  },
  {
   "cell_type": "code",
   "execution_count": 64,
   "metadata": {},
   "outputs": [
    {
     "data": {
      "text/plain": [
       "<AxesSubplot:title={'center':'Lake Levels at Months in 2012'}, xlabel='Month'>"
      ]
     },
     "execution_count": 64,
     "metadata": {},
     "output_type": "execute_result"
    },
    {
     "data": {
      "image/png": "[encoded data removed]",
      "text/plain": [
       "<Figure size 432x288 with 1 Axes>"
      ]
     },
     "metadata": {
      "needs_background": "light"
     },
     "output_type": "display_data"
    }
   ],
   "source": [
    "levelsByMonth2012 = pd.DataFrame(lake_2012.groupby('Month')['Lake_Level'].mean())\n",
    "levelsByMonth2012.reset_index(drop=False,inplace = True)\n",
    "levelsByMonth2012['Month'] = month_list\n",
    "levelsByMonth2012.plot(kind = 'line',x = 'Month',title = 'Lake Levels at Months in 2012')"
   ]
  },
  {
   "cell_type": "code",
   "execution_count": 65,
   "metadata": {},
   "outputs": [
    {
     "data": {
      "text/html": [
       "<div>\n",
       "<style scoped>\n",
       "    .dataframe tbody tr th:only-of-type {\n",
       "        vertical-align: middle;\n",
       "    }\n",
       "\n",
       "    .dataframe tbody tr th {\n",
       "        vertical-align: top;\n",
       "    }\n",
       "\n",
       "    .dataframe thead th {\n",
       "        text-align: right;\n",
       "    }\n",
       "</style>\n",
       "<table border=\"1\" class=\"dataframe\">\n",
       "  <thead>\n",
       "    <tr style=\"text-align: right;\">\n",
       "      <th></th>\n",
       "      <th>Lake_Level</th>\n",
       "    </tr>\n",
       "  </thead>\n",
       "  <tbody>\n",
       "    <tr>\n",
       "      <th>count</th>\n",
       "      <td>12.000000</td>\n",
       "    </tr>\n",
       "    <tr>\n",
       "      <th>mean</th>\n",
       "      <td>245.920833</td>\n",
       "    </tr>\n",
       "    <tr>\n",
       "      <th>std</th>\n",
       "      <td>1.577242</td>\n",
       "    </tr>\n",
       "    <tr>\n",
       "      <th>min</th>\n",
       "      <td>243.777742</td>\n",
       "    </tr>\n",
       "    <tr>\n",
       "      <th>25%</th>\n",
       "      <td>244.788844</td>\n",
       "    </tr>\n",
       "    <tr>\n",
       "      <th>50%</th>\n",
       "      <td>245.360667</td>\n",
       "    </tr>\n",
       "    <tr>\n",
       "      <th>75%</th>\n",
       "      <td>247.284274</td>\n",
       "    </tr>\n",
       "    <tr>\n",
       "      <th>max</th>\n",
       "      <td>248.934516</td>\n",
       "    </tr>\n",
       "  </tbody>\n",
       "</table>\n",
       "</div>"
      ],
      "text/plain": [
       "       Lake_Level\n",
       "count   12.000000\n",
       "mean   245.920833\n",
       "std      1.577242\n",
       "min    243.777742\n",
       "25%    244.788844\n",
       "50%    245.360667\n",
       "75%    247.284274\n",
       "max    248.934516"
      ]
     },
     "execution_count": 65,
     "metadata": {},
     "output_type": "execute_result"
    }
   ],
   "source": [
    "levelsByMonth2012.describe()"
   ]
  },
  {
   "cell_type": "markdown",
   "metadata": {},
   "source": [
    "Here we can observe that the lowest water level at the lake during 2012 was in October. It had a level of 243.78 Meters, 2.143 Meters below the average for 2012. That is around 10715.46 liters of water below the 2012 average water level, which in our case, is already the lowest lake-level year of the dataset."
   ]
  },
  {
   "cell_type": "code",
   "execution_count": 66,
   "metadata": {},
   "outputs": [
    {
     "data": {
      "text/plain": [
       "10715.455322580567"
      ]
     },
     "execution_count": 66,
     "metadata": {},
     "output_type": "execute_result"
    }
   ],
   "source": [
    "water_conversion(245.920833 - 243.77774193548387)"
   ]
  },
  {
   "cell_type": "code",
   "execution_count": 67,
   "metadata": {},
   "outputs": [
    {
     "data": {
      "text/html": [
       "<div>\n",
       "<style scoped>\n",
       "    .dataframe tbody tr th:only-of-type {\n",
       "        vertical-align: middle;\n",
       "    }\n",
       "\n",
       "    .dataframe tbody tr th {\n",
       "        vertical-align: top;\n",
       "    }\n",
       "\n",
       "    .dataframe thead th {\n",
       "        text-align: right;\n",
       "    }\n",
       "</style>\n",
       "<table border=\"1\" class=\"dataframe\">\n",
       "  <thead>\n",
       "    <tr style=\"text-align: right;\">\n",
       "      <th></th>\n",
       "      <th>Date</th>\n",
       "      <th>Rainfall_S_Piero</th>\n",
       "      <th>Rainfall_Mangona</th>\n",
       "      <th>Rainfall_S_Agata</th>\n",
       "      <th>Rainfall_Cavallina</th>\n",
       "      <th>Rainfall_Le_Croci</th>\n",
       "      <th>Temperature_Le_Croci</th>\n",
       "      <th>Lake_Level</th>\n",
       "      <th>Flow_Rate</th>\n",
       "      <th>Month</th>\n",
       "      <th>Year</th>\n",
       "    </tr>\n",
       "  </thead>\n",
       "  <tbody>\n",
       "    <tr>\n",
       "      <th>2922</th>\n",
       "      <td>01/01/2012</td>\n",
       "      <td>0.0</td>\n",
       "      <td>0.0</td>\n",
       "      <td>0.0</td>\n",
       "      <td>0.0</td>\n",
       "      <td>0.0</td>\n",
       "      <td>7.45</td>\n",
       "      <td>244.77</td>\n",
       "      <td>0.6</td>\n",
       "      <td>01</td>\n",
       "      <td>2012</td>\n",
       "    </tr>\n",
       "    <tr>\n",
       "      <th>2923</th>\n",
       "      <td>02/01/2012</td>\n",
       "      <td>12.6</td>\n",
       "      <td>12.0</td>\n",
       "      <td>13.6</td>\n",
       "      <td>13.4</td>\n",
       "      <td>13.4</td>\n",
       "      <td>9.25</td>\n",
       "      <td>244.75</td>\n",
       "      <td>0.6</td>\n",
       "      <td>01</td>\n",
       "      <td>2012</td>\n",
       "    </tr>\n",
       "    <tr>\n",
       "      <th>2924</th>\n",
       "      <td>03/01/2012</td>\n",
       "      <td>3.8</td>\n",
       "      <td>1.2</td>\n",
       "      <td>5.0</td>\n",
       "      <td>3.8</td>\n",
       "      <td>4.0</td>\n",
       "      <td>8.50</td>\n",
       "      <td>244.80</td>\n",
       "      <td>0.6</td>\n",
       "      <td>01</td>\n",
       "      <td>2012</td>\n",
       "    </tr>\n",
       "    <tr>\n",
       "      <th>2925</th>\n",
       "      <td>04/01/2012</td>\n",
       "      <td>2.0</td>\n",
       "      <td>3.6</td>\n",
       "      <td>2.0</td>\n",
       "      <td>2.6</td>\n",
       "      <td>3.6</td>\n",
       "      <td>7.30</td>\n",
       "      <td>244.82</td>\n",
       "      <td>0.6</td>\n",
       "      <td>01</td>\n",
       "      <td>2012</td>\n",
       "    </tr>\n",
       "    <tr>\n",
       "      <th>2926</th>\n",
       "      <td>05/01/2012</td>\n",
       "      <td>2.2</td>\n",
       "      <td>3.6</td>\n",
       "      <td>2.0</td>\n",
       "      <td>1.8</td>\n",
       "      <td>3.2</td>\n",
       "      <td>6.75</td>\n",
       "      <td>244.84</td>\n",
       "      <td>0.6</td>\n",
       "      <td>01</td>\n",
       "      <td>2012</td>\n",
       "    </tr>\n",
       "    <tr>\n",
       "      <th>...</th>\n",
       "      <td>...</td>\n",
       "      <td>...</td>\n",
       "      <td>...</td>\n",
       "      <td>...</td>\n",
       "      <td>...</td>\n",
       "      <td>...</td>\n",
       "      <td>...</td>\n",
       "      <td>...</td>\n",
       "      <td>...</td>\n",
       "      <td>...</td>\n",
       "      <td>...</td>\n",
       "    </tr>\n",
       "    <tr>\n",
       "      <th>3283</th>\n",
       "      <td>27/12/2012</td>\n",
       "      <td>0.0</td>\n",
       "      <td>1.0</td>\n",
       "      <td>1.4</td>\n",
       "      <td>1.6</td>\n",
       "      <td>3.2</td>\n",
       "      <td>10.40</td>\n",
       "      <td>249.89</td>\n",
       "      <td>1.5</td>\n",
       "      <td>12</td>\n",
       "      <td>2012</td>\n",
       "    </tr>\n",
       "    <tr>\n",
       "      <th>3284</th>\n",
       "      <td>28/12/2012</td>\n",
       "      <td>0.0</td>\n",
       "      <td>0.0</td>\n",
       "      <td>0.0</td>\n",
       "      <td>0.0</td>\n",
       "      <td>0.2</td>\n",
       "      <td>11.40</td>\n",
       "      <td>249.93</td>\n",
       "      <td>1.5</td>\n",
       "      <td>12</td>\n",
       "      <td>2012</td>\n",
       "    </tr>\n",
       "    <tr>\n",
       "      <th>3285</th>\n",
       "      <td>29/12/2012</td>\n",
       "      <td>0.0</td>\n",
       "      <td>0.0</td>\n",
       "      <td>0.0</td>\n",
       "      <td>0.0</td>\n",
       "      <td>0.0</td>\n",
       "      <td>10.05</td>\n",
       "      <td>249.98</td>\n",
       "      <td>1.5</td>\n",
       "      <td>12</td>\n",
       "      <td>2012</td>\n",
       "    </tr>\n",
       "    <tr>\n",
       "      <th>3286</th>\n",
       "      <td>30/12/2012</td>\n",
       "      <td>0.0</td>\n",
       "      <td>0.0</td>\n",
       "      <td>0.0</td>\n",
       "      <td>0.0</td>\n",
       "      <td>0.0</td>\n",
       "      <td>6.80</td>\n",
       "      <td>250.01</td>\n",
       "      <td>1.5</td>\n",
       "      <td>12</td>\n",
       "      <td>2012</td>\n",
       "    </tr>\n",
       "    <tr>\n",
       "      <th>3287</th>\n",
       "      <td>31/12/2012</td>\n",
       "      <td>0.0</td>\n",
       "      <td>0.0</td>\n",
       "      <td>0.0</td>\n",
       "      <td>0.0</td>\n",
       "      <td>0.0</td>\n",
       "      <td>9.00</td>\n",
       "      <td>250.02</td>\n",
       "      <td>1.5</td>\n",
       "      <td>12</td>\n",
       "      <td>2012</td>\n",
       "    </tr>\n",
       "  </tbody>\n",
       "</table>\n",
       "<p>366 rows × 11 columns</p>\n",
       "</div>"
      ],
      "text/plain": [
       "            Date  Rainfall_S_Piero  Rainfall_Mangona  Rainfall_S_Agata  \\\n",
       "2922  01/01/2012               0.0               0.0               0.0   \n",
       "2923  02/01/2012              12.6              12.0              13.6   \n",
       "2924  03/01/2012               3.8               1.2               5.0   \n",
       "2925  04/01/2012               2.0               3.6               2.0   \n",
       "2926  05/01/2012               2.2               3.6               2.0   \n",
       "...          ...               ...               ...               ...   \n",
       "3283  27/12/2012               0.0               1.0               1.4   \n",
       "3284  28/12/2012               0.0               0.0               0.0   \n",
       "3285  29/12/2012               0.0               0.0               0.0   \n",
       "3286  30/12/2012               0.0               0.0               0.0   \n",
       "3287  31/12/2012               0.0               0.0               0.0   \n",
       "\n",
       "      Rainfall_Cavallina  Rainfall_Le_Croci  Temperature_Le_Croci  Lake_Level  \\\n",
       "2922                 0.0                0.0                  7.45      244.77   \n",
       "2923                13.4               13.4                  9.25      244.75   \n",
       "2924                 3.8                4.0                  8.50      244.80   \n",
       "2925                 2.6                3.6                  7.30      244.82   \n",
       "2926                 1.8                3.2                  6.75      244.84   \n",
       "...                  ...                ...                   ...         ...   \n",
       "3283                 1.6                3.2                 10.40      249.89   \n",
       "3284                 0.0                0.2                 11.40      249.93   \n",
       "3285                 0.0                0.0                 10.05      249.98   \n",
       "3286                 0.0                0.0                  6.80      250.01   \n",
       "3287                 0.0                0.0                  9.00      250.02   \n",
       "\n",
       "      Flow_Rate Month  Year  \n",
       "2922        0.6    01  2012  \n",
       "2923        0.6    01  2012  \n",
       "2924        0.6    01  2012  \n",
       "2925        0.6    01  2012  \n",
       "2926        0.6    01  2012  \n",
       "...         ...   ...   ...  \n",
       "3283        1.5    12  2012  \n",
       "3284        1.5    12  2012  \n",
       "3285        1.5    12  2012  \n",
       "3286        1.5    12  2012  \n",
       "3287        1.5    12  2012  \n",
       "\n",
       "[366 rows x 11 columns]"
      ]
     },
     "execution_count": 67,
     "metadata": {},
     "output_type": "execute_result"
    }
   ],
   "source": [
    "lake_2012"
   ]
  },
  {
   "cell_type": "code",
   "execution_count": 68,
   "metadata": {},
   "outputs": [
    {
     "data": {
      "text/plain": [
       "-0.24627312592603223"
      ]
     },
     "execution_count": 68,
     "metadata": {},
     "output_type": "execute_result"
    }
   ],
   "source": [
    "data_kurt_coef = stats.kurtosis(lake_2012.Lake_Level)\n",
    "data_kurt_coef"
   ]
  },
  {
   "cell_type": "code",
   "execution_count": 69,
   "metadata": {},
   "outputs": [],
   "source": [
    "#Kurtosis test on the 2012 Lake Levels\n",
    "kurtosis_coefs = []\n",
    "for i in range(1000):\n",
    "    distribution = Lake_Bilancino_Cut.Lake_Level\n",
    "    sample_arr = sample(list(distribution),365)\n",
    "    kurtosis_coefs.append(stats.kurtosis(sample_arr))"
   ]
  },
  {
   "cell_type": "code",
   "execution_count": 70,
   "metadata": {},
   "outputs": [
    {
     "data": {
      "text/plain": [
       "[<matplotlib.lines.Line2D at 0x7feb9f703e80>]"
      ]
     },
     "execution_count": 70,
     "metadata": {},
     "output_type": "execute_result"
    },
    {
     "data": {
      "image/png": "[encoded data removed]",
      "text/plain": [
       "<Figure size 432x288 with 1 Axes>"
      ]
     },
     "metadata": {
      "needs_background": "light"
     },
     "output_type": "display_data"
    }
   ],
   "source": [
    "ax = pd.DataFrame(kurtosis_coefs).plot(kind = 'hist',legend = False,title = 'Kurtosis Coefficents from Sampled Data')\n",
    "ax.set(xlabel = 'Kurtosis Coefficient')\n",
    "ax.plot(data_kurt_coef, 3, \"or\")"
   ]
  },
  {
   "cell_type": "code",
   "execution_count": 71,
   "metadata": {},
   "outputs": [
    {
     "data": {
      "text/html": [
       "<div>\n",
       "<style scoped>\n",
       "    .dataframe tbody tr th:only-of-type {\n",
       "        vertical-align: middle;\n",
       "    }\n",
       "\n",
       "    .dataframe tbody tr th {\n",
       "        vertical-align: top;\n",
       "    }\n",
       "\n",
       "    .dataframe thead th {\n",
       "        text-align: right;\n",
       "    }\n",
       "</style>\n",
       "<table border=\"1\" class=\"dataframe\">\n",
       "  <thead>\n",
       "    <tr style=\"text-align: right;\">\n",
       "      <th></th>\n",
       "      <th>Descriptive Stats</th>\n",
       "    </tr>\n",
       "  </thead>\n",
       "  <tbody>\n",
       "    <tr>\n",
       "      <th>count</th>\n",
       "      <td>1000.000000</td>\n",
       "    </tr>\n",
       "    <tr>\n",
       "      <th>mean</th>\n",
       "      <td>-0.498084</td>\n",
       "    </tr>\n",
       "    <tr>\n",
       "      <th>std</th>\n",
       "      <td>0.189707</td>\n",
       "    </tr>\n",
       "    <tr>\n",
       "      <th>min</th>\n",
       "      <td>-0.965706</td>\n",
       "    </tr>\n",
       "    <tr>\n",
       "      <th>25%</th>\n",
       "      <td>-0.643618</td>\n",
       "    </tr>\n",
       "    <tr>\n",
       "      <th>50%</th>\n",
       "      <td>-0.503093</td>\n",
       "    </tr>\n",
       "    <tr>\n",
       "      <th>75%</th>\n",
       "      <td>-0.375366</td>\n",
       "    </tr>\n",
       "    <tr>\n",
       "      <th>max</th>\n",
       "      <td>0.455333</td>\n",
       "    </tr>\n",
       "  </tbody>\n",
       "</table>\n",
       "</div>"
      ],
      "text/plain": [
       "       Descriptive Stats\n",
       "count        1000.000000\n",
       "mean           -0.498084\n",
       "std             0.189707\n",
       "min            -0.965706\n",
       "25%            -0.643618\n",
       "50%            -0.503093\n",
       "75%            -0.375366\n",
       "max             0.455333"
      ]
     },
     "execution_count": 71,
     "metadata": {},
     "output_type": "execute_result"
    }
   ],
   "source": [
    "pd.DataFrame(kurtosis_coefs).describe().rename({0:'Descriptive Stats'},axis = 1)"
   ]
  },
  {
   "cell_type": "markdown",
   "metadata": {},
   "source": [
    "After a kurtosis test, we affirmed that the 2012 data rejects the null hypothesis and favors the alternative that it is not normally distributed. The Kurtosis Coefficient of the 2012 lake data is -0.246, which falls under the skew of the graph, thus deeming the data is not normaly distributed. This is presumably since the 2012 lake levels were left skewed to begin with. "
   ]
  },
  {
   "cell_type": "code",
   "execution_count": 72,
   "metadata": {},
   "outputs": [
    {
     "data": {
      "text/plain": [
       "<AxesSubplot:ylabel='Frequency'>"
      ]
     },
     "execution_count": 72,
     "metadata": {},
     "output_type": "execute_result"
    },
    {
     "data": {
      "image/png": "[encoded data removed]",
      "text/plain": [
       "<Figure size 432x288 with 1 Axes>"
      ]
     },
     "metadata": {
      "needs_background": "light"
     },
     "output_type": "display_data"
    }
   ],
   "source": [
    "Lake_Bilancino_Cut.Lake_Level.plot(kind = 'hist')"
   ]
  },
  {
   "cell_type": "markdown",
   "metadata": {},
   "source": [
    "## 4.5 Number of rainfall affects the flow rate or water level of the water body"
   ]
  },
  {
   "cell_type": "code",
   "execution_count": 73,
   "metadata": {},
   "outputs": [
    {
     "data": {
      "text/plain": [
       "<AxesSubplot:title={'center':'Histogram of sum_RF_Anually'}, ylabel='Frequency'>"
      ]
     },
     "execution_count": 73,
     "metadata": {},
     "output_type": "execute_result"
    },
    {
     "data": {
      "image/png": "[encoded data removed]",
      "text/plain": [
       "<Figure size 432x288 with 1 Axes>"
      ]
     },
     "metadata": {
      "needs_background": "light"
     },
     "output_type": "display_data"
    }
   ],
   "source": [
    "Q1data['sum_RF_Anually'].plot(kind='hist',bins=5, title='Histogram of sum_RF_Anually')"
   ]
  },
  {
   "cell_type": "code",
   "execution_count": 74,
   "metadata": {},
   "outputs": [
    {
     "data": {
      "text/plain": [
       "0.30176191599124724"
      ]
     },
     "execution_count": 74,
     "metadata": {},
     "output_type": "execute_result"
    }
   ],
   "source": [
    "kurtosis(Q1data['sum_RF_Anually'])"
   ]
  },
  {
   "cell_type": "code",
   "execution_count": 75,
   "metadata": {},
   "outputs": [
    {
     "data": {
      "text/plain": [
       "<AxesSubplot:title={'center':'ScatterPlot of davg_FlorRate vs Sum_RainFall'}, xlabel='sum_RF_Anually', ylabel='davg_Flow_Rate_Annually'>"
      ]
     },
     "execution_count": 75,
     "metadata": {},
     "output_type": "execute_result"
    },
    {
     "data": {
      "image/png": "[encoded data removed]",
      "text/plain": [
       "<Figure size 432x288 with 1 Axes>"
      ]
     },
     "metadata": {
      "needs_background": "light"
     },
     "output_type": "display_data"
    }
   ],
   "source": [
    "Q1data.plot.scatter(title='ScatterPlot of davg_FlorRate vs Sum_RainFall',x=\"sum_RF_Anually\",y=\"davg_Flow_Rate_Annually\")"
   ]
  },
  {
   "cell_type": "code",
   "execution_count": 76,
   "metadata": {},
   "outputs": [
    {
     "data": {
      "text/plain": [
       "<AxesSubplot:title={'center':'ScatterPlot of Lake_Level vs Sum_RainFall'}, xlabel='sum_RF_Anually', ylabel='davg_Lake_Level'>"
      ]
     },
     "execution_count": 76,
     "metadata": {},
     "output_type": "execute_result"
    },
    {
     "data": {
      "image/png": "[encoded data removed]",
      "text/plain": [
       "<Figure size 432x288 with 1 Axes>"
      ]
     },
     "metadata": {
      "needs_background": "light"
     },
     "output_type": "display_data"
    }
   ],
   "source": [
    "Q1data.plot.scatter(title='ScatterPlot of Lake_Level vs Sum_RainFall',x=\"sum_RF_Anually\",y=\"davg_Lake_Level\")"
   ]
  },
  {
   "cell_type": "markdown",
   "metadata": {},
   "source": [
    "## 4.6 Analyze flow rate and water level between seasons"
   ]
  },
  {
   "cell_type": "code",
   "execution_count": 77,
   "metadata": {},
   "outputs": [],
   "source": [
    "# Spring- March April May \n",
    "# Summer-June July august \n",
    "# Autumn- September, October, November \n",
    "# Winter- December January February\n",
    "\n",
    "# Apply Season Funtion\n",
    "def make_season(season):\n",
    "    if season in ['03','04','05']:\n",
    "        return 'Spring'\n",
    "    elif season in ['06','07','08']:\n",
    "        return 'Summer'\n",
    "    elif season in ['09','10','11']:\n",
    "        return 'Autumn'\n",
    "    else:\n",
    "        return 'Winter'"
   ]
  },
  {
   "cell_type": "code",
   "execution_count": 78,
   "metadata": {},
   "outputs": [],
   "source": [
    "Lake_Bilancino_Cut['Season'] = Lake_Bilancino_Cut.Month.apply(make_season)"
   ]
  },
  {
   "cell_type": "markdown",
   "metadata": {},
   "source": [
    "### Questions and Methods\n",
    "1. Analyze flow rate and water level between seasons\n",
    "    - Kurtosis Simulation Test\n",
    "    - Kruskal - Wallis Test"
   ]
  },
  {
   "cell_type": "markdown",
   "metadata": {},
   "source": [
    "# Lake Level"
   ]
  },
  {
   "cell_type": "code",
   "execution_count": 79,
   "metadata": {},
   "outputs": [
    {
     "data": {
      "text/plain": [
       "Spring    1564\n",
       "Winter    1504\n",
       "Summer    1502\n",
       "Autumn    1456\n",
       "Name: Season, dtype: int64"
      ]
     },
     "execution_count": 79,
     "metadata": {},
     "output_type": "execute_result"
    }
   ],
   "source": [
    "Lake_Bilancino_Cut.Season.value_counts()"
   ]
  },
  {
   "cell_type": "code",
   "execution_count": 80,
   "metadata": {},
   "outputs": [
    {
     "name": "stdout",
     "output_type": "stream",
     "text": [
      "\n",
      "Kurtosis for normal distribution (should be 0): -0.5033583017134986\n",
      "Skewness of normal distribution (should be 0): -0.7522411671581641\n"
     ]
    },
    {
     "data": {
      "image/png": "[encoded data removed]",
      "text/plain": [
       "<Figure size 432x288 with 1 Axes>"
      ]
     },
     "metadata": {
      "needs_background": "light"
     },
     "output_type": "display_data"
    }
   ],
   "source": [
    "Lake_Bilancino_Cut.Lake_Level.hist()\n",
    "#Lake_Bilancino_Cut.Lake_Level.describe()\n",
    "#sns.histplot(data=Lake_Bilancino_Cut, x=\"Lake_Level\")\n",
    "\n",
    "print( '\\nKurtosis for normal distribution (should be 0):', kurtosis(Lake_Bilancino_Cut.Lake_Level)) \n",
    "print( 'Skewness of normal distribution (should be 0): {}'.format(skew(Lake_Bilancino_Cut.Lake_Level)))"
   ]
  },
  {
   "cell_type": "code",
   "execution_count": 81,
   "metadata": {},
   "outputs": [
    {
     "name": "stdout",
     "output_type": "stream",
     "text": [
      "\n",
      "Kurtosis for normal distribution (should be 0): 7.908177509668862\n",
      "Skewness of normal distribution (should be 0): -2.746259672934576\n"
     ]
    },
    {
     "data": {
      "image/png": "[encoded data removed]",
      "text/plain": [
       "<Figure size 432x288 with 1 Axes>"
      ]
     },
     "metadata": {
      "needs_background": "light"
     },
     "output_type": "display_data"
    }
   ],
   "source": [
    "Lake_Bilancino_Cut[Lake_Bilancino_Cut.Season == 'Spring'].Lake_Level.hist()\n",
    "Spring_Lake_Level = Lake_Bilancino_Cut[Lake_Bilancino_Cut.Season == 'Spring'].Lake_Level\n",
    "print( '\\nKurtosis for normal distribution (should be 0):', kurtosis(Spring_Lake_Level)) \n",
    "print( 'Skewness of normal distribution (should be 0): {}'.format(skew(Spring_Lake_Level)))"
   ]
  },
  {
   "cell_type": "code",
   "execution_count": 82,
   "metadata": {},
   "outputs": [
    {
     "name": "stdout",
     "output_type": "stream",
     "text": [
      "\n",
      "Kurtosis for normal distribution (should be 0): -0.49416624536716514\n",
      "Skewness of normal distribution (should be 0): -0.7522149298567467\n"
     ]
    },
    {
     "data": {
      "image/png": "[encoded data removed]",
      "text/plain": [
       "<Figure size 432x288 with 1 Axes>"
      ]
     },
     "metadata": {
      "needs_background": "light"
     },
     "output_type": "display_data"
    }
   ],
   "source": [
    "Lake_Bilancino_Cut[Lake_Bilancino_Cut.Season == 'Winter'].Lake_Level.hist()\n",
    "Winter_Lake_Level = Lake_Bilancino_Cut[Lake_Bilancino_Cut.Season == 'Winter'].Lake_Level\n",
    "print( '\\nKurtosis for normal distribution (should be 0):', kurtosis(Lake_Bilancino_Cut[Lake_Bilancino_Cut.Season == 'Winter'].Lake_Level)) \n",
    "print( 'Skewness of normal distribution (should be 0): {}'.format(skew(Winter_Lake_Level)))"
   ]
  },
  {
   "cell_type": "code",
   "execution_count": 83,
   "metadata": {},
   "outputs": [
    {
     "name": "stdout",
     "output_type": "stream",
     "text": [
      "\n",
      "Kurtosis for normal distribution (should be 0): 1.3479750284887322\n",
      "Skewness of normal distribution (should be 0): -1.162173606084193\n"
     ]
    },
    {
     "data": {
      "image/png": "[encoded data removed]",
      "text/plain": [
       "<Figure size 432x288 with 1 Axes>"
      ]
     },
     "metadata": {
      "needs_background": "light"
     },
     "output_type": "display_data"
    }
   ],
   "source": [
    "Lake_Bilancino_Cut[Lake_Bilancino_Cut.Season == 'Summer'].Lake_Level.hist()\n",
    "Summer_Lake_Level = Lake_Bilancino_Cut[Lake_Bilancino_Cut.Season == 'Summer'].Lake_Level\n",
    "print( '\\nKurtosis for normal distribution (should be 0):', kurtosis(Summer_Lake_Level)) \n",
    "print( 'Skewness of normal distribution (should be 0): {}'.format(skew(Summer_Lake_Level)))"
   ]
  },
  {
   "cell_type": "code",
   "execution_count": 84,
   "metadata": {},
   "outputs": [
    {
     "name": "stdout",
     "output_type": "stream",
     "text": [
      "\n",
      "Kurtosis for normal distribution (should be 0): -0.1288667126969134\n",
      "Skewness of normal distribution (should be 0): -0.23664741215027785\n"
     ]
    },
    {
     "data": {
      "image/png": "[encoded data removed]",
      "text/plain": [
       "<Figure size 432x288 with 1 Axes>"
      ]
     },
     "metadata": {
      "needs_background": "light"
     },
     "output_type": "display_data"
    }
   ],
   "source": [
    "Lake_Bilancino_Cut[Lake_Bilancino_Cut.Season == 'Autumn'].Lake_Level.hist()\n",
    "Autumn_Lake_Level = Lake_Bilancino_Cut[Lake_Bilancino_Cut.Season == 'Autumn'].Lake_Level\n",
    "print( '\\nKurtosis for normal distribution (should be 0):', kurtosis(Lake_Bilancino_Cut[Lake_Bilancino_Cut.Season == 'Autumn'].Lake_Level)) \n",
    "print( 'Skewness of normal distribution (should be 0): {}'.format(skew(Autumn_Lake_Level)))"
   ]
  },
  {
   "cell_type": "markdown",
   "metadata": {},
   "source": [
    "# Flow Rate"
   ]
  },
  {
   "cell_type": "code",
   "execution_count": 85,
   "metadata": {},
   "outputs": [
    {
     "name": "stdout",
     "output_type": "stream",
     "text": [
      "\n",
      "Kurtosis for normal distribution : 60.39221118451545\n"
     ]
    },
    {
     "data": {
      "image/png": "[encoded data removed]",
      "text/plain": [
       "<Figure size 432x288 with 1 Axes>"
      ]
     },
     "metadata": {
      "needs_background": "light"
     },
     "output_type": "display_data"
    }
   ],
   "source": [
    "Lake_Bilancino_Cut.Flow_Rate.hist()\n",
    "Lake_Bilancino_Cut.Flow_Rate.describe()\n",
    "\n",
    "# An extreme positive kurtosis indicates a distribution where more of the values are located\n",
    "# in the tails of the distribution rather than around the mean.\n",
    "print( '\\nKurtosis for normal distribution :', kurtosis(Lake_Bilancino_Cut.Flow_Rate)) "
   ]
  },
  {
   "cell_type": "code",
   "execution_count": 19,
   "metadata": {},
   "outputs": [
    {
     "data": {
      "text/plain": [
       "<AxesSubplot:>"
      ]
     },
     "execution_count": 19,
     "metadata": {},
     "output_type": "execute_result"
    },
    {
     "data": {
      "image/png": "[encoded data removed]",
      "text/plain": [
       "<Figure size 432x288 with 1 Axes>"
      ]
     },
     "metadata": {
      "needs_background": "light"
     },
     "output_type": "display_data"
    }
   ],
   "source": [
    "# Logistically Transform the Flow Rate\n",
    "Lake_Bilancino_Cut.Flow_Rate.hist()"
   ]
  },
  {
   "cell_type": "code",
   "execution_count": 86,
   "metadata": {},
   "outputs": [
    {
     "data": {
      "text/plain": [
       "<AxesSubplot:>"
      ]
     },
     "execution_count": 86,
     "metadata": {},
     "output_type": "execute_result"
    },
    {
     "data": {
      "image/png": "[encoded data removed]",
      "text/plain": [
       "<Figure size 432x288 with 1 Axes>"
      ]
     },
     "metadata": {
      "needs_background": "light"
     },
     "output_type": "display_data"
    }
   ],
   "source": [
    "# Square Root Transform the Flow Rate\n",
    "Lake_Bilancino_Cut.Flow_Rate.hist()"
   ]
  },
  {
   "cell_type": "code",
   "execution_count": 87,
   "metadata": {},
   "outputs": [
    {
     "name": "stdout",
     "output_type": "stream",
     "text": [
      "\n",
      "Kurtosis for normal distribution (should be 0): 27.558922256853283\n",
      "Skewness of normal distribution (should be 0): 3.9065287852494053\n"
     ]
    },
    {
     "data": {
      "image/png": "[encoded data removed]",
      "text/plain": [
       "<Figure size 432x288 with 1 Axes>"
      ]
     },
     "metadata": {
      "needs_background": "light"
     },
     "output_type": "display_data"
    }
   ],
   "source": [
    "Lake_Bilancino_Cut[Lake_Bilancino_Cut.Season == 'Spring'].Flow_Rate.hist()\n",
    "Spring_Flow_Rate = Lake_Bilancino_Cut[Lake_Bilancino_Cut.Season == 'Spring'].Flow_Rate\n",
    "\n",
    "print( '\\nKurtosis for normal distribution (should be 0):', kurtosis(Spring_Flow_Rate)) \n",
    "print( 'Skewness of normal distribution (should be 0): {}'.format(skew(Spring_Flow_Rate)))"
   ]
  },
  {
   "cell_type": "code",
   "execution_count": 88,
   "metadata": {},
   "outputs": [
    {
     "name": "stdout",
     "output_type": "stream",
     "text": [
      "\n",
      "Kurtosis for normal distribution (should be 0): 36.52927105368438\n",
      "Skewness of normal distribution (should be 0): 4.767458306303771\n"
     ]
    },
    {
     "data": {
      "image/png": "[encoded data removed]",
      "text/plain": [
       "<Figure size 432x288 with 1 Axes>"
      ]
     },
     "metadata": {
      "needs_background": "light"
     },
     "output_type": "display_data"
    }
   ],
   "source": [
    "Lake_Bilancino_Cut[Lake_Bilancino_Cut.Season == 'Winter'].Flow_Rate.hist()\n",
    "Winter_Flow_Rate = Lake_Bilancino_Cut[Lake_Bilancino_Cut.Season == 'Winter'].Flow_Rate\n",
    "\n",
    "print( '\\nKurtosis for normal distribution (should be 0):', kurtosis(Winter_Flow_Rate)) \n",
    "print( 'Skewness of normal distribution (should be 0): {}'.format(skew(Winter_Flow_Rate)))"
   ]
  },
  {
   "cell_type": "code",
   "execution_count": 89,
   "metadata": {},
   "outputs": [
    {
     "name": "stdout",
     "output_type": "stream",
     "text": [
      "\n",
      "Kurtosis for normal distribution (should be 0): 0.4743729364028657\n",
      "Skewness of normal distribution (should be 0): 0.6754771720981214\n"
     ]
    },
    {
     "data": {
      "image/png": "[encoded data removed]",
      "text/plain": [
       "<Figure size 432x288 with 1 Axes>"
      ]
     },
     "metadata": {
      "needs_background": "light"
     },
     "output_type": "display_data"
    }
   ],
   "source": [
    "Lake_Bilancino_Cut[Lake_Bilancino_Cut.Season == 'Summer'].Flow_Rate.hist()\n",
    "Summer_Flow_Rate = Lake_Bilancino_Cut[Lake_Bilancino_Cut.Season == 'Summer'].Flow_Rate\n",
    "\n",
    "print( '\\nKurtosis for normal distribution (should be 0):', kurtosis(Summer_Flow_Rate)) \n",
    "print( 'Skewness of normal distribution (should be 0): {}'.format(skew(Summer_Flow_Rate)))"
   ]
  },
  {
   "cell_type": "code",
   "execution_count": 90,
   "metadata": {},
   "outputs": [
    {
     "name": "stdout",
     "output_type": "stream",
     "text": [
      "\n",
      "Kurtosis for normal distribution (should be 0): 63.928586332556335\n",
      "Skewness of normal distribution (should be 0): 6.053635014272246\n"
     ]
    },
    {
     "data": {
      "image/png": "[encoded data removed]",
      "text/plain": [
       "<Figure size 432x288 with 1 Axes>"
      ]
     },
     "metadata": {
      "needs_background": "light"
     },
     "output_type": "display_data"
    }
   ],
   "source": [
    "Lake_Bilancino_Cut[Lake_Bilancino_Cut.Season == 'Autumn'].Flow_Rate.hist()\n",
    "Autumn_Flow_Rate = Lake_Bilancino_Cut[Lake_Bilancino_Cut.Season == 'Autumn'].Flow_Rate\n",
    "\n",
    "print( '\\nKurtosis for normal distribution (should be 0):', kurtosis(Autumn_Flow_Rate)) \n",
    "print( 'Skewness of normal distribution (should be 0): {}'.format(skew(Autumn_Flow_Rate)))"
   ]
  },
  {
   "cell_type": "markdown",
   "metadata": {},
   "source": [
    "### Kruskal Wallis Test for Lake Level"
   ]
  },
  {
   "cell_type": "code",
   "execution_count": 91,
   "metadata": {},
   "outputs": [
    {
     "data": {
      "text/plain": [
       "KruskalResult(statistic=81.75675879509366, pvalue=1.539093487057443e-19)"
      ]
     },
     "execution_count": 91,
     "metadata": {},
     "output_type": "execute_result"
    }
   ],
   "source": [
    "stats.kruskal(Spring_Lake_Level, Autumn_Lake_Level)\n",
    "stats.kruskal(Spring_Lake_Level, Winter_Lake_Level)\n",
    "stats.kruskal(Spring_Lake_Level, Summer_Lake_Level)\n",
    "\n",
    "stats.kruskal(Autumn_Lake_Level, Winter_Lake_Level)\n",
    "stats.kruskal(Autumn_Lake_Level, Summer_Lake_Level)\n",
    "stats.kruskal(Winter_Lake_Level, Summer_Lake_Level)"
   ]
  },
  {
   "cell_type": "markdown",
   "metadata": {},
   "source": [
    "### Kruskal Wallis Test for Flow Rate"
   ]
  },
  {
   "cell_type": "code",
   "execution_count": 92,
   "metadata": {},
   "outputs": [
    {
     "data": {
      "text/plain": [
       "KruskalResult(statistic=42.291331169973994, pvalue=7.864036504484014e-11)"
      ]
     },
     "execution_count": 92,
     "metadata": {},
     "output_type": "execute_result"
    }
   ],
   "source": [
    "stats.kruskal(Spring_Flow_Rate, Autumn_Flow_Rate)\n",
    "stats.kruskal(Spring_Flow_Rate, Winter_Flow_Rate)\n",
    "stats.kruskal(Spring_Flow_Rate, Summer_Flow_Rate)\n",
    "\n",
    "stats.kruskal(Autumn_Flow_Rate, Winter_Flow_Rate)\n",
    "stats.kruskal(Autumn_Flow_Rate, Summer_Flow_Rate)\n",
    "stats.kruskal(Winter_Flow_Rate, Summer_Flow_Rate)"
   ]
  },
  {
   "cell_type": "markdown",
   "metadata": {},
   "source": [
    "## 4.7 Investigate the amount of rainfall in each area"
   ]
  },
  {
   "cell_type": "code",
   "execution_count": 93,
   "metadata": {},
   "outputs": [
    {
     "data": {
      "text/html": [
       "<div>\n",
       "<style scoped>\n",
       "    .dataframe tbody tr th:only-of-type {\n",
       "        vertical-align: middle;\n",
       "    }\n",
       "\n",
       "    .dataframe tbody tr th {\n",
       "        vertical-align: top;\n",
       "    }\n",
       "\n",
       "    .dataframe thead th {\n",
       "        text-align: right;\n",
       "    }\n",
       "</style>\n",
       "<table border=\"1\" class=\"dataframe\">\n",
       "  <thead>\n",
       "    <tr style=\"text-align: right;\">\n",
       "      <th></th>\n",
       "      <th>Date</th>\n",
       "      <th>Rainfall_S_Piero</th>\n",
       "      <th>Rainfall_Mangona</th>\n",
       "      <th>Rainfall_S_Agata</th>\n",
       "      <th>Rainfall_Cavallina</th>\n",
       "      <th>Rainfall_Le_Croci</th>\n",
       "      <th>Temperature_Le_Croci</th>\n",
       "      <th>Lake_Level</th>\n",
       "      <th>Flow_Rate</th>\n",
       "    </tr>\n",
       "  </thead>\n",
       "  <tbody>\n",
       "    <tr>\n",
       "      <th>0</th>\n",
       "      <td>03/06/2002</td>\n",
       "      <td>NaN</td>\n",
       "      <td>NaN</td>\n",
       "      <td>NaN</td>\n",
       "      <td>NaN</td>\n",
       "      <td>NaN</td>\n",
       "      <td>NaN</td>\n",
       "      <td>249.43</td>\n",
       "      <td>0.31</td>\n",
       "    </tr>\n",
       "    <tr>\n",
       "      <th>1</th>\n",
       "      <td>04/06/2002</td>\n",
       "      <td>NaN</td>\n",
       "      <td>NaN</td>\n",
       "      <td>NaN</td>\n",
       "      <td>NaN</td>\n",
       "      <td>NaN</td>\n",
       "      <td>NaN</td>\n",
       "      <td>249.43</td>\n",
       "      <td>0.31</td>\n",
       "    </tr>\n",
       "    <tr>\n",
       "      <th>2</th>\n",
       "      <td>05/06/2002</td>\n",
       "      <td>NaN</td>\n",
       "      <td>NaN</td>\n",
       "      <td>NaN</td>\n",
       "      <td>NaN</td>\n",
       "      <td>NaN</td>\n",
       "      <td>NaN</td>\n",
       "      <td>249.43</td>\n",
       "      <td>0.31</td>\n",
       "    </tr>\n",
       "    <tr>\n",
       "      <th>3</th>\n",
       "      <td>06/06/2002</td>\n",
       "      <td>NaN</td>\n",
       "      <td>NaN</td>\n",
       "      <td>NaN</td>\n",
       "      <td>NaN</td>\n",
       "      <td>NaN</td>\n",
       "      <td>NaN</td>\n",
       "      <td>249.43</td>\n",
       "      <td>0.31</td>\n",
       "    </tr>\n",
       "    <tr>\n",
       "      <th>4</th>\n",
       "      <td>07/06/2002</td>\n",
       "      <td>NaN</td>\n",
       "      <td>NaN</td>\n",
       "      <td>NaN</td>\n",
       "      <td>NaN</td>\n",
       "      <td>NaN</td>\n",
       "      <td>NaN</td>\n",
       "      <td>249.44</td>\n",
       "      <td>0.31</td>\n",
       "    </tr>\n",
       "    <tr>\n",
       "      <th>...</th>\n",
       "      <td>...</td>\n",
       "      <td>...</td>\n",
       "      <td>...</td>\n",
       "      <td>...</td>\n",
       "      <td>...</td>\n",
       "      <td>...</td>\n",
       "      <td>...</td>\n",
       "      <td>...</td>\n",
       "      <td>...</td>\n",
       "    </tr>\n",
       "    <tr>\n",
       "      <th>6598</th>\n",
       "      <td>26/06/2020</td>\n",
       "      <td>0.0</td>\n",
       "      <td>0.0</td>\n",
       "      <td>0.0</td>\n",
       "      <td>0.0</td>\n",
       "      <td>0.0</td>\n",
       "      <td>22.50</td>\n",
       "      <td>250.85</td>\n",
       "      <td>0.60</td>\n",
       "    </tr>\n",
       "    <tr>\n",
       "      <th>6599</th>\n",
       "      <td>27/06/2020</td>\n",
       "      <td>0.0</td>\n",
       "      <td>0.0</td>\n",
       "      <td>0.0</td>\n",
       "      <td>0.0</td>\n",
       "      <td>0.0</td>\n",
       "      <td>23.40</td>\n",
       "      <td>250.84</td>\n",
       "      <td>0.60</td>\n",
       "    </tr>\n",
       "    <tr>\n",
       "      <th>6600</th>\n",
       "      <td>28/06/2020</td>\n",
       "      <td>0.0</td>\n",
       "      <td>0.0</td>\n",
       "      <td>0.0</td>\n",
       "      <td>0.0</td>\n",
       "      <td>0.0</td>\n",
       "      <td>21.50</td>\n",
       "      <td>250.83</td>\n",
       "      <td>0.60</td>\n",
       "    </tr>\n",
       "    <tr>\n",
       "      <th>6601</th>\n",
       "      <td>29/06/2020</td>\n",
       "      <td>0.0</td>\n",
       "      <td>0.0</td>\n",
       "      <td>0.0</td>\n",
       "      <td>0.0</td>\n",
       "      <td>0.0</td>\n",
       "      <td>23.20</td>\n",
       "      <td>250.82</td>\n",
       "      <td>0.60</td>\n",
       "    </tr>\n",
       "    <tr>\n",
       "      <th>6602</th>\n",
       "      <td>30/06/2020</td>\n",
       "      <td>0.0</td>\n",
       "      <td>0.0</td>\n",
       "      <td>0.0</td>\n",
       "      <td>0.0</td>\n",
       "      <td>0.0</td>\n",
       "      <td>22.75</td>\n",
       "      <td>250.80</td>\n",
       "      <td>0.60</td>\n",
       "    </tr>\n",
       "  </tbody>\n",
       "</table>\n",
       "<p>6603 rows × 9 columns</p>\n",
       "</div>"
      ],
      "text/plain": [
       "            Date  Rainfall_S_Piero  Rainfall_Mangona  Rainfall_S_Agata  \\\n",
       "0     03/06/2002               NaN               NaN               NaN   \n",
       "1     04/06/2002               NaN               NaN               NaN   \n",
       "2     05/06/2002               NaN               NaN               NaN   \n",
       "3     06/06/2002               NaN               NaN               NaN   \n",
       "4     07/06/2002               NaN               NaN               NaN   \n",
       "...          ...               ...               ...               ...   \n",
       "6598  26/06/2020               0.0               0.0               0.0   \n",
       "6599  27/06/2020               0.0               0.0               0.0   \n",
       "6600  28/06/2020               0.0               0.0               0.0   \n",
       "6601  29/06/2020               0.0               0.0               0.0   \n",
       "6602  30/06/2020               0.0               0.0               0.0   \n",
       "\n",
       "      Rainfall_Cavallina  Rainfall_Le_Croci  Temperature_Le_Croci  Lake_Level  \\\n",
       "0                    NaN                NaN                   NaN      249.43   \n",
       "1                    NaN                NaN                   NaN      249.43   \n",
       "2                    NaN                NaN                   NaN      249.43   \n",
       "3                    NaN                NaN                   NaN      249.43   \n",
       "4                    NaN                NaN                   NaN      249.44   \n",
       "...                  ...                ...                   ...         ...   \n",
       "6598                 0.0                0.0                 22.50      250.85   \n",
       "6599                 0.0                0.0                 23.40      250.84   \n",
       "6600                 0.0                0.0                 21.50      250.83   \n",
       "6601                 0.0                0.0                 23.20      250.82   \n",
       "6602                 0.0                0.0                 22.75      250.80   \n",
       "\n",
       "      Flow_Rate  \n",
       "0          0.31  \n",
       "1          0.31  \n",
       "2          0.31  \n",
       "3          0.31  \n",
       "4          0.31  \n",
       "...         ...  \n",
       "6598       0.60  \n",
       "6599       0.60  \n",
       "6600       0.60  \n",
       "6601       0.60  \n",
       "6602       0.60  \n",
       "\n",
       "[6603 rows x 9 columns]"
      ]
     },
     "execution_count": 93,
     "metadata": {},
     "output_type": "execute_result"
    }
   ],
   "source": [
    "LakeData=pd.read_csv('Lake_Bilancino.csv')\n",
    "LakeData"
   ]
  },
  {
   "cell_type": "code",
   "execution_count": 94,
   "metadata": {},
   "outputs": [
    {
     "name": "stderr",
     "output_type": "stream",
     "text": [
      "<ipython-input-94-022f43b6541c>:2: SettingWithCopyWarning: \n",
      "A value is trying to be set on a copy of a slice from a DataFrame.\n",
      "Try using .loc[row_indexer,col_indexer] = value instead\n",
      "\n",
      "See the caveats in the documentation: https://pandas.pydata.org/pandas-docs/stable/user_guide/indexing.html#returning-a-view-versus-a-copy\n",
      "  LakeData['totalRainfall']=LakeData.Rainfall_S_Piero+LakeData.Rainfall_Mangona+LakeData.Rainfall_S_Agata+LakeData.Rainfall_Cavallina+LakeData.Rainfall_Le_Croci\n"
     ]
    },
    {
     "data": {
      "text/html": [
       "<div>\n",
       "<style scoped>\n",
       "    .dataframe tbody tr th:only-of-type {\n",
       "        vertical-align: middle;\n",
       "    }\n",
       "\n",
       "    .dataframe tbody tr th {\n",
       "        vertical-align: top;\n",
       "    }\n",
       "\n",
       "    .dataframe thead th {\n",
       "        text-align: right;\n",
       "    }\n",
       "</style>\n",
       "<table border=\"1\" class=\"dataframe\">\n",
       "  <thead>\n",
       "    <tr style=\"text-align: right;\">\n",
       "      <th></th>\n",
       "      <th>Date</th>\n",
       "      <th>Rainfall_S_Piero</th>\n",
       "      <th>Rainfall_Mangona</th>\n",
       "      <th>Rainfall_S_Agata</th>\n",
       "      <th>Rainfall_Cavallina</th>\n",
       "      <th>Rainfall_Le_Croci</th>\n",
       "      <th>Temperature_Le_Croci</th>\n",
       "      <th>Lake_Level</th>\n",
       "      <th>Flow_Rate</th>\n",
       "      <th>totalRainfall</th>\n",
       "    </tr>\n",
       "  </thead>\n",
       "  <tbody>\n",
       "    <tr>\n",
       "      <th>578</th>\n",
       "      <td>02/01/2004</td>\n",
       "      <td>0.0</td>\n",
       "      <td>0.0</td>\n",
       "      <td>0.0</td>\n",
       "      <td>0.0</td>\n",
       "      <td>0.0</td>\n",
       "      <td>6.50</td>\n",
       "      <td>251.21</td>\n",
       "      <td>0.5</td>\n",
       "      <td>0.0</td>\n",
       "    </tr>\n",
       "    <tr>\n",
       "      <th>579</th>\n",
       "      <td>03/01/2004</td>\n",
       "      <td>0.0</td>\n",
       "      <td>0.0</td>\n",
       "      <td>0.0</td>\n",
       "      <td>0.0</td>\n",
       "      <td>0.0</td>\n",
       "      <td>4.45</td>\n",
       "      <td>251.28</td>\n",
       "      <td>0.5</td>\n",
       "      <td>0.0</td>\n",
       "    </tr>\n",
       "    <tr>\n",
       "      <th>580</th>\n",
       "      <td>04/01/2004</td>\n",
       "      <td>0.0</td>\n",
       "      <td>0.0</td>\n",
       "      <td>0.0</td>\n",
       "      <td>0.0</td>\n",
       "      <td>0.0</td>\n",
       "      <td>2.00</td>\n",
       "      <td>251.35</td>\n",
       "      <td>0.5</td>\n",
       "      <td>0.0</td>\n",
       "    </tr>\n",
       "    <tr>\n",
       "      <th>581</th>\n",
       "      <td>05/01/2004</td>\n",
       "      <td>0.2</td>\n",
       "      <td>0.0</td>\n",
       "      <td>0.0</td>\n",
       "      <td>0.0</td>\n",
       "      <td>0.0</td>\n",
       "      <td>0.90</td>\n",
       "      <td>251.37</td>\n",
       "      <td>0.5</td>\n",
       "      <td>0.2</td>\n",
       "    </tr>\n",
       "    <tr>\n",
       "      <th>582</th>\n",
       "      <td>06/01/2004</td>\n",
       "      <td>0.0</td>\n",
       "      <td>0.0</td>\n",
       "      <td>0.0</td>\n",
       "      <td>0.0</td>\n",
       "      <td>0.0</td>\n",
       "      <td>2.25</td>\n",
       "      <td>251.42</td>\n",
       "      <td>0.5</td>\n",
       "      <td>0.0</td>\n",
       "    </tr>\n",
       "    <tr>\n",
       "      <th>...</th>\n",
       "      <td>...</td>\n",
       "      <td>...</td>\n",
       "      <td>...</td>\n",
       "      <td>...</td>\n",
       "      <td>...</td>\n",
       "      <td>...</td>\n",
       "      <td>...</td>\n",
       "      <td>...</td>\n",
       "      <td>...</td>\n",
       "      <td>...</td>\n",
       "    </tr>\n",
       "    <tr>\n",
       "      <th>6598</th>\n",
       "      <td>26/06/2020</td>\n",
       "      <td>0.0</td>\n",
       "      <td>0.0</td>\n",
       "      <td>0.0</td>\n",
       "      <td>0.0</td>\n",
       "      <td>0.0</td>\n",
       "      <td>22.50</td>\n",
       "      <td>250.85</td>\n",
       "      <td>0.6</td>\n",
       "      <td>0.0</td>\n",
       "    </tr>\n",
       "    <tr>\n",
       "      <th>6599</th>\n",
       "      <td>27/06/2020</td>\n",
       "      <td>0.0</td>\n",
       "      <td>0.0</td>\n",
       "      <td>0.0</td>\n",
       "      <td>0.0</td>\n",
       "      <td>0.0</td>\n",
       "      <td>23.40</td>\n",
       "      <td>250.84</td>\n",
       "      <td>0.6</td>\n",
       "      <td>0.0</td>\n",
       "    </tr>\n",
       "    <tr>\n",
       "      <th>6600</th>\n",
       "      <td>28/06/2020</td>\n",
       "      <td>0.0</td>\n",
       "      <td>0.0</td>\n",
       "      <td>0.0</td>\n",
       "      <td>0.0</td>\n",
       "      <td>0.0</td>\n",
       "      <td>21.50</td>\n",
       "      <td>250.83</td>\n",
       "      <td>0.6</td>\n",
       "      <td>0.0</td>\n",
       "    </tr>\n",
       "    <tr>\n",
       "      <th>6601</th>\n",
       "      <td>29/06/2020</td>\n",
       "      <td>0.0</td>\n",
       "      <td>0.0</td>\n",
       "      <td>0.0</td>\n",
       "      <td>0.0</td>\n",
       "      <td>0.0</td>\n",
       "      <td>23.20</td>\n",
       "      <td>250.82</td>\n",
       "      <td>0.6</td>\n",
       "      <td>0.0</td>\n",
       "    </tr>\n",
       "    <tr>\n",
       "      <th>6602</th>\n",
       "      <td>30/06/2020</td>\n",
       "      <td>0.0</td>\n",
       "      <td>0.0</td>\n",
       "      <td>0.0</td>\n",
       "      <td>0.0</td>\n",
       "      <td>0.0</td>\n",
       "      <td>22.75</td>\n",
       "      <td>250.80</td>\n",
       "      <td>0.6</td>\n",
       "      <td>0.0</td>\n",
       "    </tr>\n",
       "  </tbody>\n",
       "</table>\n",
       "<p>6025 rows × 10 columns</p>\n",
       "</div>"
      ],
      "text/plain": [
       "            Date  Rainfall_S_Piero  Rainfall_Mangona  Rainfall_S_Agata  \\\n",
       "578   02/01/2004               0.0               0.0               0.0   \n",
       "579   03/01/2004               0.0               0.0               0.0   \n",
       "580   04/01/2004               0.0               0.0               0.0   \n",
       "581   05/01/2004               0.2               0.0               0.0   \n",
       "582   06/01/2004               0.0               0.0               0.0   \n",
       "...          ...               ...               ...               ...   \n",
       "6598  26/06/2020               0.0               0.0               0.0   \n",
       "6599  27/06/2020               0.0               0.0               0.0   \n",
       "6600  28/06/2020               0.0               0.0               0.0   \n",
       "6601  29/06/2020               0.0               0.0               0.0   \n",
       "6602  30/06/2020               0.0               0.0               0.0   \n",
       "\n",
       "      Rainfall_Cavallina  Rainfall_Le_Croci  Temperature_Le_Croci  Lake_Level  \\\n",
       "578                  0.0                0.0                  6.50      251.21   \n",
       "579                  0.0                0.0                  4.45      251.28   \n",
       "580                  0.0                0.0                  2.00      251.35   \n",
       "581                  0.0                0.0                  0.90      251.37   \n",
       "582                  0.0                0.0                  2.25      251.42   \n",
       "...                  ...                ...                   ...         ...   \n",
       "6598                 0.0                0.0                 22.50      250.85   \n",
       "6599                 0.0                0.0                 23.40      250.84   \n",
       "6600                 0.0                0.0                 21.50      250.83   \n",
       "6601                 0.0                0.0                 23.20      250.82   \n",
       "6602                 0.0                0.0                 22.75      250.80   \n",
       "\n",
       "      Flow_Rate  totalRainfall  \n",
       "578         0.5            0.0  \n",
       "579         0.5            0.0  \n",
       "580         0.5            0.0  \n",
       "581         0.5            0.2  \n",
       "582         0.5            0.0  \n",
       "...         ...            ...  \n",
       "6598        0.6            0.0  \n",
       "6599        0.6            0.0  \n",
       "6600        0.6            0.0  \n",
       "6601        0.6            0.0  \n",
       "6602        0.6            0.0  \n",
       "\n",
       "[6025 rows x 10 columns]"
      ]
     },
     "execution_count": 94,
     "metadata": {},
     "output_type": "execute_result"
    }
   ],
   "source": [
    "LakeData=LakeData.dropna()\n",
    "LakeData['totalRainfall']=LakeData.Rainfall_S_Piero+LakeData.Rainfall_Mangona+LakeData.Rainfall_S_Agata+LakeData.Rainfall_Cavallina+LakeData.Rainfall_Le_Croci\n",
    "LakeData"
   ]
  },
  {
   "cell_type": "code",
   "execution_count": 95,
   "metadata": {},
   "outputs": [
    {
     "data": {
      "text/plain": [
       "<AxesSubplot:title={'center':'Average Amount of Rain in Each Area'}>"
      ]
     },
     "execution_count": 95,
     "metadata": {},
     "output_type": "execute_result"
    },
    {
     "data": {
      "image/png": "[encoded data removed]",
      "text/plain": [
       "<Figure size 432x288 with 1 Axes>"
      ]
     },
     "metadata": {
      "needs_background": "light"
     },
     "output_type": "display_data"
    }
   ],
   "source": [
    "Rain = LakeData.drop(columns = ['Temperature_Le_Croci','Lake_Level','Flow_Rate','totalRainfall','Date']).mean().plot(kind = 'bar', title = 'Average Amount of Rain in Each Area')\n",
    "Rain"
   ]
  },
  {
   "cell_type": "code",
   "execution_count": 96,
   "metadata": {},
   "outputs": [
    {
     "data": {
      "text/plain": [
       "Rainfall_S_Piero          2.471635\n",
       "Rainfall_Mangona          3.341212\n",
       "Rainfall_S_Agata          2.670440\n",
       "Rainfall_Cavallina        2.675187\n",
       "Rainfall_Le_Croci         3.130390\n",
       "Temperature_Le_Croci     14.530141\n",
       "Lake_Level              249.553472\n",
       "Flow_Rate                 2.778204\n",
       "totalRainfall            14.288863\n",
       "dtype: float64"
      ]
     },
     "execution_count": 96,
     "metadata": {},
     "output_type": "execute_result"
    }
   ],
   "source": [
    "Avg_Rain = LakeData.mean()\n",
    "Avg_Rain"
   ]
  },
  {
   "cell_type": "code",
   "execution_count": 97,
   "metadata": {},
   "outputs": [
    {
     "data": {
      "text/plain": [
       "2.8577728000000002"
      ]
     },
     "execution_count": 97,
     "metadata": {},
     "output_type": "execute_result"
    }
   ],
   "source": [
    "Avg = (2.471635+3.341212+2.670440+2.675187+3.130390)/5\n",
    "Avg"
   ]
  },
  {
   "cell_type": "code",
   "execution_count": 98,
   "metadata": {},
   "outputs": [
    {
     "data": {
      "text/plain": [
       "6.649935605050562"
      ]
     },
     "execution_count": 98,
     "metadata": {},
     "output_type": "execute_result"
    }
   ],
   "source": [
    "sd1 = np.std(LakeData['Rainfall_S_Piero'])\n",
    "sd1"
   ]
  },
  {
   "cell_type": "code",
   "execution_count": 99,
   "metadata": {},
   "outputs": [
    {
     "data": {
      "text/plain": [
       "-4.50716444492844"
      ]
     },
     "execution_count": 99,
     "metadata": {},
     "output_type": "execute_result"
    }
   ],
   "source": [
    "z1 = (2.471635 - Avg) / (sd1/np.sqrt(6025))\n",
    "z1"
   ]
  },
  {
   "cell_type": "code",
   "execution_count": 100,
   "metadata": {},
   "outputs": [
    {
     "data": {
      "text/plain": [
       "8.903030368099541"
      ]
     },
     "execution_count": 100,
     "metadata": {},
     "output_type": "execute_result"
    }
   ],
   "source": [
    "sd2 = np.std(LakeData['Rainfall_Mangona'])\n",
    "sd2"
   ]
  },
  {
   "cell_type": "code",
   "execution_count": 101,
   "metadata": {},
   "outputs": [
    {
     "data": {
      "text/plain": [
       "4.214853979781616"
      ]
     },
     "execution_count": 101,
     "metadata": {},
     "output_type": "execute_result"
    }
   ],
   "source": [
    "z2 = (3.341212 - Avg) / (sd2/np.sqrt(6025))\n",
    "z2"
   ]
  },
  {
   "cell_type": "code",
   "execution_count": 102,
   "metadata": {},
   "outputs": [
    {
     "data": {
      "text/plain": [
       "7.166582955553385"
      ]
     },
     "execution_count": 102,
     "metadata": {},
     "output_type": "execute_result"
    }
   ],
   "source": [
    "sd3 = np.std(LakeData['Rainfall_S_Agata'])\n",
    "sd3"
   ]
  },
  {
   "cell_type": "code",
   "execution_count": 103,
   "metadata": {},
   "outputs": [
    {
     "data": {
      "text/plain": [
       "-2.0289914535113187"
      ]
     },
     "execution_count": 103,
     "metadata": {},
     "output_type": "execute_result"
    }
   ],
   "source": [
    "z3 = (2.670440 - Avg) / (sd3/np.sqrt(6025))\n",
    "z3"
   ]
  },
  {
   "cell_type": "code",
   "execution_count": 104,
   "metadata": {},
   "outputs": [
    {
     "data": {
      "text/plain": [
       "7.655768962626437"
      ]
     },
     "execution_count": 104,
     "metadata": {},
     "output_type": "execute_result"
    }
   ],
   "source": [
    "sd4 = np.std(LakeData['Rainfall_Cavallina'])\n",
    "sd4"
   ]
  },
  {
   "cell_type": "code",
   "execution_count": 107,
   "metadata": {},
   "outputs": [
    {
     "data": {
      "text/plain": [
       "-1.8512143392085685"
      ]
     },
     "execution_count": 107,
     "metadata": {},
     "output_type": "execute_result"
    }
   ],
   "source": [
    "z4 = (2.675187 - Avg) / (sd4/np.sqrt(6025))\n",
    "z4"
   ]
  },
  {
   "cell_type": "code",
   "execution_count": 108,
   "metadata": {},
   "outputs": [
    {
     "data": {
      "text/plain": [
       "8.025019440866553"
      ]
     },
     "execution_count": 108,
     "metadata": {},
     "output_type": "execute_result"
    }
   ],
   "source": [
    "sd5 = np.std(LakeData['Rainfall_Le_Croci'])\n",
    "sd5"
   ]
  },
  {
   "cell_type": "code",
   "execution_count": 109,
   "metadata": {},
   "outputs": [
    {
     "data": {
      "text/plain": [
       "2.636851579731661"
      ]
     },
     "execution_count": 109,
     "metadata": {},
     "output_type": "execute_result"
    }
   ],
   "source": [
    "z5 = (3.130390 - Avg) / (sd5/np.sqrt(6025))\n",
    "z5"
   ]
  }
 ],
 "metadata": {
  "kernelspec": {
   "display_name": "Python 3",
   "language": "python",
   "name": "python3"
  },
  "language_info": {
   "codemirror_mode": {
    "name": "ipython",
    "version": 3
   },
   "file_extension": ".py",
   "mimetype": "text/x-python",
   "name": "python",
   "nbconvert_exporter": "python",
   "pygments_lexer": "ipython3",
   "version": "3.8.5"
  }
 },
 "nbformat": 4,
 "nbformat_minor": 4
}
