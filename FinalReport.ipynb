{
 "cells": [
  {
   "cell_type": "code",
   "execution_count": 1,
   "metadata": {},
   "outputs": [],
   "source": [
    "%matplotlib inline \n",
    "import math as m\n",
    "import pandas as pd\n",
    "import numpy as np\n",
    "import matplotlib.pyplot as plt\n",
    "import seaborn as sns\n",
    "import statsmodels.api as sm\n",
    "import statsmodels.formula.api as smf\n",
    "from statsmodels.tools.sm_exceptions import ConvergenceWarning\n",
    "from scipy import stats\n",
    "from scipy.stats import kurtosis "
   ]
  },
  {
   "cell_type": "markdown",
   "metadata": {},
   "source": [
    "## 4.2 Interval all the flow rates and categorize 0-25%,25%-50%,50%-75%,75%-100%, and group all the data annually to see if there is shortage or surplus in certain years."
   ]
  },
  {
   "cell_type": "code",
   "execution_count": 2,
   "metadata": {},
   "outputs": [
    {
     "data": {
      "text/html": [
       "<div>\n",
       "<style scoped>\n",
       "    .dataframe tbody tr th:only-of-type {\n",
       "        vertical-align: middle;\n",
       "    }\n",
       "\n",
       "    .dataframe tbody tr th {\n",
       "        vertical-align: top;\n",
       "    }\n",
       "\n",
       "    .dataframe thead th {\n",
       "        text-align: right;\n",
       "    }\n",
       "</style>\n",
       "<table border=\"1\" class=\"dataframe\">\n",
       "  <thead>\n",
       "    <tr style=\"text-align: right;\">\n",
       "      <th></th>\n",
       "      <th>Date</th>\n",
       "      <th>Rainfall_S_Piero</th>\n",
       "      <th>Rainfall_Mangona</th>\n",
       "      <th>Rainfall_S_Agata</th>\n",
       "      <th>Rainfall_Cavallina</th>\n",
       "      <th>Rainfall_Le_Croci</th>\n",
       "      <th>Temperature_Le_Croci</th>\n",
       "      <th>Lake_Level</th>\n",
       "      <th>Flow_Rate</th>\n",
       "    </tr>\n",
       "  </thead>\n",
       "  <tbody>\n",
       "    <tr>\n",
       "      <th>0</th>\n",
       "      <td>03/06/2002</td>\n",
       "      <td>NaN</td>\n",
       "      <td>NaN</td>\n",
       "      <td>NaN</td>\n",
       "      <td>NaN</td>\n",
       "      <td>NaN</td>\n",
       "      <td>NaN</td>\n",
       "      <td>249.43</td>\n",
       "      <td>0.31</td>\n",
       "    </tr>\n",
       "    <tr>\n",
       "      <th>1</th>\n",
       "      <td>04/06/2002</td>\n",
       "      <td>NaN</td>\n",
       "      <td>NaN</td>\n",
       "      <td>NaN</td>\n",
       "      <td>NaN</td>\n",
       "      <td>NaN</td>\n",
       "      <td>NaN</td>\n",
       "      <td>249.43</td>\n",
       "      <td>0.31</td>\n",
       "    </tr>\n",
       "    <tr>\n",
       "      <th>2</th>\n",
       "      <td>05/06/2002</td>\n",
       "      <td>NaN</td>\n",
       "      <td>NaN</td>\n",
       "      <td>NaN</td>\n",
       "      <td>NaN</td>\n",
       "      <td>NaN</td>\n",
       "      <td>NaN</td>\n",
       "      <td>249.43</td>\n",
       "      <td>0.31</td>\n",
       "    </tr>\n",
       "    <tr>\n",
       "      <th>3</th>\n",
       "      <td>06/06/2002</td>\n",
       "      <td>NaN</td>\n",
       "      <td>NaN</td>\n",
       "      <td>NaN</td>\n",
       "      <td>NaN</td>\n",
       "      <td>NaN</td>\n",
       "      <td>NaN</td>\n",
       "      <td>249.43</td>\n",
       "      <td>0.31</td>\n",
       "    </tr>\n",
       "    <tr>\n",
       "      <th>4</th>\n",
       "      <td>07/06/2002</td>\n",
       "      <td>NaN</td>\n",
       "      <td>NaN</td>\n",
       "      <td>NaN</td>\n",
       "      <td>NaN</td>\n",
       "      <td>NaN</td>\n",
       "      <td>NaN</td>\n",
       "      <td>249.44</td>\n",
       "      <td>0.31</td>\n",
       "    </tr>\n",
       "    <tr>\n",
       "      <th>...</th>\n",
       "      <td>...</td>\n",
       "      <td>...</td>\n",
       "      <td>...</td>\n",
       "      <td>...</td>\n",
       "      <td>...</td>\n",
       "      <td>...</td>\n",
       "      <td>...</td>\n",
       "      <td>...</td>\n",
       "      <td>...</td>\n",
       "    </tr>\n",
       "    <tr>\n",
       "      <th>6598</th>\n",
       "      <td>26/06/2020</td>\n",
       "      <td>0.0</td>\n",
       "      <td>0.0</td>\n",
       "      <td>0.0</td>\n",
       "      <td>0.0</td>\n",
       "      <td>0.0</td>\n",
       "      <td>22.50</td>\n",
       "      <td>250.85</td>\n",
       "      <td>0.60</td>\n",
       "    </tr>\n",
       "    <tr>\n",
       "      <th>6599</th>\n",
       "      <td>27/06/2020</td>\n",
       "      <td>0.0</td>\n",
       "      <td>0.0</td>\n",
       "      <td>0.0</td>\n",
       "      <td>0.0</td>\n",
       "      <td>0.0</td>\n",
       "      <td>23.40</td>\n",
       "      <td>250.84</td>\n",
       "      <td>0.60</td>\n",
       "    </tr>\n",
       "    <tr>\n",
       "      <th>6600</th>\n",
       "      <td>28/06/2020</td>\n",
       "      <td>0.0</td>\n",
       "      <td>0.0</td>\n",
       "      <td>0.0</td>\n",
       "      <td>0.0</td>\n",
       "      <td>0.0</td>\n",
       "      <td>21.50</td>\n",
       "      <td>250.83</td>\n",
       "      <td>0.60</td>\n",
       "    </tr>\n",
       "    <tr>\n",
       "      <th>6601</th>\n",
       "      <td>29/06/2020</td>\n",
       "      <td>0.0</td>\n",
       "      <td>0.0</td>\n",
       "      <td>0.0</td>\n",
       "      <td>0.0</td>\n",
       "      <td>0.0</td>\n",
       "      <td>23.20</td>\n",
       "      <td>250.82</td>\n",
       "      <td>0.60</td>\n",
       "    </tr>\n",
       "    <tr>\n",
       "      <th>6602</th>\n",
       "      <td>30/06/2020</td>\n",
       "      <td>0.0</td>\n",
       "      <td>0.0</td>\n",
       "      <td>0.0</td>\n",
       "      <td>0.0</td>\n",
       "      <td>0.0</td>\n",
       "      <td>22.75</td>\n",
       "      <td>250.80</td>\n",
       "      <td>0.60</td>\n",
       "    </tr>\n",
       "  </tbody>\n",
       "</table>\n",
       "<p>6603 rows × 9 columns</p>\n",
       "</div>"
      ],
      "text/plain": [
       "            Date  Rainfall_S_Piero  Rainfall_Mangona  Rainfall_S_Agata  \\\n",
       "0     03/06/2002               NaN               NaN               NaN   \n",
       "1     04/06/2002               NaN               NaN               NaN   \n",
       "2     05/06/2002               NaN               NaN               NaN   \n",
       "3     06/06/2002               NaN               NaN               NaN   \n",
       "4     07/06/2002               NaN               NaN               NaN   \n",
       "...          ...               ...               ...               ...   \n",
       "6598  26/06/2020               0.0               0.0               0.0   \n",
       "6599  27/06/2020               0.0               0.0               0.0   \n",
       "6600  28/06/2020               0.0               0.0               0.0   \n",
       "6601  29/06/2020               0.0               0.0               0.0   \n",
       "6602  30/06/2020               0.0               0.0               0.0   \n",
       "\n",
       "      Rainfall_Cavallina  Rainfall_Le_Croci  Temperature_Le_Croci  Lake_Level  \\\n",
       "0                    NaN                NaN                   NaN      249.43   \n",
       "1                    NaN                NaN                   NaN      249.43   \n",
       "2                    NaN                NaN                   NaN      249.43   \n",
       "3                    NaN                NaN                   NaN      249.43   \n",
       "4                    NaN                NaN                   NaN      249.44   \n",
       "...                  ...                ...                   ...         ...   \n",
       "6598                 0.0                0.0                 22.50      250.85   \n",
       "6599                 0.0                0.0                 23.40      250.84   \n",
       "6600                 0.0                0.0                 21.50      250.83   \n",
       "6601                 0.0                0.0                 23.20      250.82   \n",
       "6602                 0.0                0.0                 22.75      250.80   \n",
       "\n",
       "      Flow_Rate  \n",
       "0          0.31  \n",
       "1          0.31  \n",
       "2          0.31  \n",
       "3          0.31  \n",
       "4          0.31  \n",
       "...         ...  \n",
       "6598       0.60  \n",
       "6599       0.60  \n",
       "6600       0.60  \n",
       "6601       0.60  \n",
       "6602       0.60  \n",
       "\n",
       "[6603 rows x 9 columns]"
      ]
     },
     "execution_count": 2,
     "metadata": {},
     "output_type": "execute_result"
    }
   ],
   "source": [
    "LakeData=pd.read_csv('Lake_Bilancino.csv')\n",
    "LakeData"
   ]
  },
  {
   "cell_type": "code",
   "execution_count": 3,
   "metadata": {
    "scrolled": true
   },
   "outputs": [
    {
     "name": "stderr",
     "output_type": "stream",
     "text": [
      "<ipython-input-3-022f43b6541c>:2: SettingWithCopyWarning: \n",
      "A value is trying to be set on a copy of a slice from a DataFrame.\n",
      "Try using .loc[row_indexer,col_indexer] = value instead\n",
      "\n",
      "See the caveats in the documentation: https://pandas.pydata.org/pandas-docs/stable/user_guide/indexing.html#returning-a-view-versus-a-copy\n",
      "  LakeData['totalRainfall']=LakeData.Rainfall_S_Piero+LakeData.Rainfall_Mangona+LakeData.Rainfall_S_Agata+LakeData.Rainfall_Cavallina+LakeData.Rainfall_Le_Croci\n"
     ]
    },
    {
     "data": {
      "text/html": [
       "<div>\n",
       "<style scoped>\n",
       "    .dataframe tbody tr th:only-of-type {\n",
       "        vertical-align: middle;\n",
       "    }\n",
       "\n",
       "    .dataframe tbody tr th {\n",
       "        vertical-align: top;\n",
       "    }\n",
       "\n",
       "    .dataframe thead th {\n",
       "        text-align: right;\n",
       "    }\n",
       "</style>\n",
       "<table border=\"1\" class=\"dataframe\">\n",
       "  <thead>\n",
       "    <tr style=\"text-align: right;\">\n",
       "      <th></th>\n",
       "      <th>Date</th>\n",
       "      <th>Rainfall_S_Piero</th>\n",
       "      <th>Rainfall_Mangona</th>\n",
       "      <th>Rainfall_S_Agata</th>\n",
       "      <th>Rainfall_Cavallina</th>\n",
       "      <th>Rainfall_Le_Croci</th>\n",
       "      <th>Temperature_Le_Croci</th>\n",
       "      <th>Lake_Level</th>\n",
       "      <th>Flow_Rate</th>\n",
       "      <th>totalRainfall</th>\n",
       "    </tr>\n",
       "  </thead>\n",
       "  <tbody>\n",
       "    <tr>\n",
       "      <th>578</th>\n",
       "      <td>02/01/2004</td>\n",
       "      <td>0.0</td>\n",
       "      <td>0.0</td>\n",
       "      <td>0.0</td>\n",
       "      <td>0.0</td>\n",
       "      <td>0.0</td>\n",
       "      <td>6.50</td>\n",
       "      <td>251.21</td>\n",
       "      <td>0.5</td>\n",
       "      <td>0.0</td>\n",
       "    </tr>\n",
       "    <tr>\n",
       "      <th>579</th>\n",
       "      <td>03/01/2004</td>\n",
       "      <td>0.0</td>\n",
       "      <td>0.0</td>\n",
       "      <td>0.0</td>\n",
       "      <td>0.0</td>\n",
       "      <td>0.0</td>\n",
       "      <td>4.45</td>\n",
       "      <td>251.28</td>\n",
       "      <td>0.5</td>\n",
       "      <td>0.0</td>\n",
       "    </tr>\n",
       "    <tr>\n",
       "      <th>580</th>\n",
       "      <td>04/01/2004</td>\n",
       "      <td>0.0</td>\n",
       "      <td>0.0</td>\n",
       "      <td>0.0</td>\n",
       "      <td>0.0</td>\n",
       "      <td>0.0</td>\n",
       "      <td>2.00</td>\n",
       "      <td>251.35</td>\n",
       "      <td>0.5</td>\n",
       "      <td>0.0</td>\n",
       "    </tr>\n",
       "    <tr>\n",
       "      <th>581</th>\n",
       "      <td>05/01/2004</td>\n",
       "      <td>0.2</td>\n",
       "      <td>0.0</td>\n",
       "      <td>0.0</td>\n",
       "      <td>0.0</td>\n",
       "      <td>0.0</td>\n",
       "      <td>0.90</td>\n",
       "      <td>251.37</td>\n",
       "      <td>0.5</td>\n",
       "      <td>0.2</td>\n",
       "    </tr>\n",
       "    <tr>\n",
       "      <th>582</th>\n",
       "      <td>06/01/2004</td>\n",
       "      <td>0.0</td>\n",
       "      <td>0.0</td>\n",
       "      <td>0.0</td>\n",
       "      <td>0.0</td>\n",
       "      <td>0.0</td>\n",
       "      <td>2.25</td>\n",
       "      <td>251.42</td>\n",
       "      <td>0.5</td>\n",
       "      <td>0.0</td>\n",
       "    </tr>\n",
       "    <tr>\n",
       "      <th>...</th>\n",
       "      <td>...</td>\n",
       "      <td>...</td>\n",
       "      <td>...</td>\n",
       "      <td>...</td>\n",
       "      <td>...</td>\n",
       "      <td>...</td>\n",
       "      <td>...</td>\n",
       "      <td>...</td>\n",
       "      <td>...</td>\n",
       "      <td>...</td>\n",
       "    </tr>\n",
       "    <tr>\n",
       "      <th>6598</th>\n",
       "      <td>26/06/2020</td>\n",
       "      <td>0.0</td>\n",
       "      <td>0.0</td>\n",
       "      <td>0.0</td>\n",
       "      <td>0.0</td>\n",
       "      <td>0.0</td>\n",
       "      <td>22.50</td>\n",
       "      <td>250.85</td>\n",
       "      <td>0.6</td>\n",
       "      <td>0.0</td>\n",
       "    </tr>\n",
       "    <tr>\n",
       "      <th>6599</th>\n",
       "      <td>27/06/2020</td>\n",
       "      <td>0.0</td>\n",
       "      <td>0.0</td>\n",
       "      <td>0.0</td>\n",
       "      <td>0.0</td>\n",
       "      <td>0.0</td>\n",
       "      <td>23.40</td>\n",
       "      <td>250.84</td>\n",
       "      <td>0.6</td>\n",
       "      <td>0.0</td>\n",
       "    </tr>\n",
       "    <tr>\n",
       "      <th>6600</th>\n",
       "      <td>28/06/2020</td>\n",
       "      <td>0.0</td>\n",
       "      <td>0.0</td>\n",
       "      <td>0.0</td>\n",
       "      <td>0.0</td>\n",
       "      <td>0.0</td>\n",
       "      <td>21.50</td>\n",
       "      <td>250.83</td>\n",
       "      <td>0.6</td>\n",
       "      <td>0.0</td>\n",
       "    </tr>\n",
       "    <tr>\n",
       "      <th>6601</th>\n",
       "      <td>29/06/2020</td>\n",
       "      <td>0.0</td>\n",
       "      <td>0.0</td>\n",
       "      <td>0.0</td>\n",
       "      <td>0.0</td>\n",
       "      <td>0.0</td>\n",
       "      <td>23.20</td>\n",
       "      <td>250.82</td>\n",
       "      <td>0.6</td>\n",
       "      <td>0.0</td>\n",
       "    </tr>\n",
       "    <tr>\n",
       "      <th>6602</th>\n",
       "      <td>30/06/2020</td>\n",
       "      <td>0.0</td>\n",
       "      <td>0.0</td>\n",
       "      <td>0.0</td>\n",
       "      <td>0.0</td>\n",
       "      <td>0.0</td>\n",
       "      <td>22.75</td>\n",
       "      <td>250.80</td>\n",
       "      <td>0.6</td>\n",
       "      <td>0.0</td>\n",
       "    </tr>\n",
       "  </tbody>\n",
       "</table>\n",
       "<p>6025 rows × 10 columns</p>\n",
       "</div>"
      ],
      "text/plain": [
       "            Date  Rainfall_S_Piero  Rainfall_Mangona  Rainfall_S_Agata  \\\n",
       "578   02/01/2004               0.0               0.0               0.0   \n",
       "579   03/01/2004               0.0               0.0               0.0   \n",
       "580   04/01/2004               0.0               0.0               0.0   \n",
       "581   05/01/2004               0.2               0.0               0.0   \n",
       "582   06/01/2004               0.0               0.0               0.0   \n",
       "...          ...               ...               ...               ...   \n",
       "6598  26/06/2020               0.0               0.0               0.0   \n",
       "6599  27/06/2020               0.0               0.0               0.0   \n",
       "6600  28/06/2020               0.0               0.0               0.0   \n",
       "6601  29/06/2020               0.0               0.0               0.0   \n",
       "6602  30/06/2020               0.0               0.0               0.0   \n",
       "\n",
       "      Rainfall_Cavallina  Rainfall_Le_Croci  Temperature_Le_Croci  Lake_Level  \\\n",
       "578                  0.0                0.0                  6.50      251.21   \n",
       "579                  0.0                0.0                  4.45      251.28   \n",
       "580                  0.0                0.0                  2.00      251.35   \n",
       "581                  0.0                0.0                  0.90      251.37   \n",
       "582                  0.0                0.0                  2.25      251.42   \n",
       "...                  ...                ...                   ...         ...   \n",
       "6598                 0.0                0.0                 22.50      250.85   \n",
       "6599                 0.0                0.0                 23.40      250.84   \n",
       "6600                 0.0                0.0                 21.50      250.83   \n",
       "6601                 0.0                0.0                 23.20      250.82   \n",
       "6602                 0.0                0.0                 22.75      250.80   \n",
       "\n",
       "      Flow_Rate  totalRainfall  \n",
       "578         0.5            0.0  \n",
       "579         0.5            0.0  \n",
       "580         0.5            0.0  \n",
       "581         0.5            0.2  \n",
       "582         0.5            0.0  \n",
       "...         ...            ...  \n",
       "6598        0.6            0.0  \n",
       "6599        0.6            0.0  \n",
       "6600        0.6            0.0  \n",
       "6601        0.6            0.0  \n",
       "6602        0.6            0.0  \n",
       "\n",
       "[6025 rows x 10 columns]"
      ]
     },
     "execution_count": 3,
     "metadata": {},
     "output_type": "execute_result"
    }
   ],
   "source": [
    "LakeData=LakeData.dropna()\n",
    "LakeData['totalRainfall']=LakeData.Rainfall_S_Piero+LakeData.Rainfall_Mangona+LakeData.Rainfall_S_Agata+LakeData.Rainfall_Cavallina+LakeData.Rainfall_Le_Croci\n",
    "LakeData"
   ]
  },
  {
   "cell_type": "code",
   "execution_count": 5,
   "metadata": {},
   "outputs": [],
   "source": [
    "# Returns descriptive statistics on any dataset and weight column.\n",
    "def descriptive_stats(dataset, weight_column):\n",
    "    col = dataset[weight_column]\n",
    "    print('Mean:', np.mean(col))\n",
    "    print('Median:', np.median(col))\n",
    "    print('Q1:', np.percentile(col, 25))\n",
    "    print('Q2:', np.percentile(col, 50))\n",
    "    print('Q3:', np.percentile(col, 75))\n",
    "    print('Q4:', np.percentile(col, 100))\n",
    "    print('Inter-Quartile Range:', np.percentile(col, 75) - np.percentile(col, 25))\n",
    "    print('Standard Deviation:', np.std(col))\n",
    "    print('Variance:', np.var(col))\n",
    "    print('Range:', np.max(col) - np.min(col))\n",
    "    print('-----------------------------------------')"
   ]
  },
  {
   "cell_type": "code",
   "execution_count": 6,
   "metadata": {},
   "outputs": [
    {
     "data": {
      "text/plain": [
       "<AxesSubplot:title={'center':'Histogram of All Lake_Level'}, ylabel='Frequency'>"
      ]
     },
     "execution_count": 6,
     "metadata": {},
     "output_type": "execute_result"
    },
    {
     "data": {
      "image/png": "[encoded data removed]",
      "text/plain": [
       "<Figure size 432x288 with 1 Axes>"
      ]
     },
     "metadata": {
      "needs_background": "light"
     },
     "output_type": "display_data"
    }
   ],
   "source": [
    "LakeData['Lake_Level'].plot(kind='hist',bins=50, title='Histogram of All Lake_Level')"
   ]
  },
  {
   "cell_type": "code",
   "execution_count": 7,
   "metadata": {},
   "outputs": [
    {
     "name": "stdout",
     "output_type": "stream",
     "text": [
      "Mean: 249.5534721991694\n",
      "Median: 250.24\n",
      "Q1: 247.93\n",
      "Q2: 250.24\n",
      "Q3: 251.37\n",
      "Q4: 252.76\n",
      "Inter-Quartile Range: 3.4399999999999977\n",
      "Standard Deviation: 2.183152760808995\n",
      "Variance: 4.766155977027938\n",
      "Range: 9.22999999999999\n",
      "-----------------------------------------\n"
     ]
    }
   ],
   "source": [
    "descriptive_stats(LakeData,'Lake_Level')"
   ]
  },
  {
   "cell_type": "code",
   "execution_count": 8,
   "metadata": {},
   "outputs": [
    {
     "data": {
      "text/plain": [
       "<AxesSubplot:title={'center':'Histogram of All Flow_Rate'}, ylabel='Frequency'>"
      ]
     },
     "execution_count": 8,
     "metadata": {},
     "output_type": "execute_result"
    },
    {
     "data": {
      "image/png": "[encoded data removed]",
      "text/plain": [
       "<Figure size 432x288 with 1 Axes>"
      ]
     },
     "metadata": {
      "needs_background": "light"
     },
     "output_type": "display_data"
    }
   ],
   "source": [
    "LakeData['Flow_Rate'].plot(kind='hist',bins=150, title='Histogram of All Flow_Rate',xlabel='flow rate')"
   ]
  },
  {
   "cell_type": "code",
   "execution_count": 9,
   "metadata": {},
   "outputs": [
    {
     "name": "stdout",
     "output_type": "stream",
     "text": [
      "Mean: 2.7782041493776783\n",
      "Median: 1.5\n",
      "Q1: 0.6\n",
      "Q2: 1.5\n",
      "Q3: 3.0\n",
      "Q4: 74.65\n",
      "Inter-Quartile Range: 2.4\n",
      "Standard Deviation: 4.130833602567077\n",
      "Variance: 17.063786252097298\n",
      "Range: 74.2\n",
      "-----------------------------------------\n"
     ]
    }
   ],
   "source": [
    "descriptive_stats(LakeData,'Flow_Rate')"
   ]
  },
  {
   "cell_type": "code",
   "execution_count": 10,
   "metadata": {},
   "outputs": [
    {
     "data": {
      "text/plain": [
       "249.5534721991694"
      ]
     },
     "execution_count": 10,
     "metadata": {},
     "output_type": "execute_result"
    }
   ],
   "source": [
    "avg_Lake_Level=np.mean(LakeData['Lake_Level'])\n",
    "avg_Lake_Level"
   ]
  },
  {
   "cell_type": "code",
   "execution_count": 11,
   "metadata": {
    "scrolled": true
   },
   "outputs": [
    {
     "data": {
      "text/plain": [
       "2.7782041493776783"
      ]
     },
     "execution_count": 11,
     "metadata": {},
     "output_type": "execute_result"
    }
   ],
   "source": [
    "avg_Flow_Rate=np.mean(LakeData['Flow_Rate'])\n",
    "avg_Flow_Rate"
   ]
  },
  {
   "cell_type": "code",
   "execution_count": 12,
   "metadata": {},
   "outputs": [
    {
     "data": {
      "text/plain": [
       "60.385903015041045"
      ]
     },
     "execution_count": 12,
     "metadata": {},
     "output_type": "execute_result"
    }
   ],
   "source": [
    "kurtosis(LakeData['Flow_Rate'],fisher=True)"
   ]
  },
  {
   "cell_type": "code",
   "execution_count": 13,
   "metadata": {},
   "outputs": [],
   "source": [
    "num_NRain=0\n",
    "sum_Flow_Rate_NRain=0"
   ]
  },
  {
   "cell_type": "code",
   "execution_count": 14,
   "metadata": {},
   "outputs": [],
   "source": [
    "for x,y in zip(LakeData['totalRainfall'],LakeData['Flow_Rate']):\n",
    "    if(x==0):\n",
    "        num_NRain+=1\n",
    "        sum_Flow_Rate_NRain+=y\n",
    "        "
   ]
  },
  {
   "cell_type": "code",
   "execution_count": 15,
   "metadata": {},
   "outputs": [
    {
     "data": {
      "text/plain": [
       "2.2328916470983247"
      ]
     },
     "execution_count": 15,
     "metadata": {},
     "output_type": "execute_result"
    }
   ],
   "source": [
    "sum_Flow_Rate_NRain\n",
    "num_NRain\n",
    "avg_Flow_Rate_NRain= sum_Flow_Rate_NRain/num_NRain\n",
    "avg_Flow_Rate_NRain"
   ]
  },
  {
   "cell_type": "code",
   "execution_count": 16,
   "metadata": {
    "scrolled": true
   },
   "outputs": [
    {
     "name": "stderr",
     "output_type": "stream",
     "text": [
      "<ipython-input-16-42c075d3b44a>:1: SettingWithCopyWarning: \n",
      "A value is trying to be set on a copy of a slice from a DataFrame.\n",
      "Try using .loc[row_indexer,col_indexer] = value instead\n",
      "\n",
      "See the caveats in the documentation: https://pandas.pydata.org/pandas-docs/stable/user_guide/indexing.html#returning-a-view-versus-a-copy\n",
      "  LakeData['dflowRate']=LakeData['Flow_Rate']-avg_Flow_Rate_NRain\n",
      "<ipython-input-16-42c075d3b44a>:2: SettingWithCopyWarning: \n",
      "A value is trying to be set on a copy of a slice from a DataFrame.\n",
      "Try using .loc[row_indexer,col_indexer] = value instead\n",
      "\n",
      "See the caveats in the documentation: https://pandas.pydata.org/pandas-docs/stable/user_guide/indexing.html#returning-a-view-versus-a-copy\n",
      "  LakeData[\"Date\"] = pd.to_datetime(LakeData[\"Date\"])\n",
      "<ipython-input-16-42c075d3b44a>:3: SettingWithCopyWarning: \n",
      "A value is trying to be set on a copy of a slice from a DataFrame.\n",
      "Try using .loc[row_indexer,col_indexer] = value instead\n",
      "\n",
      "See the caveats in the documentation: https://pandas.pydata.org/pandas-docs/stable/user_guide/indexing.html#returning-a-view-versus-a-copy\n",
      "  LakeData[\"Year\"] = pd.DatetimeIndex(LakeData[\"Date\"]).year\n"
     ]
    },
    {
     "data": {
      "text/html": [
       "<div>\n",
       "<style scoped>\n",
       "    .dataframe tbody tr th:only-of-type {\n",
       "        vertical-align: middle;\n",
       "    }\n",
       "\n",
       "    .dataframe tbody tr th {\n",
       "        vertical-align: top;\n",
       "    }\n",
       "\n",
       "    .dataframe thead th {\n",
       "        text-align: right;\n",
       "    }\n",
       "</style>\n",
       "<table border=\"1\" class=\"dataframe\">\n",
       "  <thead>\n",
       "    <tr style=\"text-align: right;\">\n",
       "      <th></th>\n",
       "      <th>Date</th>\n",
       "      <th>Rainfall_S_Piero</th>\n",
       "      <th>Rainfall_Mangona</th>\n",
       "      <th>Rainfall_S_Agata</th>\n",
       "      <th>Rainfall_Cavallina</th>\n",
       "      <th>Rainfall_Le_Croci</th>\n",
       "      <th>Temperature_Le_Croci</th>\n",
       "      <th>Lake_Level</th>\n",
       "      <th>Flow_Rate</th>\n",
       "      <th>totalRainfall</th>\n",
       "      <th>dflowRate</th>\n",
       "      <th>Year</th>\n",
       "    </tr>\n",
       "  </thead>\n",
       "  <tbody>\n",
       "    <tr>\n",
       "      <th>578</th>\n",
       "      <td>2004-02-01</td>\n",
       "      <td>0.0</td>\n",
       "      <td>0.0</td>\n",
       "      <td>0.0</td>\n",
       "      <td>0.0</td>\n",
       "      <td>0.0</td>\n",
       "      <td>6.50</td>\n",
       "      <td>251.21</td>\n",
       "      <td>0.5</td>\n",
       "      <td>0.0</td>\n",
       "      <td>-1.732892</td>\n",
       "      <td>2004</td>\n",
       "    </tr>\n",
       "    <tr>\n",
       "      <th>579</th>\n",
       "      <td>2004-03-01</td>\n",
       "      <td>0.0</td>\n",
       "      <td>0.0</td>\n",
       "      <td>0.0</td>\n",
       "      <td>0.0</td>\n",
       "      <td>0.0</td>\n",
       "      <td>4.45</td>\n",
       "      <td>251.28</td>\n",
       "      <td>0.5</td>\n",
       "      <td>0.0</td>\n",
       "      <td>-1.732892</td>\n",
       "      <td>2004</td>\n",
       "    </tr>\n",
       "    <tr>\n",
       "      <th>580</th>\n",
       "      <td>2004-04-01</td>\n",
       "      <td>0.0</td>\n",
       "      <td>0.0</td>\n",
       "      <td>0.0</td>\n",
       "      <td>0.0</td>\n",
       "      <td>0.0</td>\n",
       "      <td>2.00</td>\n",
       "      <td>251.35</td>\n",
       "      <td>0.5</td>\n",
       "      <td>0.0</td>\n",
       "      <td>-1.732892</td>\n",
       "      <td>2004</td>\n",
       "    </tr>\n",
       "    <tr>\n",
       "      <th>581</th>\n",
       "      <td>2004-05-01</td>\n",
       "      <td>0.2</td>\n",
       "      <td>0.0</td>\n",
       "      <td>0.0</td>\n",
       "      <td>0.0</td>\n",
       "      <td>0.0</td>\n",
       "      <td>0.90</td>\n",
       "      <td>251.37</td>\n",
       "      <td>0.5</td>\n",
       "      <td>0.2</td>\n",
       "      <td>-1.732892</td>\n",
       "      <td>2004</td>\n",
       "    </tr>\n",
       "    <tr>\n",
       "      <th>582</th>\n",
       "      <td>2004-06-01</td>\n",
       "      <td>0.0</td>\n",
       "      <td>0.0</td>\n",
       "      <td>0.0</td>\n",
       "      <td>0.0</td>\n",
       "      <td>0.0</td>\n",
       "      <td>2.25</td>\n",
       "      <td>251.42</td>\n",
       "      <td>0.5</td>\n",
       "      <td>0.0</td>\n",
       "      <td>-1.732892</td>\n",
       "      <td>2004</td>\n",
       "    </tr>\n",
       "    <tr>\n",
       "      <th>...</th>\n",
       "      <td>...</td>\n",
       "      <td>...</td>\n",
       "      <td>...</td>\n",
       "      <td>...</td>\n",
       "      <td>...</td>\n",
       "      <td>...</td>\n",
       "      <td>...</td>\n",
       "      <td>...</td>\n",
       "      <td>...</td>\n",
       "      <td>...</td>\n",
       "      <td>...</td>\n",
       "      <td>...</td>\n",
       "    </tr>\n",
       "    <tr>\n",
       "      <th>6598</th>\n",
       "      <td>2020-06-26</td>\n",
       "      <td>0.0</td>\n",
       "      <td>0.0</td>\n",
       "      <td>0.0</td>\n",
       "      <td>0.0</td>\n",
       "      <td>0.0</td>\n",
       "      <td>22.50</td>\n",
       "      <td>250.85</td>\n",
       "      <td>0.6</td>\n",
       "      <td>0.0</td>\n",
       "      <td>-1.632892</td>\n",
       "      <td>2020</td>\n",
       "    </tr>\n",
       "    <tr>\n",
       "      <th>6599</th>\n",
       "      <td>2020-06-27</td>\n",
       "      <td>0.0</td>\n",
       "      <td>0.0</td>\n",
       "      <td>0.0</td>\n",
       "      <td>0.0</td>\n",
       "      <td>0.0</td>\n",
       "      <td>23.40</td>\n",
       "      <td>250.84</td>\n",
       "      <td>0.6</td>\n",
       "      <td>0.0</td>\n",
       "      <td>-1.632892</td>\n",
       "      <td>2020</td>\n",
       "    </tr>\n",
       "    <tr>\n",
       "      <th>6600</th>\n",
       "      <td>2020-06-28</td>\n",
       "      <td>0.0</td>\n",
       "      <td>0.0</td>\n",
       "      <td>0.0</td>\n",
       "      <td>0.0</td>\n",
       "      <td>0.0</td>\n",
       "      <td>21.50</td>\n",
       "      <td>250.83</td>\n",
       "      <td>0.6</td>\n",
       "      <td>0.0</td>\n",
       "      <td>-1.632892</td>\n",
       "      <td>2020</td>\n",
       "    </tr>\n",
       "    <tr>\n",
       "      <th>6601</th>\n",
       "      <td>2020-06-29</td>\n",
       "      <td>0.0</td>\n",
       "      <td>0.0</td>\n",
       "      <td>0.0</td>\n",
       "      <td>0.0</td>\n",
       "      <td>0.0</td>\n",
       "      <td>23.20</td>\n",
       "      <td>250.82</td>\n",
       "      <td>0.6</td>\n",
       "      <td>0.0</td>\n",
       "      <td>-1.632892</td>\n",
       "      <td>2020</td>\n",
       "    </tr>\n",
       "    <tr>\n",
       "      <th>6602</th>\n",
       "      <td>2020-06-30</td>\n",
       "      <td>0.0</td>\n",
       "      <td>0.0</td>\n",
       "      <td>0.0</td>\n",
       "      <td>0.0</td>\n",
       "      <td>0.0</td>\n",
       "      <td>22.75</td>\n",
       "      <td>250.80</td>\n",
       "      <td>0.6</td>\n",
       "      <td>0.0</td>\n",
       "      <td>-1.632892</td>\n",
       "      <td>2020</td>\n",
       "    </tr>\n",
       "  </tbody>\n",
       "</table>\n",
       "<p>6025 rows × 12 columns</p>\n",
       "</div>"
      ],
      "text/plain": [
       "           Date  Rainfall_S_Piero  Rainfall_Mangona  Rainfall_S_Agata  \\\n",
       "578  2004-02-01               0.0               0.0               0.0   \n",
       "579  2004-03-01               0.0               0.0               0.0   \n",
       "580  2004-04-01               0.0               0.0               0.0   \n",
       "581  2004-05-01               0.2               0.0               0.0   \n",
       "582  2004-06-01               0.0               0.0               0.0   \n",
       "...         ...               ...               ...               ...   \n",
       "6598 2020-06-26               0.0               0.0               0.0   \n",
       "6599 2020-06-27               0.0               0.0               0.0   \n",
       "6600 2020-06-28               0.0               0.0               0.0   \n",
       "6601 2020-06-29               0.0               0.0               0.0   \n",
       "6602 2020-06-30               0.0               0.0               0.0   \n",
       "\n",
       "      Rainfall_Cavallina  Rainfall_Le_Croci  Temperature_Le_Croci  Lake_Level  \\\n",
       "578                  0.0                0.0                  6.50      251.21   \n",
       "579                  0.0                0.0                  4.45      251.28   \n",
       "580                  0.0                0.0                  2.00      251.35   \n",
       "581                  0.0                0.0                  0.90      251.37   \n",
       "582                  0.0                0.0                  2.25      251.42   \n",
       "...                  ...                ...                   ...         ...   \n",
       "6598                 0.0                0.0                 22.50      250.85   \n",
       "6599                 0.0                0.0                 23.40      250.84   \n",
       "6600                 0.0                0.0                 21.50      250.83   \n",
       "6601                 0.0                0.0                 23.20      250.82   \n",
       "6602                 0.0                0.0                 22.75      250.80   \n",
       "\n",
       "      Flow_Rate  totalRainfall  dflowRate  Year  \n",
       "578         0.5            0.0  -1.732892  2004  \n",
       "579         0.5            0.0  -1.732892  2004  \n",
       "580         0.5            0.0  -1.732892  2004  \n",
       "581         0.5            0.2  -1.732892  2004  \n",
       "582         0.5            0.0  -1.732892  2004  \n",
       "...         ...            ...        ...   ...  \n",
       "6598        0.6            0.0  -1.632892  2020  \n",
       "6599        0.6            0.0  -1.632892  2020  \n",
       "6600        0.6            0.0  -1.632892  2020  \n",
       "6601        0.6            0.0  -1.632892  2020  \n",
       "6602        0.6            0.0  -1.632892  2020  \n",
       "\n",
       "[6025 rows x 12 columns]"
      ]
     },
     "execution_count": 16,
     "metadata": {},
     "output_type": "execute_result"
    }
   ],
   "source": [
    "LakeData['dflowRate']=LakeData['Flow_Rate']-avg_Flow_Rate_NRain\n",
    "LakeData[\"Date\"] = pd.to_datetime(LakeData[\"Date\"])\n",
    "LakeData[\"Year\"] = pd.DatetimeIndex(LakeData[\"Date\"]).year\n",
    "LakeData"
   ]
  },
  {
   "cell_type": "code",
   "execution_count": 18,
   "metadata": {},
   "outputs": [],
   "source": [
    "avg_Flow_Rate_Annually_list=[]\n",
    "davg_Flow_Rate_Annually_list=[]\n",
    "davg_Lake_Level_list=[]\n",
    "sum_RF_Anually_list=[]\n",
    "time=[2004,2005,2006,2007,2008,2009,2010,2011,2012,2013,2014,2015,2016,2017,2018,2019,2020]\n",
    "average_LakeL=[]"
   ]
  },
  {
   "cell_type": "code",
   "execution_count": 19,
   "metadata": {},
   "outputs": [],
   "source": [
    "for x in range(2004,2021):\n",
    "    LakeDataY=LakeData[~(LakeData['Year']!=x)]\n",
    "    avg_Flow_Rate_Annually=np.mean(LakeDataY['Flow_Rate'])\n",
    "    davg_Lake_Level=np.mean(LakeDataY['Lake_Level'])\n",
    "    average_LakeL.append(davg_Lake_Level)\n",
    "    davg_Flow_Rate_Annually=avg_Flow_Rate_Annually-avg_Flow_Rate\n",
    "    sum_RF_Anually=LakeDataY['totalRainfall'].sum()\n",
    "    davg_Lake_Level_list.append(davg_Lake_Level-avg_Lake_Level)\n",
    "    avg_Flow_Rate_Annually_list.append(avg_Flow_Rate_Annually)\n",
    "    davg_Flow_Rate_Annually_list.append(davg_Flow_Rate_Annually)\n",
    "    sum_RF_Anually_list.append(sum_RF_Anually)"
   ]
  },
  {
   "cell_type": "code",
   "execution_count": 20,
   "metadata": {},
   "outputs": [],
   "source": [
    "Q1data=np.transpose([avg_Flow_Rate_Annually_list,davg_Flow_Rate_Annually_list,sum_RF_Anually_list,davg_Lake_Level_list,time,average_LakeL])"
   ]
  },
  {
   "cell_type": "code",
   "execution_count": 21,
   "metadata": {},
   "outputs": [
    {
     "data": {
      "text/html": [
       "<div>\n",
       "<style scoped>\n",
       "    .dataframe tbody tr th:only-of-type {\n",
       "        vertical-align: middle;\n",
       "    }\n",
       "\n",
       "    .dataframe tbody tr th {\n",
       "        vertical-align: top;\n",
       "    }\n",
       "\n",
       "    .dataframe thead th {\n",
       "        text-align: right;\n",
       "    }\n",
       "</style>\n",
       "<table border=\"1\" class=\"dataframe\">\n",
       "  <thead>\n",
       "    <tr style=\"text-align: right;\">\n",
       "      <th></th>\n",
       "      <th>avg_Flow_Rate_Annually</th>\n",
       "      <th>davg_Flow_Rate_Annually</th>\n",
       "      <th>sum_RF_Anually</th>\n",
       "      <th>davg_Lake_Level</th>\n",
       "      <th>time</th>\n",
       "      <th>avg_LakeL</th>\n",
       "    </tr>\n",
       "  </thead>\n",
       "  <tbody>\n",
       "    <tr>\n",
       "      <th>0</th>\n",
       "      <td>3.764932</td>\n",
       "      <td>0.986727</td>\n",
       "      <td>5108.0</td>\n",
       "      <td>0.739158</td>\n",
       "      <td>2004.0</td>\n",
       "      <td>250.292630</td>\n",
       "    </tr>\n",
       "    <tr>\n",
       "      <th>1</th>\n",
       "      <td>2.833151</td>\n",
       "      <td>0.054947</td>\n",
       "      <td>5243.8</td>\n",
       "      <td>1.179158</td>\n",
       "      <td>2005.0</td>\n",
       "      <td>250.732630</td>\n",
       "    </tr>\n",
       "    <tr>\n",
       "      <th>2</th>\n",
       "      <td>3.693973</td>\n",
       "      <td>0.915768</td>\n",
       "      <td>4222.0</td>\n",
       "      <td>0.576528</td>\n",
       "      <td>2006.0</td>\n",
       "      <td>250.130000</td>\n",
       "    </tr>\n",
       "    <tr>\n",
       "      <th>3</th>\n",
       "      <td>1.489205</td>\n",
       "      <td>-1.288999</td>\n",
       "      <td>3939.6</td>\n",
       "      <td>-1.078541</td>\n",
       "      <td>2007.0</td>\n",
       "      <td>248.474932</td>\n",
       "    </tr>\n",
       "    <tr>\n",
       "      <th>4</th>\n",
       "      <td>1.536120</td>\n",
       "      <td>-1.242084</td>\n",
       "      <td>5074.8</td>\n",
       "      <td>-0.561560</td>\n",
       "      <td>2008.0</td>\n",
       "      <td>248.991913</td>\n",
       "    </tr>\n",
       "    <tr>\n",
       "      <th>5</th>\n",
       "      <td>3.073726</td>\n",
       "      <td>0.295522</td>\n",
       "      <td>5119.2</td>\n",
       "      <td>-0.002760</td>\n",
       "      <td>2009.0</td>\n",
       "      <td>249.550712</td>\n",
       "    </tr>\n",
       "    <tr>\n",
       "      <th>6</th>\n",
       "      <td>4.492877</td>\n",
       "      <td>1.714673</td>\n",
       "      <td>7134.0</td>\n",
       "      <td>1.413185</td>\n",
       "      <td>2010.0</td>\n",
       "      <td>250.966658</td>\n",
       "    </tr>\n",
       "    <tr>\n",
       "      <th>7</th>\n",
       "      <td>2.668219</td>\n",
       "      <td>-0.109985</td>\n",
       "      <td>3724.8</td>\n",
       "      <td>-0.401253</td>\n",
       "      <td>2011.0</td>\n",
       "      <td>249.152219</td>\n",
       "    </tr>\n",
       "    <tr>\n",
       "      <th>8</th>\n",
       "      <td>1.036339</td>\n",
       "      <td>-1.741865</td>\n",
       "      <td>4477.8</td>\n",
       "      <td>-3.624510</td>\n",
       "      <td>2012.0</td>\n",
       "      <td>245.928962</td>\n",
       "    </tr>\n",
       "    <tr>\n",
       "      <th>9</th>\n",
       "      <td>4.222658</td>\n",
       "      <td>1.444453</td>\n",
       "      <td>6228.6</td>\n",
       "      <td>0.687925</td>\n",
       "      <td>2013.0</td>\n",
       "      <td>250.241397</td>\n",
       "    </tr>\n",
       "    <tr>\n",
       "      <th>10</th>\n",
       "      <td>4.096932</td>\n",
       "      <td>1.318727</td>\n",
       "      <td>7237.8</td>\n",
       "      <td>0.424665</td>\n",
       "      <td>2014.0</td>\n",
       "      <td>249.978137</td>\n",
       "    </tr>\n",
       "    <tr>\n",
       "      <th>11</th>\n",
       "      <td>2.073288</td>\n",
       "      <td>-0.704916</td>\n",
       "      <td>4444.6</td>\n",
       "      <td>0.053377</td>\n",
       "      <td>2015.0</td>\n",
       "      <td>249.606849</td>\n",
       "    </tr>\n",
       "    <tr>\n",
       "      <th>12</th>\n",
       "      <td>2.485710</td>\n",
       "      <td>-0.292494</td>\n",
       "      <td>5671.8</td>\n",
       "      <td>0.022894</td>\n",
       "      <td>2016.0</td>\n",
       "      <td>249.576366</td>\n",
       "    </tr>\n",
       "    <tr>\n",
       "      <th>13</th>\n",
       "      <td>1.821068</td>\n",
       "      <td>-0.957136</td>\n",
       "      <td>4968.2</td>\n",
       "      <td>-0.432157</td>\n",
       "      <td>2017.0</td>\n",
       "      <td>249.121315</td>\n",
       "    </tr>\n",
       "    <tr>\n",
       "      <th>14</th>\n",
       "      <td>2.885014</td>\n",
       "      <td>0.106810</td>\n",
       "      <td>5041.0</td>\n",
       "      <td>0.261377</td>\n",
       "      <td>2018.0</td>\n",
       "      <td>249.814849</td>\n",
       "    </tr>\n",
       "    <tr>\n",
       "      <th>15</th>\n",
       "      <td>2.548740</td>\n",
       "      <td>-0.229464</td>\n",
       "      <td>6366.8</td>\n",
       "      <td>0.246774</td>\n",
       "      <td>2019.0</td>\n",
       "      <td>249.800247</td>\n",
       "    </tr>\n",
       "    <tr>\n",
       "      <th>16</th>\n",
       "      <td>2.253352</td>\n",
       "      <td>-0.524853</td>\n",
       "      <td>2087.6</td>\n",
       "      <td>1.017077</td>\n",
       "      <td>2020.0</td>\n",
       "      <td>250.570549</td>\n",
       "    </tr>\n",
       "  </tbody>\n",
       "</table>\n",
       "</div>"
      ],
      "text/plain": [
       "    avg_Flow_Rate_Annually  davg_Flow_Rate_Annually  sum_RF_Anually  \\\n",
       "0                 3.764932                 0.986727          5108.0   \n",
       "1                 2.833151                 0.054947          5243.8   \n",
       "2                 3.693973                 0.915768          4222.0   \n",
       "3                 1.489205                -1.288999          3939.6   \n",
       "4                 1.536120                -1.242084          5074.8   \n",
       "5                 3.073726                 0.295522          5119.2   \n",
       "6                 4.492877                 1.714673          7134.0   \n",
       "7                 2.668219                -0.109985          3724.8   \n",
       "8                 1.036339                -1.741865          4477.8   \n",
       "9                 4.222658                 1.444453          6228.6   \n",
       "10                4.096932                 1.318727          7237.8   \n",
       "11                2.073288                -0.704916          4444.6   \n",
       "12                2.485710                -0.292494          5671.8   \n",
       "13                1.821068                -0.957136          4968.2   \n",
       "14                2.885014                 0.106810          5041.0   \n",
       "15                2.548740                -0.229464          6366.8   \n",
       "16                2.253352                -0.524853          2087.6   \n",
       "\n",
       "    davg_Lake_Level    time   avg_LakeL  \n",
       "0          0.739158  2004.0  250.292630  \n",
       "1          1.179158  2005.0  250.732630  \n",
       "2          0.576528  2006.0  250.130000  \n",
       "3         -1.078541  2007.0  248.474932  \n",
       "4         -0.561560  2008.0  248.991913  \n",
       "5         -0.002760  2009.0  249.550712  \n",
       "6          1.413185  2010.0  250.966658  \n",
       "7         -0.401253  2011.0  249.152219  \n",
       "8         -3.624510  2012.0  245.928962  \n",
       "9          0.687925  2013.0  250.241397  \n",
       "10         0.424665  2014.0  249.978137  \n",
       "11         0.053377  2015.0  249.606849  \n",
       "12         0.022894  2016.0  249.576366  \n",
       "13        -0.432157  2017.0  249.121315  \n",
       "14         0.261377  2018.0  249.814849  \n",
       "15         0.246774  2019.0  249.800247  \n",
       "16         1.017077  2020.0  250.570549  "
      ]
     },
     "execution_count": 21,
     "metadata": {},
     "output_type": "execute_result"
    }
   ],
   "source": [
    "Q1data = pd.DataFrame(Q1data, columns=[\"avg_Flow_Rate_Annually\", \"davg_Flow_Rate_Annually\", \"sum_RF_Anually\",\"davg_Lake_Level\",\"time\",\"avg_LakeL\"])\n",
    "Q1data"
   ]
  },
  {
   "cell_type": "code",
   "execution_count": 22,
   "metadata": {},
   "outputs": [
    {
     "data": {
      "text/plain": [
       "<AxesSubplot:title={'center':'Histogram of All davg_Flow_Rate_Annually'}, ylabel='Frequency'>"
      ]
     },
     "execution_count": 22,
     "metadata": {},
     "output_type": "execute_result"
    },
    {
     "data": {
      "image/png": "[encoded data removed]",
      "text/plain": [
       "<Figure size 432x288 with 1 Axes>"
      ]
     },
     "metadata": {
      "needs_background": "light"
     },
     "output_type": "display_data"
    }
   ],
   "source": [
    "Q1data['davg_Flow_Rate_Annually'].plot(kind='hist',bins=5, title='Histogram of All davg_Flow_Rate_Annually',xlabel='flow rate')"
   ]
  },
  {
   "cell_type": "code",
   "execution_count": 23,
   "metadata": {},
   "outputs": [
    {
     "data": {
      "text/plain": [
       "-0.9828149741971735"
      ]
     },
     "execution_count": 23,
     "metadata": {},
     "output_type": "execute_result"
    }
   ],
   "source": [
    "kurtosis(Q1data['davg_Flow_Rate_Annually'])"
   ]
  },
  {
   "cell_type": "markdown",
   "metadata": {},
   "source": [
    "## 4.3 Time series model of each year, to see the general behavior of the lake flow rate, to if if there is any unusual behavior (ex: drought), "
   ]
  },
  {
   "cell_type": "code",
   "execution_count": 24,
   "metadata": {},
   "outputs": [
    {
     "data": {
      "text/plain": [
       "<AxesSubplot:title={'center':'Histogram of davg_Lake_Level'}, ylabel='Frequency'>"
      ]
     },
     "execution_count": 24,
     "metadata": {},
     "output_type": "execute_result"
    },
    {
     "data": {
      "image/png": "[encoded data removed]",
      "text/plain": [
       "<Figure size 432x288 with 1 Axes>"
      ]
     },
     "metadata": {
      "needs_background": "light"
     },
     "output_type": "display_data"
    }
   ],
   "source": [
    "Q1data['davg_Lake_Level'].plot(kind='hist', bins=8, title='Histogram of davg_Lake_Level')"
   ]
  },
  {
   "cell_type": "code",
   "execution_count": 25,
   "metadata": {},
   "outputs": [
    {
     "name": "stdout",
     "output_type": "stream",
     "text": [
      "Mean: 0.030666932017251222\n",
      "Median: 0.2467743761730219\n",
      "Q1: -0.4012530210870864\n",
      "Q2: 0.2467743761730219\n",
      "Q3: 0.6879250611044654\n",
      "Q4: 1.4131853350770314\n",
      "Inter-Quartile Range: 1.0891780821915518\n",
      "Standard Deviation: 1.1123456891517194\n",
      "Variance: 1.2373129321744134\n",
      "Range: 5.037695785612755\n",
      "-----------------------------------------\n"
     ]
    }
   ],
   "source": [
    "descriptive_stats(Q1data,'davg_Lake_Level')"
   ]
  },
  {
   "cell_type": "code",
   "execution_count": 26,
   "metadata": {},
   "outputs": [
    {
     "data": {
      "text/plain": [
       "[<matplotlib.lines.Line2D at 0x7fd24519be20>]"
      ]
     },
     "execution_count": 26,
     "metadata": {},
     "output_type": "execute_result"
    },
    {
     "data": {
      "image/png": "[encoded data removed]",
      "text/plain": [
       "<Figure size 432x288 with 1 Axes>"
      ]
     },
     "metadata": {
      "needs_background": "light"
     },
     "output_type": "display_data"
    }
   ],
   "source": [
    "plt.plot(Q1data['time'],Q1data['avg_LakeL'])"
   ]
  },
  {
   "cell_type": "markdown",
   "metadata": {},
   "source": [
    "## 4.4 Number of rainfall affects the flow rate or water level of the water body"
   ]
  },
  {
   "cell_type": "code",
   "execution_count": 27,
   "metadata": {},
   "outputs": [
    {
     "data": {
      "text/plain": [
       "<AxesSubplot:title={'center':'Histogram of sum_RF_Anually'}, ylabel='Frequency'>"
      ]
     },
     "execution_count": 27,
     "metadata": {},
     "output_type": "execute_result"
    },
    {
     "data": {
      "image/png": "[encoded data removed]",
      "text/plain": [
       "<Figure size 432x288 with 1 Axes>"
      ]
     },
     "metadata": {
      "needs_background": "light"
     },
     "output_type": "display_data"
    }
   ],
   "source": [
    "Q1data['sum_RF_Anually'].plot(kind='hist',bins=5, title='Histogram of sum_RF_Anually')"
   ]
  },
  {
   "cell_type": "code",
   "execution_count": 28,
   "metadata": {},
   "outputs": [
    {
     "data": {
      "text/plain": [
       "0.30176191599124724"
      ]
     },
     "execution_count": 28,
     "metadata": {},
     "output_type": "execute_result"
    }
   ],
   "source": [
    "kurtosis(Q1data['sum_RF_Anually'])"
   ]
  },
  {
   "cell_type": "code",
   "execution_count": 29,
   "metadata": {},
   "outputs": [
    {
     "data": {
      "text/plain": [
       "<AxesSubplot:title={'center':'ScatterPlot of davg_FlorRate vs Sum_RainFall'}, xlabel='sum_RF_Anually', ylabel='davg_Flow_Rate_Annually'>"
      ]
     },
     "execution_count": 29,
     "metadata": {},
     "output_type": "execute_result"
    },
    {
     "data": {
      "image/png": "[encoded data removed]",
      "text/plain": [
       "<Figure size 432x288 with 1 Axes>"
      ]
     },
     "metadata": {
      "needs_background": "light"
     },
     "output_type": "display_data"
    }
   ],
   "source": [
    "Q1data.plot.scatter(title='ScatterPlot of davg_FlorRate vs Sum_RainFall',x=\"sum_RF_Anually\",y=\"davg_Flow_Rate_Annually\")"
   ]
  },
  {
   "cell_type": "code",
   "execution_count": 30,
   "metadata": {},
   "outputs": [
    {
     "data": {
      "text/plain": [
       "<AxesSubplot:title={'center':'ScatterPlot of Lake_Level vs Sum_RainFall'}, xlabel='sum_RF_Anually', ylabel='davg_Lake_Level'>"
      ]
     },
     "execution_count": 30,
     "metadata": {},
     "output_type": "execute_result"
    },
    {
     "data": {
      "image/png": "[encoded data removed]",
      "text/plain": [
       "<Figure size 432x288 with 1 Axes>"
      ]
     },
     "metadata": {
      "needs_background": "light"
     },
     "output_type": "display_data"
    }
   ],
   "source": [
    "Q1data.plot.scatter(title='ScatterPlot of Lake_Level vs Sum_RainFall',x=\"sum_RF_Anually\",y=\"davg_Lake_Level\")"
   ]
  }
 ],
 "metadata": {
  "kernelspec": {
   "display_name": "Python 3",
   "language": "python",
   "name": "python3"
  },
  "language_info": {
   "codemirror_mode": {
    "name": "ipython",
    "version": 3
   },
   "file_extension": ".py",
   "mimetype": "text/x-python",
   "name": "python",
   "nbconvert_exporter": "python",
   "pygments_lexer": "ipython3",
   "version": "3.8.5"
  }
 },
 "nbformat": 4,
 "nbformat_minor": 4
}
